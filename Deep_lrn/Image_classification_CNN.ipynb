{
 "cells": [
  {
   "cell_type": "markdown",
   "id": "2e235458",
   "metadata": {},
   "source": [
    "[![Open in Colab](https://colab.research.google.com/assets/colab-badge.svg)](https://colab.research.google.com/github/Anutri03/BIA/blob/main/Deep_lrn/Image_classification_CNN.ipynb)\n"
   ]
  },
  {
   "cell_type": "markdown",
   "id": "07ff6554",
   "metadata": {},
   "source": []
  }
 ],
 "metadata": {
  "language_info": {
   "name": "python"
  }
 },
 "nbformat": 4,
 "nbformat_minor": 5
}
