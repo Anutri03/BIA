{
  "cells": [
    {
      "cell_type": "markdown",
      "id": "f09814cd",
      "metadata": {
        "id": "f09814cd"
      },
      "source": [
        "[![Open In Colab](https://colab.research.google.com/assets/colab-badge.svg)](https://colab.research.google.com/github/Anutri03/ML-AI-prep/blob/main/Deep_lrn/rnn/my_taxi.ipynb)\n"
      ]
    },
    {
      "cell_type": "code",
      "execution_count": 1,
      "id": "7d5e7042",
      "metadata": {
        "id": "7d5e7042"
      },
      "outputs": [],
      "source": [
        "import pandas as pd\n",
        "import numpy as np\n",
        "import matplotlib.pyplot as plt\n",
        "import seaborn as sns"
      ]
    },
    {
      "cell_type": "code",
      "execution_count": 5,
      "id": "8a8a2b14",
      "metadata": {
        "id": "8a8a2b14"
      },
      "outputs": [],
      "source": [
        "df = pd.read_csv('ny_taxi_data.csv')"
      ]
    },
    {
      "cell_type": "code",
      "execution_count": 6,
      "id": "e16cd60c",
      "metadata": {
        "id": "e16cd60c"
      },
      "outputs": [],
      "source": [
        "from sklearn.preprocessing import MinMaxScaler\n",
        "from sklearn.model_selection import train_test_split\n",
        "import tensorflow as tf\n",
        "from tensorflow import keras\n",
        "from sklearn.metrics import mean_squared_error"
      ]
    },
    {
      "cell_type": "code",
      "execution_count": 13,
      "id": "308a52c7",
      "metadata": {
        "colab": {
          "base_uri": "https://localhost:8080/",
          "height": 226
        },
        "id": "308a52c7",
        "outputId": "094168b9-89f8-4618-bb87-19181df615f1"
      },
      "outputs": [
        {
          "output_type": "execute_result",
          "data": {
            "text/plain": [
              "              id  vendor_id   pickup_datetime  dropoff_datetime  \\\n",
              "1242   id2448458          1  23-06-2016 00:11  23-06-2016 00:22   \n",
              "15337  id3811990          1  01-04-2016 00:16  01-04-2016 00:24   \n",
              "10651  id1222618          1  28-05-2016 02:04  28-05-2016 02:17   \n",
              "14080  id1794150          1  28-02-2016 21:47  28-02-2016 22:02   \n",
              "13303  id3520561          2  05-01-2016 11:31  05-01-2016 12:00   \n",
              "\n",
              "       passenger_count  pickup_longitude  pickup_latitude  dropoff_longitude  \\\n",
              "1242                 2        -73.990257        40.724895         -74.009338   \n",
              "15337                1        -73.987297        40.733479         -74.002029   \n",
              "10651                1        -73.990837        40.760750         -73.978439   \n",
              "14080                1        -73.991676        40.749638         -73.983345   \n",
              "13303                1        -73.954872        40.767300         -73.993378   \n",
              "\n",
              "       dropoff_latitude store_and_fwd_flag  \n",
              "1242          40.710392                  N  \n",
              "15337         40.745152                  N  \n",
              "10651         40.745220                  N  \n",
              "14080         40.718731                  N  \n",
              "13303         40.742119                  N  "
            ],
            "text/html": [
              "\n",
              "  <div id=\"df-f0ea8cc6-87e9-4248-b0fb-5b14de0b6306\" class=\"colab-df-container\">\n",
              "    <div>\n",
              "<style scoped>\n",
              "    .dataframe tbody tr th:only-of-type {\n",
              "        vertical-align: middle;\n",
              "    }\n",
              "\n",
              "    .dataframe tbody tr th {\n",
              "        vertical-align: top;\n",
              "    }\n",
              "\n",
              "    .dataframe thead th {\n",
              "        text-align: right;\n",
              "    }\n",
              "</style>\n",
              "<table border=\"1\" class=\"dataframe\">\n",
              "  <thead>\n",
              "    <tr style=\"text-align: right;\">\n",
              "      <th></th>\n",
              "      <th>id</th>\n",
              "      <th>vendor_id</th>\n",
              "      <th>pickup_datetime</th>\n",
              "      <th>dropoff_datetime</th>\n",
              "      <th>passenger_count</th>\n",
              "      <th>pickup_longitude</th>\n",
              "      <th>pickup_latitude</th>\n",
              "      <th>dropoff_longitude</th>\n",
              "      <th>dropoff_latitude</th>\n",
              "      <th>store_and_fwd_flag</th>\n",
              "    </tr>\n",
              "  </thead>\n",
              "  <tbody>\n",
              "    <tr>\n",
              "      <th>1242</th>\n",
              "      <td>id2448458</td>\n",
              "      <td>1</td>\n",
              "      <td>23-06-2016 00:11</td>\n",
              "      <td>23-06-2016 00:22</td>\n",
              "      <td>2</td>\n",
              "      <td>-73.990257</td>\n",
              "      <td>40.724895</td>\n",
              "      <td>-74.009338</td>\n",
              "      <td>40.710392</td>\n",
              "      <td>N</td>\n",
              "    </tr>\n",
              "    <tr>\n",
              "      <th>15337</th>\n",
              "      <td>id3811990</td>\n",
              "      <td>1</td>\n",
              "      <td>01-04-2016 00:16</td>\n",
              "      <td>01-04-2016 00:24</td>\n",
              "      <td>1</td>\n",
              "      <td>-73.987297</td>\n",
              "      <td>40.733479</td>\n",
              "      <td>-74.002029</td>\n",
              "      <td>40.745152</td>\n",
              "      <td>N</td>\n",
              "    </tr>\n",
              "    <tr>\n",
              "      <th>10651</th>\n",
              "      <td>id1222618</td>\n",
              "      <td>1</td>\n",
              "      <td>28-05-2016 02:04</td>\n",
              "      <td>28-05-2016 02:17</td>\n",
              "      <td>1</td>\n",
              "      <td>-73.990837</td>\n",
              "      <td>40.760750</td>\n",
              "      <td>-73.978439</td>\n",
              "      <td>40.745220</td>\n",
              "      <td>N</td>\n",
              "    </tr>\n",
              "    <tr>\n",
              "      <th>14080</th>\n",
              "      <td>id1794150</td>\n",
              "      <td>1</td>\n",
              "      <td>28-02-2016 21:47</td>\n",
              "      <td>28-02-2016 22:02</td>\n",
              "      <td>1</td>\n",
              "      <td>-73.991676</td>\n",
              "      <td>40.749638</td>\n",
              "      <td>-73.983345</td>\n",
              "      <td>40.718731</td>\n",
              "      <td>N</td>\n",
              "    </tr>\n",
              "    <tr>\n",
              "      <th>13303</th>\n",
              "      <td>id3520561</td>\n",
              "      <td>2</td>\n",
              "      <td>05-01-2016 11:31</td>\n",
              "      <td>05-01-2016 12:00</td>\n",
              "      <td>1</td>\n",
              "      <td>-73.954872</td>\n",
              "      <td>40.767300</td>\n",
              "      <td>-73.993378</td>\n",
              "      <td>40.742119</td>\n",
              "      <td>N</td>\n",
              "    </tr>\n",
              "  </tbody>\n",
              "</table>\n",
              "</div>\n",
              "    <div class=\"colab-df-buttons\">\n",
              "\n",
              "  <div class=\"colab-df-container\">\n",
              "    <button class=\"colab-df-convert\" onclick=\"convertToInteractive('df-f0ea8cc6-87e9-4248-b0fb-5b14de0b6306')\"\n",
              "            title=\"Convert this dataframe to an interactive table.\"\n",
              "            style=\"display:none;\">\n",
              "\n",
              "  <svg xmlns=\"http://www.w3.org/2000/svg\" height=\"24px\" viewBox=\"0 -960 960 960\">\n",
              "    <path d=\"M120-120v-720h720v720H120Zm60-500h600v-160H180v160Zm220 220h160v-160H400v160Zm0 220h160v-160H400v160ZM180-400h160v-160H180v160Zm440 0h160v-160H620v160ZM180-180h160v-160H180v160Zm440 0h160v-160H620v160Z\"/>\n",
              "  </svg>\n",
              "    </button>\n",
              "\n",
              "  <style>\n",
              "    .colab-df-container {\n",
              "      display:flex;\n",
              "      gap: 12px;\n",
              "    }\n",
              "\n",
              "    .colab-df-convert {\n",
              "      background-color: #E8F0FE;\n",
              "      border: none;\n",
              "      border-radius: 50%;\n",
              "      cursor: pointer;\n",
              "      display: none;\n",
              "      fill: #1967D2;\n",
              "      height: 32px;\n",
              "      padding: 0 0 0 0;\n",
              "      width: 32px;\n",
              "    }\n",
              "\n",
              "    .colab-df-convert:hover {\n",
              "      background-color: #E2EBFA;\n",
              "      box-shadow: 0px 1px 2px rgba(60, 64, 67, 0.3), 0px 1px 3px 1px rgba(60, 64, 67, 0.15);\n",
              "      fill: #174EA6;\n",
              "    }\n",
              "\n",
              "    .colab-df-buttons div {\n",
              "      margin-bottom: 4px;\n",
              "    }\n",
              "\n",
              "    [theme=dark] .colab-df-convert {\n",
              "      background-color: #3B4455;\n",
              "      fill: #D2E3FC;\n",
              "    }\n",
              "\n",
              "    [theme=dark] .colab-df-convert:hover {\n",
              "      background-color: #434B5C;\n",
              "      box-shadow: 0px 1px 3px 1px rgba(0, 0, 0, 0.15);\n",
              "      filter: drop-shadow(0px 1px 2px rgba(0, 0, 0, 0.3));\n",
              "      fill: #FFFFFF;\n",
              "    }\n",
              "  </style>\n",
              "\n",
              "    <script>\n",
              "      const buttonEl =\n",
              "        document.querySelector('#df-f0ea8cc6-87e9-4248-b0fb-5b14de0b6306 button.colab-df-convert');\n",
              "      buttonEl.style.display =\n",
              "        google.colab.kernel.accessAllowed ? 'block' : 'none';\n",
              "\n",
              "      async function convertToInteractive(key) {\n",
              "        const element = document.querySelector('#df-f0ea8cc6-87e9-4248-b0fb-5b14de0b6306');\n",
              "        const dataTable =\n",
              "          await google.colab.kernel.invokeFunction('convertToInteractive',\n",
              "                                                    [key], {});\n",
              "        if (!dataTable) return;\n",
              "\n",
              "        const docLinkHtml = 'Like what you see? Visit the ' +\n",
              "          '<a target=\"_blank\" href=https://colab.research.google.com/notebooks/data_table.ipynb>data table notebook</a>'\n",
              "          + ' to learn more about interactive tables.';\n",
              "        element.innerHTML = '';\n",
              "        dataTable['output_type'] = 'display_data';\n",
              "        await google.colab.output.renderOutput(dataTable, element);\n",
              "        const docLink = document.createElement('div');\n",
              "        docLink.innerHTML = docLinkHtml;\n",
              "        element.appendChild(docLink);\n",
              "      }\n",
              "    </script>\n",
              "  </div>\n",
              "\n",
              "\n",
              "    <div id=\"df-0cc7d9d6-310e-49dd-a5e0-26c23904576b\">\n",
              "      <button class=\"colab-df-quickchart\" onclick=\"quickchart('df-0cc7d9d6-310e-49dd-a5e0-26c23904576b')\"\n",
              "                title=\"Suggest charts\"\n",
              "                style=\"display:none;\">\n",
              "\n",
              "<svg xmlns=\"http://www.w3.org/2000/svg\" height=\"24px\"viewBox=\"0 0 24 24\"\n",
              "     width=\"24px\">\n",
              "    <g>\n",
              "        <path d=\"M19 3H5c-1.1 0-2 .9-2 2v14c0 1.1.9 2 2 2h14c1.1 0 2-.9 2-2V5c0-1.1-.9-2-2-2zM9 17H7v-7h2v7zm4 0h-2V7h2v10zm4 0h-2v-4h2v4z\"/>\n",
              "    </g>\n",
              "</svg>\n",
              "      </button>\n",
              "\n",
              "<style>\n",
              "  .colab-df-quickchart {\n",
              "      --bg-color: #E8F0FE;\n",
              "      --fill-color: #1967D2;\n",
              "      --hover-bg-color: #E2EBFA;\n",
              "      --hover-fill-color: #174EA6;\n",
              "      --disabled-fill-color: #AAA;\n",
              "      --disabled-bg-color: #DDD;\n",
              "  }\n",
              "\n",
              "  [theme=dark] .colab-df-quickchart {\n",
              "      --bg-color: #3B4455;\n",
              "      --fill-color: #D2E3FC;\n",
              "      --hover-bg-color: #434B5C;\n",
              "      --hover-fill-color: #FFFFFF;\n",
              "      --disabled-bg-color: #3B4455;\n",
              "      --disabled-fill-color: #666;\n",
              "  }\n",
              "\n",
              "  .colab-df-quickchart {\n",
              "    background-color: var(--bg-color);\n",
              "    border: none;\n",
              "    border-radius: 50%;\n",
              "    cursor: pointer;\n",
              "    display: none;\n",
              "    fill: var(--fill-color);\n",
              "    height: 32px;\n",
              "    padding: 0;\n",
              "    width: 32px;\n",
              "  }\n",
              "\n",
              "  .colab-df-quickchart:hover {\n",
              "    background-color: var(--hover-bg-color);\n",
              "    box-shadow: 0 1px 2px rgba(60, 64, 67, 0.3), 0 1px 3px 1px rgba(60, 64, 67, 0.15);\n",
              "    fill: var(--button-hover-fill-color);\n",
              "  }\n",
              "\n",
              "  .colab-df-quickchart-complete:disabled,\n",
              "  .colab-df-quickchart-complete:disabled:hover {\n",
              "    background-color: var(--disabled-bg-color);\n",
              "    fill: var(--disabled-fill-color);\n",
              "    box-shadow: none;\n",
              "  }\n",
              "\n",
              "  .colab-df-spinner {\n",
              "    border: 2px solid var(--fill-color);\n",
              "    border-color: transparent;\n",
              "    border-bottom-color: var(--fill-color);\n",
              "    animation:\n",
              "      spin 1s steps(1) infinite;\n",
              "  }\n",
              "\n",
              "  @keyframes spin {\n",
              "    0% {\n",
              "      border-color: transparent;\n",
              "      border-bottom-color: var(--fill-color);\n",
              "      border-left-color: var(--fill-color);\n",
              "    }\n",
              "    20% {\n",
              "      border-color: transparent;\n",
              "      border-left-color: var(--fill-color);\n",
              "      border-top-color: var(--fill-color);\n",
              "    }\n",
              "    30% {\n",
              "      border-color: transparent;\n",
              "      border-left-color: var(--fill-color);\n",
              "      border-top-color: var(--fill-color);\n",
              "      border-right-color: var(--fill-color);\n",
              "    }\n",
              "    40% {\n",
              "      border-color: transparent;\n",
              "      border-right-color: var(--fill-color);\n",
              "      border-top-color: var(--fill-color);\n",
              "    }\n",
              "    60% {\n",
              "      border-color: transparent;\n",
              "      border-right-color: var(--fill-color);\n",
              "    }\n",
              "    80% {\n",
              "      border-color: transparent;\n",
              "      border-right-color: var(--fill-color);\n",
              "      border-bottom-color: var(--fill-color);\n",
              "    }\n",
              "    90% {\n",
              "      border-color: transparent;\n",
              "      border-bottom-color: var(--fill-color);\n",
              "    }\n",
              "  }\n",
              "</style>\n",
              "\n",
              "      <script>\n",
              "        async function quickchart(key) {\n",
              "          const quickchartButtonEl =\n",
              "            document.querySelector('#' + key + ' button');\n",
              "          quickchartButtonEl.disabled = true;  // To prevent multiple clicks.\n",
              "          quickchartButtonEl.classList.add('colab-df-spinner');\n",
              "          try {\n",
              "            const charts = await google.colab.kernel.invokeFunction(\n",
              "                'suggestCharts', [key], {});\n",
              "          } catch (error) {\n",
              "            console.error('Error during call to suggestCharts:', error);\n",
              "          }\n",
              "          quickchartButtonEl.classList.remove('colab-df-spinner');\n",
              "          quickchartButtonEl.classList.add('colab-df-quickchart-complete');\n",
              "        }\n",
              "        (() => {\n",
              "          let quickchartButtonEl =\n",
              "            document.querySelector('#df-0cc7d9d6-310e-49dd-a5e0-26c23904576b button');\n",
              "          quickchartButtonEl.style.display =\n",
              "            google.colab.kernel.accessAllowed ? 'block' : 'none';\n",
              "        })();\n",
              "      </script>\n",
              "    </div>\n",
              "\n",
              "    </div>\n",
              "  </div>\n"
            ],
            "application/vnd.google.colaboratory.intrinsic+json": {
              "type": "dataframe",
              "repr_error": "0"
            }
          },
          "metadata": {},
          "execution_count": 13
        }
      ],
      "source": [
        "df.sample(5)"
      ]
    },
    {
      "cell_type": "code",
      "source": [
        "data = df['passenger_count'].values"
      ],
      "metadata": {
        "id": "lNZDDK5oaY1a"
      },
      "id": "lNZDDK5oaY1a",
      "execution_count": 8,
      "outputs": []
    },
    {
      "cell_type": "code",
      "source": [
        "data"
      ],
      "metadata": {
        "colab": {
          "base_uri": "https://localhost:8080/"
        },
        "id": "Py1QULggag6q",
        "outputId": "76e1f422-e7a5-47d7-d1b6-a603e357f705"
      },
      "id": "Py1QULggag6q",
      "execution_count": 9,
      "outputs": [
        {
          "output_type": "execute_result",
          "data": {
            "text/plain": [
              "array([1, 1, 1, ..., 1, 1, 1])"
            ]
          },
          "metadata": {},
          "execution_count": 9
        }
      ]
    },
    {
      "cell_type": "code",
      "source": [
        "scaler = MinMaxScaler()\n",
        "data = scaler.fit_transform(data.reshape(-1,1))"
      ],
      "metadata": {
        "id": "Jcgot84RahaP"
      },
      "id": "Jcgot84RahaP",
      "execution_count": 10,
      "outputs": []
    },
    {
      "cell_type": "code",
      "source": [
        "data"
      ],
      "metadata": {
        "colab": {
          "base_uri": "https://localhost:8080/"
        },
        "id": "iq7y_WrSaujI",
        "outputId": "5a4812a5-c1e8-4017-fada-05acb5589aaa"
      },
      "id": "iq7y_WrSaujI",
      "execution_count": 11,
      "outputs": [
        {
          "output_type": "execute_result",
          "data": {
            "text/plain": [
              "array([[0.],\n",
              "       [0.],\n",
              "       [0.],\n",
              "       ...,\n",
              "       [0.],\n",
              "       [0.],\n",
              "       [0.]])"
            ]
          },
          "metadata": {},
          "execution_count": 11
        }
      ]
    },
    {
      "cell_type": "code",
      "source": [
        "seq_len = 5\n",
        "seq = []\n",
        "target = []"
      ],
      "metadata": {
        "id": "V61BNJF5bWOG"
      },
      "id": "V61BNJF5bWOG",
      "execution_count": 14,
      "outputs": []
    },
    {
      "cell_type": "code",
      "source": [
        "for i in range(len(data)-seq_len):\n",
        "  seq.append(data[i:i+seq_len])\n",
        "  target.append(data[i+seq_len])"
      ],
      "metadata": {
        "id": "R_HuPad1b3sc"
      },
      "id": "R_HuPad1b3sc",
      "execution_count": 15,
      "outputs": []
    },
    {
      "cell_type": "code",
      "source": [
        "target = np.array(target)\n",
        "seq = np.array(seq)"
      ],
      "metadata": {
        "id": "uXB1oOt4dEM9"
      },
      "id": "uXB1oOt4dEM9",
      "execution_count": 18,
      "outputs": []
    },
    {
      "cell_type": "code",
      "source": [
        "X_train, X_test, y_train, y_test = train_test_split(seq, target, test_size=0.2, random_state=42)"
      ],
      "metadata": {
        "id": "aU48FEFBdIAw"
      },
      "id": "aU48FEFBdIAw",
      "execution_count": 19,
      "outputs": []
    },
    {
      "cell_type": "markdown",
      "source": [
        "- Build RNN and Train RNN"
      ],
      "metadata": {
        "id": "ECgKi4fUd3Gj"
      },
      "id": "ECgKi4fUd3Gj"
    },
    {
      "cell_type": "code",
      "source": [
        "model_rnn = keras.Sequential(name = 'RNN')\n",
        "model_rnn.add(keras.layers.SimpleRNN(units=100,activation='relu',input_shape=(X_train.shape[1],1)))\n",
        "model_rnn.add(keras.layers.Dense(units=1))\n",
        "model_rnn.compile(optimizer='adam',loss='mse')"
      ],
      "metadata": {
        "id": "7SazFobid8X3",
        "outputId": "29f8c46d-86a3-4758-fee0-dc72c90c00bb",
        "colab": {
          "base_uri": "https://localhost:8080/"
        }
      },
      "id": "7SazFobid8X3",
      "execution_count": 20,
      "outputs": [
        {
          "output_type": "stream",
          "name": "stderr",
          "text": [
            "/usr/local/lib/python3.11/dist-packages/keras/src/layers/rnn/rnn.py:200: UserWarning: Do not pass an `input_shape`/`input_dim` argument to a layer. When using Sequential models, prefer using an `Input(shape)` object as the first layer in the model instead.\n",
            "  super().__init__(**kwargs)\n"
          ]
        }
      ]
    },
    {
      "cell_type": "code",
      "source": [
        "model_rnn.fit(X_train,y_train,epochs=10,batch_size=32,validation_data=(X_test,y_test))"
      ],
      "metadata": {
        "id": "zln8sVM_eeYa",
        "outputId": "4bf83e52-0334-47ca-ec86-2ef74b5a6605",
        "colab": {
          "base_uri": "https://localhost:8080/"
        }
      },
      "id": "zln8sVM_eeYa",
      "execution_count": 21,
      "outputs": [
        {
          "output_type": "stream",
          "name": "stdout",
          "text": [
            "Epoch 1/10\n",
            "\u001b[1m403/403\u001b[0m \u001b[32m━━━━━━━━━━━━━━━━━━━━\u001b[0m\u001b[37m\u001b[0m \u001b[1m5s\u001b[0m 6ms/step - loss: 0.0727 - val_loss: 0.0671\n",
            "Epoch 2/10\n",
            "\u001b[1m403/403\u001b[0m \u001b[32m━━━━━━━━━━━━━━━━━━━━\u001b[0m\u001b[37m\u001b[0m \u001b[1m3s\u001b[0m 3ms/step - loss: 0.0713 - val_loss: 0.0679\n",
            "Epoch 3/10\n",
            "\u001b[1m403/403\u001b[0m \u001b[32m━━━━━━━━━━━━━━━━━━━━\u001b[0m\u001b[37m\u001b[0m \u001b[1m1s\u001b[0m 3ms/step - loss: 0.0716 - val_loss: 0.0671\n",
            "Epoch 4/10\n",
            "\u001b[1m403/403\u001b[0m \u001b[32m━━━━━━━━━━━━━━━━━━━━\u001b[0m\u001b[37m\u001b[0m \u001b[1m1s\u001b[0m 3ms/step - loss: 0.0698 - val_loss: 0.0669\n",
            "Epoch 5/10\n",
            "\u001b[1m403/403\u001b[0m \u001b[32m━━━━━━━━━━━━━━━━━━━━\u001b[0m\u001b[37m\u001b[0m \u001b[1m1s\u001b[0m 3ms/step - loss: 0.0694 - val_loss: 0.0672\n",
            "Epoch 6/10\n",
            "\u001b[1m403/403\u001b[0m \u001b[32m━━━━━━━━━━━━━━━━━━━━\u001b[0m\u001b[37m\u001b[0m \u001b[1m2s\u001b[0m 3ms/step - loss: 0.0713 - val_loss: 0.0671\n",
            "Epoch 7/10\n",
            "\u001b[1m403/403\u001b[0m \u001b[32m━━━━━━━━━━━━━━━━━━━━\u001b[0m\u001b[37m\u001b[0m \u001b[1m1s\u001b[0m 3ms/step - loss: 0.0671 - val_loss: 0.0669\n",
            "Epoch 8/10\n",
            "\u001b[1m403/403\u001b[0m \u001b[32m━━━━━━━━━━━━━━━━━━━━\u001b[0m\u001b[37m\u001b[0m \u001b[1m1s\u001b[0m 3ms/step - loss: 0.0703 - val_loss: 0.0672\n",
            "Epoch 9/10\n",
            "\u001b[1m403/403\u001b[0m \u001b[32m━━━━━━━━━━━━━━━━━━━━\u001b[0m\u001b[37m\u001b[0m \u001b[1m1s\u001b[0m 3ms/step - loss: 0.0722 - val_loss: 0.0669\n",
            "Epoch 10/10\n",
            "\u001b[1m403/403\u001b[0m \u001b[32m━━━━━━━━━━━━━━━━━━━━\u001b[0m\u001b[37m\u001b[0m \u001b[1m2s\u001b[0m 3ms/step - loss: 0.0702 - val_loss: 0.0671\n"
          ]
        },
        {
          "output_type": "execute_result",
          "data": {
            "text/plain": [
              "<keras.src.callbacks.history.History at 0x78d84c32c510>"
            ]
          },
          "metadata": {},
          "execution_count": 21
        }
      ]
    },
    {
      "cell_type": "markdown",
      "source": [
        "- Build and Train LSTM model"
      ],
      "metadata": {
        "id": "sUIa2LeZe8B9"
      },
      "id": "sUIa2LeZe8B9"
    },
    {
      "cell_type": "code",
      "source": [
        "model_lstm = keras.Sequential(name = 'LSTM')\n",
        "model_lstm.add(keras.layers.LSTM(units=100,activation='relu',input_shape=(X_train.shape[1],1)))\n",
        "model_lstm.add(keras.layers.Dense(units=1))\n",
        "model_lstm.compile(optimizer='adam',loss='mse')"
      ],
      "metadata": {
        "id": "Ul8hKNZae_jp",
        "outputId": "4dbc0cb5-5806-4943-abf9-6495f181eda6",
        "colab": {
          "base_uri": "https://localhost:8080/"
        }
      },
      "id": "Ul8hKNZae_jp",
      "execution_count": 24,
      "outputs": [
        {
          "output_type": "stream",
          "name": "stderr",
          "text": [
            "/usr/local/lib/python3.11/dist-packages/keras/src/layers/rnn/rnn.py:200: UserWarning: Do not pass an `input_shape`/`input_dim` argument to a layer. When using Sequential models, prefer using an `Input(shape)` object as the first layer in the model instead.\n",
            "  super().__init__(**kwargs)\n"
          ]
        }
      ]
    },
    {
      "cell_type": "code",
      "source": [
        "model_lstm.fit(X_train,y_train,epochs=10,batch_size=32,validation_data=(X_test,y_test))"
      ],
      "metadata": {
        "id": "juXwdKOpfPSX",
        "outputId": "0caa4b9e-2c4b-4329-c566-d91b15ce4170",
        "colab": {
          "base_uri": "https://localhost:8080/"
        }
      },
      "id": "juXwdKOpfPSX",
      "execution_count": 25,
      "outputs": [
        {
          "output_type": "stream",
          "name": "stdout",
          "text": [
            "Epoch 1/10\n",
            "\u001b[1m403/403\u001b[0m \u001b[32m━━━━━━━━━━━━━━━━━━━━\u001b[0m\u001b[37m\u001b[0m \u001b[1m6s\u001b[0m 7ms/step - loss: 0.0763 - val_loss: 0.0669\n",
            "Epoch 2/10\n",
            "\u001b[1m403/403\u001b[0m \u001b[32m━━━━━━━━━━━━━━━━━━━━\u001b[0m\u001b[37m\u001b[0m \u001b[1m3s\u001b[0m 3ms/step - loss: 0.0707 - val_loss: 0.0669\n",
            "Epoch 3/10\n",
            "\u001b[1m403/403\u001b[0m \u001b[32m━━━━━━━━━━━━━━━━━━━━\u001b[0m\u001b[37m\u001b[0m \u001b[1m1s\u001b[0m 3ms/step - loss: 0.0732 - val_loss: 0.0670\n",
            "Epoch 4/10\n",
            "\u001b[1m403/403\u001b[0m \u001b[32m━━━━━━━━━━━━━━━━━━━━\u001b[0m\u001b[37m\u001b[0m \u001b[1m3s\u001b[0m 3ms/step - loss: 0.0708 - val_loss: 0.0670\n",
            "Epoch 5/10\n",
            "\u001b[1m403/403\u001b[0m \u001b[32m━━━━━━━━━━━━━━━━━━━━\u001b[0m\u001b[37m\u001b[0m \u001b[1m2s\u001b[0m 4ms/step - loss: 0.0704 - val_loss: 0.0669\n",
            "Epoch 6/10\n",
            "\u001b[1m403/403\u001b[0m \u001b[32m━━━━━━━━━━━━━━━━━━━━\u001b[0m\u001b[37m\u001b[0m \u001b[1m2s\u001b[0m 3ms/step - loss: 0.0701 - val_loss: 0.0671\n",
            "Epoch 7/10\n",
            "\u001b[1m403/403\u001b[0m \u001b[32m━━━━━━━━━━━━━━━━━━━━\u001b[0m\u001b[37m\u001b[0m \u001b[1m1s\u001b[0m 3ms/step - loss: 0.0710 - val_loss: 0.0669\n",
            "Epoch 8/10\n",
            "\u001b[1m403/403\u001b[0m \u001b[32m━━━━━━━━━━━━━━━━━━━━\u001b[0m\u001b[37m\u001b[0m \u001b[1m1s\u001b[0m 3ms/step - loss: 0.0708 - val_loss: 0.0670\n",
            "Epoch 9/10\n",
            "\u001b[1m403/403\u001b[0m \u001b[32m━━━━━━━━━━━━━━━━━━━━\u001b[0m\u001b[37m\u001b[0m \u001b[1m3s\u001b[0m 3ms/step - loss: 0.0687 - val_loss: 0.0670\n",
            "Epoch 10/10\n",
            "\u001b[1m403/403\u001b[0m \u001b[32m━━━━━━━━━━━━━━━━━━━━\u001b[0m\u001b[37m\u001b[0m \u001b[1m1s\u001b[0m 3ms/step - loss: 0.0702 - val_loss: 0.0669\n"
          ]
        },
        {
          "output_type": "execute_result",
          "data": {
            "text/plain": [
              "<keras.src.callbacks.history.History at 0x78d84c510d10>"
            ]
          },
          "metadata": {},
          "execution_count": 25
        }
      ]
    },
    {
      "cell_type": "markdown",
      "source": [
        "- GRU"
      ],
      "metadata": {
        "id": "sf_1L2pzhfai"
      },
      "id": "sf_1L2pzhfai"
    },
    {
      "cell_type": "code",
      "source": [
        "model_gru = keras.Sequential(name = 'GRU')\n",
        "model_gru.add(keras.layers.GRU(units=100,activation='relu',input_shape=(X_train.shape[1],1)))\n",
        "model_gru.add(keras.layers.Dense(units=1))\n",
        "model_gru.compile(optimizer='adam',loss='mse')"
      ],
      "metadata": {
        "id": "LiR69gtBfQ-v",
        "outputId": "79d82d9a-4bc3-4d2e-9779-cc7831b81cae",
        "colab": {
          "base_uri": "https://localhost:8080/"
        }
      },
      "id": "LiR69gtBfQ-v",
      "execution_count": 26,
      "outputs": [
        {
          "output_type": "stream",
          "name": "stderr",
          "text": [
            "/usr/local/lib/python3.11/dist-packages/keras/src/layers/rnn/rnn.py:200: UserWarning: Do not pass an `input_shape`/`input_dim` argument to a layer. When using Sequential models, prefer using an `Input(shape)` object as the first layer in the model instead.\n",
            "  super().__init__(**kwargs)\n"
          ]
        }
      ]
    },
    {
      "cell_type": "code",
      "source": [
        "model_gru.fit(X_train,y_train,epochs=10,batch_size=32,validation_data=(X_test,y_test))"
      ],
      "metadata": {
        "id": "rjhZFGkRhbZl",
        "outputId": "5c106df2-0b89-48f0-ae81-c49ff3717612",
        "colab": {
          "base_uri": "https://localhost:8080/"
        }
      },
      "id": "rjhZFGkRhbZl",
      "execution_count": 28,
      "outputs": [
        {
          "output_type": "stream",
          "name": "stdout",
          "text": [
            "Epoch 1/10\n",
            "\u001b[1m403/403\u001b[0m \u001b[32m━━━━━━━━━━━━━━━━━━━━\u001b[0m\u001b[37m\u001b[0m \u001b[1m6s\u001b[0m 9ms/step - loss: 0.0728 - val_loss: 0.0673\n",
            "Epoch 2/10\n",
            "\u001b[1m403/403\u001b[0m \u001b[32m━━━━━━━━━━━━━━━━━━━━\u001b[0m\u001b[37m\u001b[0m \u001b[1m2s\u001b[0m 3ms/step - loss: 0.0683 - val_loss: 0.0670\n",
            "Epoch 3/10\n",
            "\u001b[1m403/403\u001b[0m \u001b[32m━━━━━━━━━━━━━━━━━━━━\u001b[0m\u001b[37m\u001b[0m \u001b[1m1s\u001b[0m 3ms/step - loss: 0.0717 - val_loss: 0.0670\n",
            "Epoch 4/10\n",
            "\u001b[1m403/403\u001b[0m \u001b[32m━━━━━━━━━━━━━━━━━━━━\u001b[0m\u001b[37m\u001b[0m \u001b[1m1s\u001b[0m 3ms/step - loss: 0.0692 - val_loss: 0.0671\n",
            "Epoch 5/10\n",
            "\u001b[1m403/403\u001b[0m \u001b[32m━━━━━━━━━━━━━━━━━━━━\u001b[0m\u001b[37m\u001b[0m \u001b[1m3s\u001b[0m 3ms/step - loss: 0.0677 - val_loss: 0.0670\n",
            "Epoch 6/10\n",
            "\u001b[1m403/403\u001b[0m \u001b[32m━━━━━━━━━━━━━━━━━━━━\u001b[0m\u001b[37m\u001b[0m \u001b[1m1s\u001b[0m 3ms/step - loss: 0.0698 - val_loss: 0.0669\n",
            "Epoch 7/10\n",
            "\u001b[1m403/403\u001b[0m \u001b[32m━━━━━━━━━━━━━━━━━━━━\u001b[0m\u001b[37m\u001b[0m \u001b[1m1s\u001b[0m 3ms/step - loss: 0.0729 - val_loss: 0.0670\n",
            "Epoch 8/10\n",
            "\u001b[1m403/403\u001b[0m \u001b[32m━━━━━━━━━━━━━━━━━━━━\u001b[0m\u001b[37m\u001b[0m \u001b[1m2s\u001b[0m 4ms/step - loss: 0.0687 - val_loss: 0.0670\n",
            "Epoch 9/10\n",
            "\u001b[1m403/403\u001b[0m \u001b[32m━━━━━━━━━━━━━━━━━━━━\u001b[0m\u001b[37m\u001b[0m \u001b[1m2s\u001b[0m 4ms/step - loss: 0.0703 - val_loss: 0.0669\n",
            "Epoch 10/10\n",
            "\u001b[1m403/403\u001b[0m \u001b[32m━━━━━━━━━━━━━━━━━━━━\u001b[0m\u001b[37m\u001b[0m \u001b[1m2s\u001b[0m 3ms/step - loss: 0.0697 - val_loss: 0.0671\n"
          ]
        },
        {
          "output_type": "execute_result",
          "data": {
            "text/plain": [
              "<keras.src.callbacks.history.History at 0x78d84011c410>"
            ]
          },
          "metadata": {},
          "execution_count": 28
        }
      ]
    },
    {
      "cell_type": "code",
      "source": [
        "def evaluate_model(model, X_test, y_test):\n",
        "    X_test_reshaped = X_test.reshape(X_test.shape[0], X_test.shape[1], 1)\n",
        "    y_pred = model.predict(X_test_reshaped)\n",
        "    y_pred_inverse = scaler.inverse_transform(y_pred)\n",
        "    y_test_inverse = scaler.inverse_transform(y_test.reshape(-1, 1))\n",
        "    mse = mean_squared_error(y_test_inverse, y_pred_inverse)\n",
        "    return mse"
      ],
      "metadata": {
        "id": "Vi5Df6jUhn_N"
      },
      "id": "Vi5Df6jUhn_N",
      "execution_count": 30,
      "outputs": []
    },
    {
      "cell_type": "code",
      "source": [
        "from math import e\n",
        "mse_rnn = evaluate_model(model_rnn,X_test,y_test)\n",
        "mse_lstm = evaluate_model(model_lstm,X_test,y_test)\n",
        "mse_gru = evaluate_model(model_gru,X_test,y_test)"
      ],
      "metadata": {
        "id": "0NgwAnd6h9j1",
        "outputId": "197e427a-b445-424f-920d-e553d5b9ae10",
        "colab": {
          "base_uri": "https://localhost:8080/"
        }
      },
      "id": "0NgwAnd6h9j1",
      "execution_count": 33,
      "outputs": [
        {
          "output_type": "stream",
          "name": "stdout",
          "text": [
            "\u001b[1m101/101\u001b[0m \u001b[32m━━━━━━━━━━━━━━━━━━━━\u001b[0m\u001b[37m\u001b[0m \u001b[1m1s\u001b[0m 4ms/step\n",
            "\u001b[1m101/101\u001b[0m \u001b[32m━━━━━━━━━━━━━━━━━━━━\u001b[0m\u001b[37m\u001b[0m \u001b[1m2s\u001b[0m 11ms/step\n",
            "\u001b[1m101/101\u001b[0m \u001b[32m━━━━━━━━━━━━━━━━━━━━\u001b[0m\u001b[37m\u001b[0m \u001b[1m1s\u001b[0m 5ms/step\n"
          ]
        }
      ]
    },
    {
      "cell_type": "code",
      "source": [
        "mse_rnn , mse_lstm , mse_gru"
      ],
      "metadata": {
        "id": "PmQVdzT-iNR2",
        "outputId": "cd0421ba-905c-4757-c1e3-1201b97e4dcf",
        "colab": {
          "base_uri": "https://localhost:8080/"
        }
      },
      "id": "PmQVdzT-iNR2",
      "execution_count": 35,
      "outputs": [
        {
          "output_type": "execute_result",
          "data": {
            "text/plain": [
              "(1.6767291352852731, 1.6771725936603348, 1.6763986865549487)"
            ]
          },
          "metadata": {},
          "execution_count": 35
        }
      ]
    },
    {
      "cell_type": "code",
      "source": [],
      "metadata": {
        "id": "-FjT4GXjixV4"
      },
      "id": "-FjT4GXjixV4",
      "execution_count": null,
      "outputs": []
    }
  ],
  "metadata": {
    "kernelspec": {
      "display_name": "Python 3",
      "name": "python3"
    },
    "language_info": {
      "codemirror_mode": {
        "name": "ipython",
        "version": 3
      },
      "file_extension": ".py",
      "mimetype": "text/x-python",
      "name": "python",
      "nbconvert_exporter": "python",
      "pygments_lexer": "ipython3",
      "version": "3.10.16"
    },
    "colab": {
      "provenance": [],
      "gpuType": "T4"
    },
    "accelerator": "GPU"
  },
  "nbformat": 4,
  "nbformat_minor": 5
}