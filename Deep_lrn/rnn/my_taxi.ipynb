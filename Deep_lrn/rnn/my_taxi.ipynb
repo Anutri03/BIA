{
 "cells": [
  {
   "cell_type": "markdown",
   "id": "f09814cd",
   "metadata": {},
   "source": [
    "[![Open In Colab](https://colab.research.google.com/assets/colab-badge.svg)](https://colab.research.google.com/github/Anutri03/BIA/blob/main/Deep_lrn/rnn/my_taxi.ipynb)\n"
   ]
  },
  {
   "cell_type": "markdown",
   "id": "3d3f43be",
   "metadata": {},
   "source": []
  }
 ],
 "metadata": {
  "language_info": {
   "name": "python"
  }
 },
 "nbformat": 4,
 "nbformat_minor": 5
}
