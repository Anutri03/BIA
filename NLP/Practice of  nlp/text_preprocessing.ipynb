{
  "cells": [
    {
      "cell_type": "markdown",
      "id": "06ded25e",
      "metadata": {
        "id": "06ded25e"
      },
      "source": [
        "[![Open In Colab](https://colab.research.google.com/assets/colab-badge.svg)](https://colab.research.google.com/github/Anutri03/ML-AI-prep/blob/main/NLP/Practice%20of%20%20nlp/text_preprocessing.ipynb)\n"
      ]
    },
    {
      "cell_type": "code",
      "source": [
        "!pip install nltk"
      ],
      "metadata": {
        "colab": {
          "base_uri": "https://localhost:8080/"
        },
        "id": "BvZEccghrlsv",
        "outputId": "038944e0-9af4-4a6e-eca8-1aea61ca29f6"
      },
      "id": "BvZEccghrlsv",
      "execution_count": 1,
      "outputs": [
        {
          "output_type": "stream",
          "name": "stdout",
          "text": [
            "Requirement already satisfied: nltk in /usr/local/lib/python3.11/dist-packages (3.9.1)\n",
            "Requirement already satisfied: click in /usr/local/lib/python3.11/dist-packages (from nltk) (8.1.8)\n",
            "Requirement already satisfied: joblib in /usr/local/lib/python3.11/dist-packages (from nltk) (1.5.0)\n",
            "Requirement already satisfied: regex>=2021.8.3 in /usr/local/lib/python3.11/dist-packages (from nltk) (2024.11.6)\n",
            "Requirement already satisfied: tqdm in /usr/local/lib/python3.11/dist-packages (from nltk) (4.67.1)\n"
          ]
        }
      ]
    },
    {
      "cell_type": "code",
      "source": [
        "corpus = \"\"\"\n",
        "Narendra Damodardas Modi[a] (born 17 September 1950) is an Indian politician who has served as the prime minister of India since 2014. Modi was the chief minister of Gujarat from 2001 to 2014 and is the member of parliament (MP) for Varanasi. He is a member of the Bharatiya Janata Party (BJP) and of the Rashtriya Swayamsevak Sangh (RSS), a right-wing Hindu nationalist paramilitary volunteer organisation. He is the longest-serving prime minister outside the Indian National Congress.\n",
        "\n",
        "Modi was born and raised in Vadnagar, Gujarat, where he completed his secondary education. He was introduced to the RSS at the age of eight. Modi became a full-time worker for the RSS in Gujarat in 1971. The RSS assigned him to the BJP in 1985 and he rose through the party hierarchy, becoming general secretary in 1998.[b] In 2001, Modi was appointed chief minister of Gujarat and elected to the legislative assembly soon after. His administration is considered complicit in the 2002 Gujarat riots,[c] and has been criticised for its management of the crisis. According to official records, a little over 1,000 people were killed, three-quarters of whom were Muslim; independent sources estimated 2,000 deaths, mostly Muslim.[12] A Special Investigation Team appointed by the Supreme Court of India in 2012 found no evidence to initiate prosecution proceedings against him.[d] While his policies as chief minister were credited for encouraging economic growth, his administration was criticised for failing to significantly improve health, poverty and education indices in the state.[e]\n",
        "\n",
        "In the 2014 Indian general election, Modi led the BJP to a parliamentary majority, the first for a party since 1984. His administration increased direct foreign investment, and reduced spending on healthcare, education, and social-welfare programmes. Modi began a high-profile sanitation campaign, and weakened or abolished environmental and labour laws. His demonetisation of banknotes in 2016 and introduction of the Goods and Services Tax in 2017 sparked controversy. Modi's administration launched the 2019 Balakot airstrike against an alleged terrorist training camp in Pakistan. The airstrike failed,[15][16] but the action had nationalist appeal.[17] Modi's party won the 2019 general election which followed. In its second term, his administration revoked the special status of Jammu and Kashmir, and introduced the Citizenship Amendment Act, prompting widespread protests, and spurring the 2020 Delhi riots in which Muslims were brutalised and killed by Hindu mobs.[18][19][20] Three controversial farm laws led to sit-ins by farmers across the country, eventually causing their formal repeal. Modi oversaw India's response to the COVID-19 pandemic, during which, according to the World Health Organization's estimates, 4.7 million Indians died.[21][22] In the 2024 general election, Modi's party lost its majority in the lower house of Parliament and formed a government leading the National Democratic Alliance coalition. Modi presided over the 2025 India–Pakistan conflict, which resulted in a ceasefire.\n",
        "\n",
        "Under Modi's tenure, India has experienced democratic backsliding and shifted towards an authoritarian style of government with a personality cult.[f] As prime minister, he has received consistently high approval ratings within India. Modi has been described as engineering a political realignment towards right-wing politics. He remains a highly controversial figure domestically and internationally, over his Hindu nationalist beliefs and handling of the Gujarat riots, which have been cited as evidence of a majoritarian and exclusionary social agenda.[g]\n",
        "\n",
        "Early life and education\n",
        "Narendra Damodardas Modi was born on 17 September 1950 to a Gujarati Hindu family of Other Backward Class (OBC) background[34][35] in Vadnagar, Mehsana district, Bombay State (present-day Gujarat). He was the third of six children born to Damodardas Mulchand Modi (c. 1915–1989) and Hiraben Modi (1923–2022).[36][h][37]\n",
        "\n",
        "Modi had infrequently worked as a child in his father's tea business on the Vadnagar railway station platform, according to Modi and his neighbours.[38][39][40]\n",
        "\n",
        "Modi completed his higher secondary education in Vadnagar in 1967; his teachers described him as an average student and a keen, gifted debater with an interest in theatre.[41] He preferred playing larger-than-life characters in theatrical productions, which has influenced his political image.[42][43]\n",
        "\n",
        "When Modi was eight years old, he was introduced to the Rashtriya Swayamsevak Sangh (RSS) and began attending its local shakhas (training sessions). There, he met Lakshmanrao Inamdar, who inducted Modi as a balswayamsevak (junior cadet) in the RSS and became his political mentor.[44] While Modi was training with the RSS, he also met Vasant Gajendragadkar and Nathalal Jaghda, Bharatiya Jana Sangh leaders who in 1980 helped found the BJP's Gujarat unit.[45] As a teenager, he was enrolled in the National Cadet Corps.[46]\n",
        "\n",
        "In a custom traditional to Narendra Modi's caste, his family arranged a betrothal to Jashodaben Chimanlal Modi, leading to their marriage when she was 17 and he was 18.[47][48] Soon afterwards, he abandoned his wife,[49] and left home. The couple never divorced but the marriage was not in his public pronouncements for many decades.[48] In April 2014, shortly before the national election in which he gained power, Modi publicly affirmed he was married and that his spouse was Jashodaben.[50] A Modi biographer wrote that Modi kept the marriage a secret because he would not have been able to become a pracharak in the RSS, for which celibacy had once been a requirement.[51][52]\n",
        "\n",
        "Modi spent the following two years travelling across northern and north-eastern India.[53] In interviews, he has described visiting Hindu ashrams founded by Swami Vivekananda: the Belur Math near Kolkata, the Advaita Ashrama in Almora and the Ramakrishna Mission in Rajkot. His stays at each ashram were brief because he lacked the required college education.[54] Vivekananda has had a large influence in Modi's life.[55]\n",
        "\n",
        "In mid 1968, Modi reached Belur Math but was turned away, after which he visited Calcutta, West Bengal and Assam, stopping in Siliguri and Guwahati. He then went to the Ramakrishna Ashram in Almora, where he was again rejected, before returning to Gujarat via Delhi and Rajasthan in 1968 to 1969. In either late 1969 or early 1970, he returned to Vadnagar for a brief visit before leaving again for Ahmedabad,[56][57] where he lived with his uncle and worked in his uncle's canteen at Gujarat State Road Transport Corporation.[58]\n",
        "\n",
        "In Ahmedabad, Modi renewed his acquaintance with Inamdar, who was based at the Hedgewar Bhavan (RSS headquarters) in the city.[59][60][61] Modi's first-known political activity as an adult was in 1971 when he joined a Jana Sangh Satyagraha in Delhi led by Atal Bihari Vajpayee to enlist to fight in the Bangladesh Liberation War.[62][63] The Indira Gandhi-led central government prohibited open support for the Mukti Bahini; according to Modi, he was briefly held in Tihar Jail.[64][65][66] After the Indo-Pakistani War of 1971, Modi left his uncle's employment and became a full-time pracharak (campaigner) for the RSS,[67] working under Inamdar.[68] Shortly before the war, Modi took part in a non-violent protest in New Delhi against the Indian government, for which he was arrested; because of this arrest, Inamdar decided to mentor Modi.[68] According to Modi, he was part of a Satyagraha that led to a political war.[65][i]\n",
        "\n",
        "In 1978, Modi received a Bachelor of Arts (BA) degree in political science from the School of Open Learning[71] at the Delhi University.[51][72] In 1983, he received a Master of Arts (MA) degree in political science from Gujarat University, graduating with a first class[73][74] as an external distance learning student.[75] There is a controversy surrounding the authenticity of his BA and MA degrees.[76][77][j]\n",
        "\"\"\"\n"
      ],
      "metadata": {
        "id": "t5O3_rBHrpYH"
      },
      "id": "t5O3_rBHrpYH",
      "execution_count": 2,
      "outputs": []
    },
    {
      "cell_type": "code",
      "source": [
        "corpus"
      ],
      "metadata": {
        "colab": {
          "base_uri": "https://localhost:8080/",
          "height": 244
        },
        "id": "SGfUUni5shxs",
        "outputId": "44d5f175-ed73-4547-c8af-498a122b13f8"
      },
      "id": "SGfUUni5shxs",
      "execution_count": 3,
      "outputs": [
        {
          "output_type": "execute_result",
          "data": {
            "text/plain": [
              "\"\\nNarendra Damodardas Modi[a] (born 17 September 1950) is an Indian politician who has served as the prime minister of India since 2014. Modi was the chief minister of Gujarat from 2001 to 2014 and is the member of parliament (MP) for Varanasi. He is a member of the Bharatiya Janata Party (BJP) and of the Rashtriya Swayamsevak Sangh (RSS), a right-wing Hindu nationalist paramilitary volunteer organisation. He is the longest-serving prime minister outside the Indian National Congress.\\n\\nModi was born and raised in Vadnagar, Gujarat, where he completed his secondary education. He was introduced to the RSS at the age of eight. Modi became a full-time worker for the RSS in Gujarat in 1971. The RSS assigned him to the BJP in 1985 and he rose through the party hierarchy, becoming general secretary in 1998.[b] In 2001, Modi was appointed chief minister of Gujarat and elected to the legislative assembly soon after. His administration is considered complicit in the 2002 Gujarat riots,[c] and has been criticised for its management of the crisis. According to official records, a little over 1,000 people were killed, three-quarters of whom were Muslim; independent sources estimated 2,000 deaths, mostly Muslim.[12] A Special Investigation Team appointed by the Supreme Court of India in 2012 found no evidence to initiate prosecution proceedings against him.[d] While his policies as chief minister were credited for encouraging economic growth, his administration was criticised for failing to significantly improve health, poverty and education indices in the state.[e]\\n\\nIn the 2014 Indian general election, Modi led the BJP to a parliamentary majority, the first for a party since 1984. His administration increased direct foreign investment, and reduced spending on healthcare, education, and social-welfare programmes. Modi began a high-profile sanitation campaign, and weakened or abolished environmental and labour laws. His demonetisation of banknotes in 2016 and introduction of the Goods and Services Tax in 2017 sparked controversy. Modi's administration launched the 2019 Balakot airstrike against an alleged terrorist training camp in Pakistan. The airstrike failed,[15][16] but the action had nationalist appeal.[17] Modi's party won the 2019 general election which followed. In its second term, his administration revoked the special status of Jammu and Kashmir, and introduced the Citizenship Amendment Act, prompting widespread protests, and spurring the 2020 Delhi riots in which Muslims were brutalised and killed by Hindu mobs.[18][19][20] Three controversial farm laws led to sit-ins by farmers across the country, eventually causing their formal repeal. Modi oversaw India's response to the COVID-19 pandemic, during which, according to the World Health Organization's estimates, 4.7 million Indians died.[21][22] In the 2024 general election, Modi's party lost its majority in the lower house of Parliament and formed a government leading the National Democratic Alliance coalition. Modi presided over the 2025 India–Pakistan conflict, which resulted in a ceasefire.\\n\\nUnder Modi's tenure, India has experienced democratic backsliding and shifted towards an authoritarian style of government with a personality cult.[f] As prime minister, he has received consistently high approval ratings within India. Modi has been described as engineering a political realignment towards right-wing politics. He remains a highly controversial figure domestically and internationally, over his Hindu nationalist beliefs and handling of the Gujarat riots, which have been cited as evidence of a majoritarian and exclusionary social agenda.[g]\\n\\nEarly life and education\\nNarendra Damodardas Modi was born on 17 September 1950 to a Gujarati Hindu family of Other Backward Class (OBC) background[34][35] in Vadnagar, Mehsana district, Bombay State (present-day Gujarat). He was the third of six children born to Damodardas Mulchand Modi (c.\\u20091915–1989) and Hiraben Modi (1923–2022).[36][h][37]\\n\\nModi had infrequently worked as a child in his father's tea business on the Vadnagar railway station platform, according to Modi and his neighbours.[38][39][40]\\n\\nModi completed his higher secondary education in Vadnagar in 1967; his teachers described him as an average student and a keen, gifted debater with an interest in theatre.[41] He preferred playing larger-than-life characters in theatrical productions, which has influenced his political image.[42][43]\\n\\nWhen Modi was eight years old, he was introduced to the Rashtriya Swayamsevak Sangh (RSS) and began attending its local shakhas (training sessions). There, he met Lakshmanrao Inamdar, who inducted Modi as a balswayamsevak (junior cadet) in the RSS and became his political mentor.[44] While Modi was training with the RSS, he also met Vasant Gajendragadkar and Nathalal Jaghda, Bharatiya Jana Sangh leaders who in 1980 helped found the BJP's Gujarat unit.[45] As a teenager, he was enrolled in the National Cadet Corps.[46]\\n\\nIn a custom traditional to Narendra Modi's caste, his family arranged a betrothal to Jashodaben Chimanlal Modi, leading to their marriage when she was 17 and he was 18.[47][48] Soon afterwards, he abandoned his wife,[49] and left home. The couple never divorced but the marriage was not in his public pronouncements for many decades.[48] In April 2014, shortly before the national election in which he gained power, Modi publicly affirmed he was married and that his spouse was Jashodaben.[50] A Modi biographer wrote that Modi kept the marriage a secret because he would not have been able to become a pracharak in the RSS, for which celibacy had once been a requirement.[51][52]\\n\\nModi spent the following two years travelling across northern and north-eastern India.[53] In interviews, he has described visiting Hindu ashrams founded by Swami Vivekananda: the Belur Math near Kolkata, the Advaita Ashrama in Almora and the Ramakrishna Mission in Rajkot. His stays at each ashram were brief because he lacked the required college education.[54] Vivekananda has had a large influence in Modi's life.[55]\\n\\nIn mid 1968, Modi reached Belur Math but was turned away, after which he visited Calcutta, West Bengal and Assam, stopping in Siliguri and Guwahati. He then went to the Ramakrishna Ashram in Almora, where he was again rejected, before returning to Gujarat via Delhi and Rajasthan in 1968 to 1969. In either late 1969 or early 1970, he returned to Vadnagar for a brief visit before leaving again for Ahmedabad,[56][57] where he lived with his uncle and worked in his uncle's canteen at Gujarat State Road Transport Corporation.[58]\\n\\nIn Ahmedabad, Modi renewed his acquaintance with Inamdar, who was based at the Hedgewar Bhavan (RSS headquarters) in the city.[59][60][61] Modi's first-known political activity as an adult was in 1971 when he joined a Jana Sangh Satyagraha in Delhi led by Atal Bihari Vajpayee to enlist to fight in the Bangladesh Liberation War.[62][63] The Indira Gandhi-led central government prohibited open support for the Mukti Bahini; according to Modi, he was briefly held in Tihar Jail.[64][65][66] After the Indo-Pakistani War of 1971, Modi left his uncle's employment and became a full-time pracharak (campaigner) for the RSS,[67] working under Inamdar.[68] Shortly before the war, Modi took part in a non-violent protest in New Delhi against the Indian government, for which he was arrested; because of this arrest, Inamdar decided to mentor Modi.[68] According to Modi, he was part of a Satyagraha that led to a political war.[65][i]\\n\\nIn 1978, Modi received a Bachelor of Arts (BA) degree in political science from the School of Open Learning[71] at the Delhi University.[51][72] In 1983, he received a Master of Arts (MA) degree in political science from Gujarat University, graduating with a first class[73][74] as an external distance learning student.[75] There is a controversy surrounding the authenticity of his BA and MA degrees.[76][77][j]\\n\""
            ],
            "application/vnd.google.colaboratory.intrinsic+json": {
              "type": "string"
            }
          },
          "metadata": {},
          "execution_count": 3
        }
      ]
    },
    {
      "cell_type": "code",
      "source": [
        "import nltk\n",
        "from nltk.stem import PorterStemmer\n",
        "from nltk.corpus import stopwords"
      ],
      "metadata": {
        "id": "zZsUsUmXsqPR"
      },
      "id": "zZsUsUmXsqPR",
      "execution_count": 4,
      "outputs": []
    },
    {
      "cell_type": "markdown",
      "source": [
        " ### tokenization -> convert paragraphs sentences into words"
      ],
      "metadata": {
        "id": "qCsVXsJZtK2F"
      },
      "id": "qCsVXsJZtK2F"
    },
    {
      "cell_type": "code",
      "source": [
        "nltk.download('punkt_tab')\n",
        "sentences = nltk.sent_tokenize(corpus)\n"
      ],
      "metadata": {
        "colab": {
          "base_uri": "https://localhost:8080/"
        },
        "id": "VMkx0YX1tQKR",
        "outputId": "9c206ead-931d-4eff-fae1-71c83cebe3a9"
      },
      "id": "VMkx0YX1tQKR",
      "execution_count": 8,
      "outputs": [
        {
          "output_type": "stream",
          "name": "stderr",
          "text": [
            "[nltk_data] Downloading package punkt_tab to /root/nltk_data...\n",
            "[nltk_data]   Unzipping tokenizers/punkt_tab.zip.\n"
          ]
        }
      ]
    },
    {
      "cell_type": "code",
      "source": [
        "print(sentences)"
      ],
      "metadata": {
        "colab": {
          "base_uri": "https://localhost:8080/"
        },
        "id": "JXdmwbY-tnMj",
        "outputId": "9a6d3661-28f1-4960-c678-b1436b0e999c"
      },
      "id": "JXdmwbY-tnMj",
      "execution_count": 10,
      "outputs": [
        {
          "output_type": "stream",
          "name": "stdout",
          "text": [
            "['\\nNarendra Damodardas Modi[a] (born 17 September 1950) is an Indian politician who has served as the prime minister of India since 2014.', 'Modi was the chief minister of Gujarat from 2001 to 2014 and is the member of parliament (MP) for Varanasi.', 'He is a member of the Bharatiya Janata Party (BJP) and of the Rashtriya Swayamsevak Sangh (RSS), a right-wing Hindu nationalist paramilitary volunteer organisation.', 'He is the longest-serving prime minister outside the Indian National Congress.', 'Modi was born and raised in Vadnagar, Gujarat, where he completed his secondary education.', 'He was introduced to the RSS at the age of eight.', 'Modi became a full-time worker for the RSS in Gujarat in 1971.', 'The RSS assigned him to the BJP in 1985 and he rose through the party hierarchy, becoming general secretary in 1998.', '[b] In 2001, Modi was appointed chief minister of Gujarat and elected to the legislative assembly soon after.', 'His administration is considered complicit in the 2002 Gujarat riots,[c] and has been criticised for its management of the crisis.', 'According to official records, a little over 1,000 people were killed, three-quarters of whom were Muslim; independent sources estimated 2,000 deaths, mostly Muslim.', '[12] A Special Investigation Team appointed by the Supreme Court of India in 2012 found no evidence to initiate prosecution proceedings against him.', '[d] While his policies as chief minister were credited for encouraging economic growth, his administration was criticised for failing to significantly improve health, poverty and education indices in the state.', '[e]\\n\\nIn the 2014 Indian general election, Modi led the BJP to a parliamentary majority, the first for a party since 1984.', 'His administration increased direct foreign investment, and reduced spending on healthcare, education, and social-welfare programmes.', 'Modi began a high-profile sanitation campaign, and weakened or abolished environmental and labour laws.', 'His demonetisation of banknotes in 2016 and introduction of the Goods and Services Tax in 2017 sparked controversy.', \"Modi's administration launched the 2019 Balakot airstrike against an alleged terrorist training camp in Pakistan.\", 'The airstrike failed,[15][16] but the action had nationalist appeal.', \"[17] Modi's party won the 2019 general election which followed.\", 'In its second term, his administration revoked the special status of Jammu and Kashmir, and introduced the Citizenship Amendment Act, prompting widespread protests, and spurring the 2020 Delhi riots in which Muslims were brutalised and killed by Hindu mobs.', '[18][19][20] Three controversial farm laws led to sit-ins by farmers across the country, eventually causing their formal repeal.', \"Modi oversaw India's response to the COVID-19 pandemic, during which, according to the World Health Organization's estimates, 4.7 million Indians died.\", \"[21][22] In the 2024 general election, Modi's party lost its majority in the lower house of Parliament and formed a government leading the National Democratic Alliance coalition.\", 'Modi presided over the 2025 India–Pakistan conflict, which resulted in a ceasefire.', \"Under Modi's tenure, India has experienced democratic backsliding and shifted towards an authoritarian style of government with a personality cult.\", '[f] As prime minister, he has received consistently high approval ratings within India.', 'Modi has been described as engineering a political realignment towards right-wing politics.', 'He remains a highly controversial figure domestically and internationally, over his Hindu nationalist beliefs and handling of the Gujarat riots, which have been cited as evidence of a majoritarian and exclusionary social agenda.', '[g]\\n\\nEarly life and education\\nNarendra Damodardas Modi was born on 17 September 1950 to a Gujarati Hindu family of Other Backward Class (OBC) background[34][35] in Vadnagar, Mehsana district, Bombay State (present-day Gujarat).', 'He was the third of six children born to Damodardas Mulchand Modi (c.\\u20091915–1989) and Hiraben Modi (1923–2022).', \"[36][h][37]\\n\\nModi had infrequently worked as a child in his father's tea business on the Vadnagar railway station platform, according to Modi and his neighbours.\", '[38][39][40]\\n\\nModi completed his higher secondary education in Vadnagar in 1967; his teachers described him as an average student and a keen, gifted debater with an interest in theatre.', '[41] He preferred playing larger-than-life characters in theatrical productions, which has influenced his political image.', '[42][43]\\n\\nWhen Modi was eight years old, he was introduced to the Rashtriya Swayamsevak Sangh (RSS) and began attending its local shakhas (training sessions).', 'There, he met Lakshmanrao Inamdar, who inducted Modi as a balswayamsevak (junior cadet) in the RSS and became his political mentor.', \"[44] While Modi was training with the RSS, he also met Vasant Gajendragadkar and Nathalal Jaghda, Bharatiya Jana Sangh leaders who in 1980 helped found the BJP's Gujarat unit.\", '[45] As a teenager, he was enrolled in the National Cadet Corps.', \"[46]\\n\\nIn a custom traditional to Narendra Modi's caste, his family arranged a betrothal to Jashodaben Chimanlal Modi, leading to their marriage when she was 17 and he was 18.\", '[47][48] Soon afterwards, he abandoned his wife,[49] and left home.', 'The couple never divorced but the marriage was not in his public pronouncements for many decades.', '[48] In April 2014, shortly before the national election in which he gained power, Modi publicly affirmed he was married and that his spouse was Jashodaben.', '[50] A Modi biographer wrote that Modi kept the marriage a secret because he would not have been able to become a pracharak in the RSS, for which celibacy had once been a requirement.', '[51][52]\\n\\nModi spent the following two years travelling across northern and north-eastern India.', '[53] In interviews, he has described visiting Hindu ashrams founded by Swami Vivekananda: the Belur Math near Kolkata, the Advaita Ashrama in Almora and the Ramakrishna Mission in Rajkot.', 'His stays at each ashram were brief because he lacked the required college education.', \"[54] Vivekananda has had a large influence in Modi's life.\", '[55]\\n\\nIn mid 1968, Modi reached Belur Math but was turned away, after which he visited Calcutta, West Bengal and Assam, stopping in Siliguri and Guwahati.', 'He then went to the Ramakrishna Ashram in Almora, where he was again rejected, before returning to Gujarat via Delhi and Rajasthan in 1968 to 1969.', \"In either late 1969 or early 1970, he returned to Vadnagar for a brief visit before leaving again for Ahmedabad,[56][57] where he lived with his uncle and worked in his uncle's canteen at Gujarat State Road Transport Corporation.\", '[58]\\n\\nIn Ahmedabad, Modi renewed his acquaintance with Inamdar, who was based at the Hedgewar Bhavan (RSS headquarters) in the city.', \"[59][60][61] Modi's first-known political activity as an adult was in 1971 when he joined a Jana Sangh Satyagraha in Delhi led by Atal Bihari Vajpayee to enlist to fight in the Bangladesh Liberation War.\", '[62][63] The Indira Gandhi-led central government prohibited open support for the Mukti Bahini; according to Modi, he was briefly held in Tihar Jail.', \"[64][65][66] After the Indo-Pakistani War of 1971, Modi left his uncle's employment and became a full-time pracharak (campaigner) for the RSS,[67] working under Inamdar.\", '[68] Shortly before the war, Modi took part in a non-violent protest in New Delhi against the Indian government, for which he was arrested; because of this arrest, Inamdar decided to mentor Modi.', '[68] According to Modi, he was part of a Satyagraha that led to a political war.', '[65][i]\\n\\nIn 1978, Modi received a Bachelor of Arts (BA) degree in political science from the School of Open Learning[71] at the Delhi University.', '[51][72] In 1983, he received a Master of Arts (MA) degree in political science from Gujarat University, graduating with a first class[73][74] as an external distance learning student.', '[75] There is a controversy surrounding the authenticity of his BA and MA degrees.', '[76][77][j]']\n"
          ]
        }
      ]
    },
    {
      "cell_type": "code",
      "source": [
        "stemmer = PorterStemmer()"
      ],
      "metadata": {
        "id": "xtBh0I0st7wA"
      },
      "id": "xtBh0I0st7wA",
      "execution_count": 11,
      "outputs": []
    },
    {
      "cell_type": "code",
      "source": [
        "# stemmer.stem('failed')"
      ],
      "metadata": {
        "colab": {
          "base_uri": "https://localhost:8080/",
          "height": 36
        },
        "id": "hZsgJPQquJI9",
        "outputId": "2f9d40db-42d9-42bd-b4c3-d7b80cbae4f8"
      },
      "id": "hZsgJPQquJI9",
      "execution_count": 12,
      "outputs": [
        {
          "output_type": "execute_result",
          "data": {
            "text/plain": [
              "'fail'"
            ],
            "application/vnd.google.colaboratory.intrinsic+json": {
              "type": "string"
            }
          },
          "metadata": {},
          "execution_count": 12
        }
      ]
    },
    {
      "cell_type": "code",
      "source": [
        "from nltk.stem import WordNetLemmatizer\n",
        "nltk.download('wordnet')"
      ],
      "metadata": {
        "colab": {
          "base_uri": "https://localhost:8080/"
        },
        "id": "HIv682DguMGk",
        "outputId": "08ac611f-3e9c-4c45-a479-7e09c954209d"
      },
      "id": "HIv682DguMGk",
      "execution_count": 20,
      "outputs": [
        {
          "output_type": "stream",
          "name": "stderr",
          "text": [
            "[nltk_data] Downloading package wordnet to /root/nltk_data...\n"
          ]
        },
        {
          "output_type": "execute_result",
          "data": {
            "text/plain": [
              "True"
            ]
          },
          "metadata": {},
          "execution_count": 20
        }
      ]
    },
    {
      "cell_type": "code",
      "source": [
        "lemmatizer = WordNetLemmatizer()"
      ],
      "metadata": {
        "id": "Sn985Q5ouc19"
      },
      "id": "Sn985Q5ouc19",
      "execution_count": 21,
      "outputs": []
    },
    {
      "cell_type": "code",
      "source": [
        "lemmatizer.lemmatize('failed')"
      ],
      "metadata": {
        "id": "l7PVcdvqug0-",
        "outputId": "30569ff7-8a1d-4aff-c8f0-88ba1fd80f49",
        "colab": {
          "base_uri": "https://localhost:8080/",
          "height": 36
        }
      },
      "id": "l7PVcdvqug0-",
      "execution_count": 22,
      "outputs": [
        {
          "output_type": "execute_result",
          "data": {
            "text/plain": [
              "'failed'"
            ],
            "application/vnd.google.colaboratory.intrinsic+json": {
              "type": "string"
            }
          },
          "metadata": {},
          "execution_count": 22
        }
      ]
    },
    {
      "cell_type": "code",
      "source": [
        "len(sentences)"
      ],
      "metadata": {
        "id": "TXUyiszRumtB",
        "outputId": "54f7b88d-81b2-4a2a-ad4d-b6358c03171c",
        "colab": {
          "base_uri": "https://localhost:8080/"
        }
      },
      "id": "TXUyiszRumtB",
      "execution_count": 24,
      "outputs": [
        {
          "output_type": "execute_result",
          "data": {
            "text/plain": [
              "60"
            ]
          },
          "metadata": {},
          "execution_count": 24
        }
      ]
    },
    {
      "cell_type": "code",
      "source": [
        "import re\n",
        "corpus = []\n",
        "for i in range(len(sentences)):\n",
        "  review = re.sub('[^a-zA-Z]','',sentences[i])\n",
        "  review = review.lower()\n",
        "  review = review.split()\n",
        "  corpus.append(review)"
      ],
      "metadata": {
        "id": "4CG2U-znvKkw"
      },
      "id": "4CG2U-znvKkw",
      "execution_count": 27,
      "outputs": []
    },
    {
      "cell_type": "code",
      "source": [
        "corpus"
      ],
      "metadata": {
        "id": "fzXbQ-98vzOc",
        "outputId": "0c50ed0a-2cdc-4591-a18d-9fdf0f7a15fd",
        "colab": {
          "base_uri": "https://localhost:8080/"
        }
      },
      "id": "fzXbQ-98vzOc",
      "execution_count": 28,
      "outputs": [
        {
          "output_type": "execute_result",
          "data": {
            "text/plain": [
              "[['narendradamodardasmodiabornseptemberisanindianpoliticianwhohasservedastheprimeministerofindiasince'],\n",
              " ['modiwasthechiefministerofgujaratfromtoandisthememberofparliamentmpforvaranasi'],\n",
              " ['heisamemberofthebharatiyajanatapartybjpandoftherashtriyaswayamsevaksanghrssarightwinghindunationalistparamilitaryvolunteerorganisation'],\n",
              " ['heisthelongestservingprimeministeroutsidetheindiannationalcongress'],\n",
              " ['modiwasbornandraisedinvadnagargujaratwherehecompletedhissecondaryeducation'],\n",
              " ['hewasintroducedtotherssattheageofeight'],\n",
              " ['modibecameafulltimeworkerfortherssingujaratin'],\n",
              " ['therssassignedhimtothebjpinandherosethroughthepartyhierarchybecominggeneralsecretaryin'],\n",
              " ['binmodiwasappointedchiefministerofgujaratandelectedtothelegislativeassemblysoonafter'],\n",
              " ['hisadministrationisconsideredcomplicitinthegujaratriotscandhasbeencriticisedforitsmanagementofthecrisis'],\n",
              " ['accordingtoofficialrecordsalittleoverpeoplewerekilledthreequartersofwhomweremuslimindependentsourcesestimateddeathsmostlymuslim'],\n",
              " ['aspecialinvestigationteamappointedbythesupremecourtofindiainfoundnoevidencetoinitiateprosecutionproceedingsagainsthim'],\n",
              " ['dwhilehispoliciesaschiefministerwerecreditedforencouragingeconomicgrowthhisadministrationwascriticisedforfailingtosignificantlyimprovehealthpovertyandeducationindicesinthestate'],\n",
              " ['eintheindiangeneralelectionmodiledthebjptoaparliamentarymajoritythefirstforapartysince'],\n",
              " ['hisadministrationincreaseddirectforeigninvestmentandreducedspendingonhealthcareeducationandsocialwelfareprogrammes'],\n",
              " ['modibeganahighprofilesanitationcampaignandweakenedorabolishedenvironmentalandlabourlaws'],\n",
              " ['hisdemonetisationofbanknotesinandintroductionofthegoodsandservicestaxinsparkedcontroversy'],\n",
              " ['modisadministrationlaunchedthebalakotairstrikeagainstanallegedterroristtrainingcampinpakistan'],\n",
              " ['theairstrikefailedbuttheactionhadnationalistappeal'],\n",
              " ['modispartywonthegeneralelectionwhichfollowed'],\n",
              " ['initssecondtermhisadministrationrevokedthespecialstatusofjammuandkashmirandintroducedthecitizenshipamendmentactpromptingwidespreadprotestsandspurringthedelhiriotsinwhichmuslimswerebrutalisedandkilledbyhindumobs'],\n",
              " ['threecontroversialfarmlawsledtositinsbyfarmersacrossthecountryeventuallycausingtheirformalrepeal'],\n",
              " ['modioversawindiasresponsetothecovidpandemicduringwhichaccordingtotheworldhealthorganizationsestimatesmillionindiansdied'],\n",
              " ['inthegeneralelectionmodispartylostitsmajorityinthelowerhouseofparliamentandformedagovernmentleadingthenationaldemocraticalliancecoalition'],\n",
              " ['modipresidedovertheindiapakistanconflictwhichresultedinaceasefire'],\n",
              " ['undermodistenureindiahasexperienceddemocraticbackslidingandshiftedtowardsanauthoritarianstyleofgovernmentwithapersonalitycult'],\n",
              " ['fasprimeministerhehasreceivedconsistentlyhighapprovalratingswithinindia'],\n",
              " ['modihasbeendescribedasengineeringapoliticalrealignmenttowardsrightwingpolitics'],\n",
              " ['heremainsahighlycontroversialfiguredomesticallyandinternationallyoverhishindunationalistbeliefsandhandlingofthegujaratriotswhichhavebeencitedasevidenceofamajoritarianandexclusionarysocialagenda'],\n",
              " ['gearlylifeandeducationnarendradamodardasmodiwasbornonseptembertoagujaratihindufamilyofotherbackwardclassobcbackgroundinvadnagarmehsanadistrictbombaystatepresentdaygujarat'],\n",
              " ['hewasthethirdofsixchildrenborntodamodardasmulchandmodicandhirabenmodi'],\n",
              " ['hmodihadinfrequentlyworkedasachildinhisfathersteabusinessonthevadnagarrailwaystationplatformaccordingtomodiandhisneighbours'],\n",
              " ['modicompletedhishighersecondaryeducationinvadnagarinhisteachersdescribedhimasanaveragestudentandakeengifteddebaterwithaninterestintheatre'],\n",
              " ['hepreferredplayinglargerthanlifecharactersintheatricalproductionswhichhasinfluencedhispoliticalimage'],\n",
              " ['whenmodiwaseightyearsoldhewasintroducedtotherashtriyaswayamsevaksanghrssandbeganattendingitslocalshakhastrainingsessions'],\n",
              " ['therehemetlakshmanraoinamdarwhoinductedmodiasabalswayamsevakjuniorcadetintherssandbecamehispoliticalmentor'],\n",
              " ['whilemodiwastrainingwiththersshealsometvasantgajendragadkarandnathalaljaghdabharatiyajanasanghleaderswhoinhelpedfoundthebjpsgujaratunit'],\n",
              " ['asateenagerhewasenrolledinthenationalcadetcorps'],\n",
              " ['inacustomtraditionaltonarendramodiscastehisfamilyarrangedabetrothaltojashodabenchimanlalmodileadingtotheirmarriagewhenshewasandhewas'],\n",
              " ['soonafterwardsheabandonedhiswifeandlefthome'],\n",
              " ['thecoupleneverdivorcedbutthemarriagewasnotinhispublicpronouncementsformanydecades'],\n",
              " ['inaprilshortlybeforethenationalelectioninwhichhegainedpowermodipubliclyaffirmedhewasmarriedandthathisspousewasjashodaben'],\n",
              " ['amodibiographerwrotethatmodikeptthemarriageasecretbecausehewouldnothavebeenabletobecomeapracharakintherssforwhichcelibacyhadoncebeenarequirement'],\n",
              " ['modispentthefollowingtwoyearstravellingacrossnorthernandnortheasternindia'],\n",
              " ['ininterviewshehasdescribedvisitinghinduashramsfoundedbyswamivivekanandathebelurmathnearkolkatatheadvaitaashramainalmoraandtheramakrishnamissioninrajkot'],\n",
              " ['hisstaysateachashramwerebriefbecausehelackedtherequiredcollegeeducation'],\n",
              " ['vivekanandahashadalargeinfluenceinmodislife'],\n",
              " ['inmidmodireachedbelurmathbutwasturnedawayafterwhichhevisitedcalcuttawestbengalandassamstoppinginsiliguriandguwahati'],\n",
              " ['hethenwenttotheramakrishnaashraminalmorawherehewasagainrejectedbeforereturningtogujaratviadelhiandrajasthaninto'],\n",
              " ['ineitherlateorearlyhereturnedtovadnagarforabriefvisitbeforeleavingagainforahmedabadwherehelivedwithhisuncleandworkedinhisunclescanteenatgujaratstateroadtransportcorporation'],\n",
              " ['inahmedabadmodirenewedhisacquaintancewithinamdarwhowasbasedatthehedgewarbhavanrssheadquartersinthecity'],\n",
              " ['modisfirstknownpoliticalactivityasanadultwasinwhenhejoinedajanasanghsatyagrahaindelhiledbyatalbiharivajpayeetoenlisttofightinthebangladeshliberationwar'],\n",
              " ['theindiragandhiledcentralgovernmentprohibitedopensupportforthemuktibahiniaccordingtomodihewasbrieflyheldintiharjail'],\n",
              " ['aftertheindopakistaniwarofmodilefthisunclesemploymentandbecameafulltimepracharakcampaignerfortherssworkingunderinamdar'],\n",
              " ['shortlybeforethewarmoditookpartinanonviolentprotestinnewdelhiagainsttheindiangovernmentforwhichhewasarrestedbecauseofthisarrestinamdardecidedtomentormodi'],\n",
              " ['accordingtomodihewaspartofasatyagrahathatledtoapoliticalwar'],\n",
              " ['iinmodireceivedabachelorofartsbadegreeinpoliticalsciencefromtheschoolofopenlearningatthedelhiuniversity'],\n",
              " ['inhereceivedamasterofartsmadegreeinpoliticalsciencefromgujaratuniversitygraduatingwithafirstclassasanexternaldistancelearningstudent'],\n",
              " ['thereisacontroversysurroundingtheauthenticityofhisbaandmadegrees'],\n",
              " ['j']]"
            ]
          },
          "metadata": {},
          "execution_count": 28
        }
      ]
    },
    {
      "cell_type": "code",
      "source": [],
      "metadata": {
        "id": "BzbU2BPawHf5"
      },
      "id": "BzbU2BPawHf5",
      "execution_count": null,
      "outputs": []
    }
  ],
  "metadata": {
    "language_info": {
      "name": "python"
    },
    "colab": {
      "provenance": [],
      "gpuType": "T4"
    },
    "accelerator": "GPU",
    "kernelspec": {
      "name": "python3",
      "display_name": "Python 3"
    }
  },
  "nbformat": 4,
  "nbformat_minor": 5
}