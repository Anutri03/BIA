{
  "cells": [
    {
      "cell_type": "markdown",
      "id": "06ded25e",
      "metadata": {
        "id": "06ded25e"
      },
      "source": [
        "[![Open In Colab](https://colab.research.google.com/assets/colab-badge.svg)](https://colab.research.google.com/github/Anutri03/ML-AI-prep/blob/main/NLP/Practice%20of%20%20nlp/text_preprocessing.ipynb)\n"
      ]
    },
    {
      "cell_type": "code",
      "source": [
        "!pip install nltk"
      ],
      "metadata": {
        "colab": {
          "base_uri": "https://localhost:8080/"
        },
        "id": "BvZEccghrlsv",
        "outputId": "ab778938-3194-403b-c66b-239c3833d399"
      },
      "id": "BvZEccghrlsv",
      "execution_count": 120,
      "outputs": [
        {
          "output_type": "stream",
          "name": "stdout",
          "text": [
            "Requirement already satisfied: nltk in /usr/local/lib/python3.11/dist-packages (3.9.1)\n",
            "Requirement already satisfied: click in /usr/local/lib/python3.11/dist-packages (from nltk) (8.1.8)\n",
            "Requirement already satisfied: joblib in /usr/local/lib/python3.11/dist-packages (from nltk) (1.5.0)\n",
            "Requirement already satisfied: regex>=2021.8.3 in /usr/local/lib/python3.11/dist-packages (from nltk) (2024.11.6)\n",
            "Requirement already satisfied: tqdm in /usr/local/lib/python3.11/dist-packages (from nltk) (4.67.1)\n"
          ]
        }
      ]
    },
    {
      "cell_type": "code",
      "source": [
        "corpus = \"\"\"\n",
        "Narendra Damodardas Modi[a] (born 17 September 1950) is an Indian politician who has served as the prime minister of India since 2014. Modi was the chief minister of Gujarat from 2001 to 2014 and is the member of parliament (MP) for Varanasi. He is a member of the Bharatiya Janata Party (BJP) and of the Rashtriya Swayamsevak Sangh (RSS), a right-wing Hindu nationalist paramilitary volunteer organisation. He is the longest-serving prime minister outside the Indian National Congress.\n",
        "\n",
        "Modi was born and raised in Vadnagar, Gujarat, where he completed his secondary education. He was introduced to the RSS at the age of eight. Modi became a full-time worker for the RSS in Gujarat in 1971. The RSS assigned him to the BJP in 1985 and he rose through the party hierarchy, becoming general secretary in 1998.[b] In 2001, Modi was appointed chief minister of Gujarat and elected to the legislative assembly soon after. His administration is considered complicit in the 2002 Gujarat riots,[c] and has been criticised for its management of the crisis. According to official records, a little over 1,000 people were killed, three-quarters of whom were Muslim; independent sources estimated 2,000 deaths, mostly Muslim.[12] A Special Investigation Team appointed by the Supreme Court of India in 2012 found no evidence to initiate prosecution proceedings against him.[d] While his policies as chief minister were credited for encouraging economic growth, his administration was criticised for failing to significantly improve health, poverty and education indices in the state.[e]\n",
        "\n",
        "In the 2014 Indian general election, Modi led the BJP to a parliamentary majority, the first for a party since 1984. His administration increased direct foreign investment, and reduced spending on healthcare, education, and social-welfare programmes. Modi began a high-profile sanitation campaign, and weakened or abolished environmental and labour laws. His demonetisation of banknotes in 2016 and introduction of the Goods and Services Tax in 2017 sparked controversy. Modi's administration launched the 2019 Balakot airstrike against an alleged terrorist training camp in Pakistan. The airstrike failed,[15][16] but the action had nationalist appeal.[17] Modi's party won the 2019 general election which followed. In its second term, his administration revoked the special status of Jammu and Kashmir, and introduced the Citizenship Amendment Act, prompting widespread protests, and spurring the 2020 Delhi riots in which Muslims were brutalised and killed by Hindu mobs.[18][19][20] Three controversial farm laws led to sit-ins by farmers across the country, eventually causing their formal repeal. Modi oversaw India's response to the COVID-19 pandemic, during which, according to the World Health Organization's estimates, 4.7 million Indians died.[21][22] In the 2024 general election, Modi's party lost its majority in the lower house of Parliament and formed a government leading the National Democratic Alliance coalition. Modi presided over the 2025 India–Pakistan conflict, which resulted in a ceasefire.\n",
        "\n",
        "Under Modi's tenure, India has experienced democratic backsliding and shifted towards an authoritarian style of government with a personality cult.[f] As prime minister, he has received consistently high approval ratings within India. Modi has been described as engineering a political realignment towards right-wing politics. He remains a highly controversial figure domestically and internationally, over his Hindu nationalist beliefs and handling of the Gujarat riots, which have been cited as evidence of a majoritarian and exclusionary social agenda.[g]\n",
        "\n",
        "Early life and education\n",
        "Narendra Damodardas Modi was born on 17 September 1950 to a Gujarati Hindu family of Other Backward Class (OBC) background[34][35] in Vadnagar, Mehsana district, Bombay State (present-day Gujarat). He was the third of six children born to Damodardas Mulchand Modi (c. 1915–1989) and Hiraben Modi (1923–2022).[36][h][37]\n",
        "\n",
        "Modi had infrequently worked as a child in his father's tea business on the Vadnagar railway station platform, according to Modi and his neighbours.[38][39][40]\n",
        "\n",
        "Modi completed his higher secondary education in Vadnagar in 1967; his teachers described him as an average student and a keen, gifted debater with an interest in theatre.[41] He preferred playing larger-than-life characters in theatrical productions, which has influenced his political image.[42][43]\n",
        "\n",
        "When Modi was eight years old, he was introduced to the Rashtriya Swayamsevak Sangh (RSS) and began attending its local shakhas (training sessions). There, he met Lakshmanrao Inamdar, who inducted Modi as a balswayamsevak (junior cadet) in the RSS and became his political mentor.[44] While Modi was training with the RSS, he also met Vasant Gajendragadkar and Nathalal Jaghda, Bharatiya Jana Sangh leaders who in 1980 helped found the BJP's Gujarat unit.[45] As a teenager, he was enrolled in the National Cadet Corps.[46]\n",
        "\n",
        "In a custom traditional to Narendra Modi's caste, his family arranged a betrothal to Jashodaben Chimanlal Modi, leading to their marriage when she was 17 and he was 18.[47][48] Soon afterwards, he abandoned his wife,[49] and left home. The couple never divorced but the marriage was not in his public pronouncements for many decades.[48] In April 2014, shortly before the national election in which he gained power, Modi publicly affirmed he was married and that his spouse was Jashodaben.[50] A Modi biographer wrote that Modi kept the marriage a secret because he would not have been able to become a pracharak in the RSS, for which celibacy had once been a requirement.[51][52]\n",
        "\n",
        "Modi spent the following two years travelling across northern and north-eastern India.[53] In interviews, he has described visiting Hindu ashrams founded by Swami Vivekananda: the Belur Math near Kolkata, the Advaita Ashrama in Almora and the Ramakrishna Mission in Rajkot. His stays at each ashram were brief because he lacked the required college education.[54] Vivekananda has had a large influence in Modi's life.[55]\n",
        "\n",
        "In mid 1968, Modi reached Belur Math but was turned away, after which he visited Calcutta, West Bengal and Assam, stopping in Siliguri and Guwahati. He then went to the Ramakrishna Ashram in Almora, where he was again rejected, before returning to Gujarat via Delhi and Rajasthan in 1968 to 1969. In either late 1969 or early 1970, he returned to Vadnagar for a brief visit before leaving again for Ahmedabad,[56][57] where he lived with his uncle and worked in his uncle's canteen at Gujarat State Road Transport Corporation.[58]\n",
        "\n",
        "In Ahmedabad, Modi renewed his acquaintance with Inamdar, who was based at the Hedgewar Bhavan (RSS headquarters) in the city.[59][60][61] Modi's first-known political activity as an adult was in 1971 when he joined a Jana Sangh Satyagraha in Delhi led by Atal Bihari Vajpayee to enlist to fight in the Bangladesh Liberation War.[62][63] The Indira Gandhi-led central government prohibited open support for the Mukti Bahini; according to Modi, he was briefly held in Tihar Jail.[64][65][66] After the Indo-Pakistani War of 1971, Modi left his uncle's employment and became a full-time pracharak (campaigner) for the RSS,[67] working under Inamdar.[68] Shortly before the war, Modi took part in a non-violent protest in New Delhi against the Indian government, for which he was arrested; because of this arrest, Inamdar decided to mentor Modi.[68] According to Modi, he was part of a Satyagraha that led to a political war.[65][i]\n",
        "\n",
        "In 1978, Modi received a Bachelor of Arts (BA) degree in political science from the School of Open Learning[71] at the Delhi University.[51][72] In 1983, he received a Master of Arts (MA) degree in political science from Gujarat University, graduating with a first class[73][74] as an external distance learning student.[75] There is a controversy surrounding the authenticity of his BA and MA degrees.[76][77][j]\n",
        "\"\"\"\n"
      ],
      "metadata": {
        "id": "t5O3_rBHrpYH"
      },
      "id": "t5O3_rBHrpYH",
      "execution_count": 121,
      "outputs": []
    },
    {
      "cell_type": "code",
      "source": [
        "corpus"
      ],
      "metadata": {
        "colab": {
          "base_uri": "https://localhost:8080/",
          "height": 244
        },
        "id": "SGfUUni5shxs",
        "outputId": "235e76be-2d51-42ec-ea99-fa0d6a98ae13"
      },
      "id": "SGfUUni5shxs",
      "execution_count": 122,
      "outputs": [
        {
          "output_type": "execute_result",
          "data": {
            "text/plain": [
              "\"\\nNarendra Damodardas Modi[a] (born 17 September 1950) is an Indian politician who has served as the prime minister of India since 2014. Modi was the chief minister of Gujarat from 2001 to 2014 and is the member of parliament (MP) for Varanasi. He is a member of the Bharatiya Janata Party (BJP) and of the Rashtriya Swayamsevak Sangh (RSS), a right-wing Hindu nationalist paramilitary volunteer organisation. He is the longest-serving prime minister outside the Indian National Congress.\\n\\nModi was born and raised in Vadnagar, Gujarat, where he completed his secondary education. He was introduced to the RSS at the age of eight. Modi became a full-time worker for the RSS in Gujarat in 1971. The RSS assigned him to the BJP in 1985 and he rose through the party hierarchy, becoming general secretary in 1998.[b] In 2001, Modi was appointed chief minister of Gujarat and elected to the legislative assembly soon after. His administration is considered complicit in the 2002 Gujarat riots,[c] and has been criticised for its management of the crisis. According to official records, a little over 1,000 people were killed, three-quarters of whom were Muslim; independent sources estimated 2,000 deaths, mostly Muslim.[12] A Special Investigation Team appointed by the Supreme Court of India in 2012 found no evidence to initiate prosecution proceedings against him.[d] While his policies as chief minister were credited for encouraging economic growth, his administration was criticised for failing to significantly improve health, poverty and education indices in the state.[e]\\n\\nIn the 2014 Indian general election, Modi led the BJP to a parliamentary majority, the first for a party since 1984. His administration increased direct foreign investment, and reduced spending on healthcare, education, and social-welfare programmes. Modi began a high-profile sanitation campaign, and weakened or abolished environmental and labour laws. His demonetisation of banknotes in 2016 and introduction of the Goods and Services Tax in 2017 sparked controversy. Modi's administration launched the 2019 Balakot airstrike against an alleged terrorist training camp in Pakistan. The airstrike failed,[15][16] but the action had nationalist appeal.[17] Modi's party won the 2019 general election which followed. In its second term, his administration revoked the special status of Jammu and Kashmir, and introduced the Citizenship Amendment Act, prompting widespread protests, and spurring the 2020 Delhi riots in which Muslims were brutalised and killed by Hindu mobs.[18][19][20] Three controversial farm laws led to sit-ins by farmers across the country, eventually causing their formal repeal. Modi oversaw India's response to the COVID-19 pandemic, during which, according to the World Health Organization's estimates, 4.7 million Indians died.[21][22] In the 2024 general election, Modi's party lost its majority in the lower house of Parliament and formed a government leading the National Democratic Alliance coalition. Modi presided over the 2025 India–Pakistan conflict, which resulted in a ceasefire.\\n\\nUnder Modi's tenure, India has experienced democratic backsliding and shifted towards an authoritarian style of government with a personality cult.[f] As prime minister, he has received consistently high approval ratings within India. Modi has been described as engineering a political realignment towards right-wing politics. He remains a highly controversial figure domestically and internationally, over his Hindu nationalist beliefs and handling of the Gujarat riots, which have been cited as evidence of a majoritarian and exclusionary social agenda.[g]\\n\\nEarly life and education\\nNarendra Damodardas Modi was born on 17 September 1950 to a Gujarati Hindu family of Other Backward Class (OBC) background[34][35] in Vadnagar, Mehsana district, Bombay State (present-day Gujarat). He was the third of six children born to Damodardas Mulchand Modi (c.\\u20091915–1989) and Hiraben Modi (1923–2022).[36][h][37]\\n\\nModi had infrequently worked as a child in his father's tea business on the Vadnagar railway station platform, according to Modi and his neighbours.[38][39][40]\\n\\nModi completed his higher secondary education in Vadnagar in 1967; his teachers described him as an average student and a keen, gifted debater with an interest in theatre.[41] He preferred playing larger-than-life characters in theatrical productions, which has influenced his political image.[42][43]\\n\\nWhen Modi was eight years old, he was introduced to the Rashtriya Swayamsevak Sangh (RSS) and began attending its local shakhas (training sessions). There, he met Lakshmanrao Inamdar, who inducted Modi as a balswayamsevak (junior cadet) in the RSS and became his political mentor.[44] While Modi was training with the RSS, he also met Vasant Gajendragadkar and Nathalal Jaghda, Bharatiya Jana Sangh leaders who in 1980 helped found the BJP's Gujarat unit.[45] As a teenager, he was enrolled in the National Cadet Corps.[46]\\n\\nIn a custom traditional to Narendra Modi's caste, his family arranged a betrothal to Jashodaben Chimanlal Modi, leading to their marriage when she was 17 and he was 18.[47][48] Soon afterwards, he abandoned his wife,[49] and left home. The couple never divorced but the marriage was not in his public pronouncements for many decades.[48] In April 2014, shortly before the national election in which he gained power, Modi publicly affirmed he was married and that his spouse was Jashodaben.[50] A Modi biographer wrote that Modi kept the marriage a secret because he would not have been able to become a pracharak in the RSS, for which celibacy had once been a requirement.[51][52]\\n\\nModi spent the following two years travelling across northern and north-eastern India.[53] In interviews, he has described visiting Hindu ashrams founded by Swami Vivekananda: the Belur Math near Kolkata, the Advaita Ashrama in Almora and the Ramakrishna Mission in Rajkot. His stays at each ashram were brief because he lacked the required college education.[54] Vivekananda has had a large influence in Modi's life.[55]\\n\\nIn mid 1968, Modi reached Belur Math but was turned away, after which he visited Calcutta, West Bengal and Assam, stopping in Siliguri and Guwahati. He then went to the Ramakrishna Ashram in Almora, where he was again rejected, before returning to Gujarat via Delhi and Rajasthan in 1968 to 1969. In either late 1969 or early 1970, he returned to Vadnagar for a brief visit before leaving again for Ahmedabad,[56][57] where he lived with his uncle and worked in his uncle's canteen at Gujarat State Road Transport Corporation.[58]\\n\\nIn Ahmedabad, Modi renewed his acquaintance with Inamdar, who was based at the Hedgewar Bhavan (RSS headquarters) in the city.[59][60][61] Modi's first-known political activity as an adult was in 1971 when he joined a Jana Sangh Satyagraha in Delhi led by Atal Bihari Vajpayee to enlist to fight in the Bangladesh Liberation War.[62][63] The Indira Gandhi-led central government prohibited open support for the Mukti Bahini; according to Modi, he was briefly held in Tihar Jail.[64][65][66] After the Indo-Pakistani War of 1971, Modi left his uncle's employment and became a full-time pracharak (campaigner) for the RSS,[67] working under Inamdar.[68] Shortly before the war, Modi took part in a non-violent protest in New Delhi against the Indian government, for which he was arrested; because of this arrest, Inamdar decided to mentor Modi.[68] According to Modi, he was part of a Satyagraha that led to a political war.[65][i]\\n\\nIn 1978, Modi received a Bachelor of Arts (BA) degree in political science from the School of Open Learning[71] at the Delhi University.[51][72] In 1983, he received a Master of Arts (MA) degree in political science from Gujarat University, graduating with a first class[73][74] as an external distance learning student.[75] There is a controversy surrounding the authenticity of his BA and MA degrees.[76][77][j]\\n\""
            ],
            "application/vnd.google.colaboratory.intrinsic+json": {
              "type": "string"
            }
          },
          "metadata": {},
          "execution_count": 122
        }
      ]
    },
    {
      "cell_type": "code",
      "source": [
        "import nltk\n",
        "from nltk.stem import PorterStemmer\n",
        "from nltk.corpus import stopwords"
      ],
      "metadata": {
        "id": "zZsUsUmXsqPR"
      },
      "id": "zZsUsUmXsqPR",
      "execution_count": 123,
      "outputs": []
    },
    {
      "cell_type": "markdown",
      "source": [
        " ### tokenization -> convert paragraphs sentences into words"
      ],
      "metadata": {
        "id": "qCsVXsJZtK2F"
      },
      "id": "qCsVXsJZtK2F"
    },
    {
      "cell_type": "code",
      "source": [
        "nltk.download('punkt_tab')\n",
        "sentences = nltk.sent_tokenize(corpus)\n"
      ],
      "metadata": {
        "colab": {
          "base_uri": "https://localhost:8080/"
        },
        "id": "VMkx0YX1tQKR",
        "outputId": "6bc1f81b-8263-4225-ced9-1417a0a38cd5"
      },
      "id": "VMkx0YX1tQKR",
      "execution_count": 124,
      "outputs": [
        {
          "output_type": "stream",
          "name": "stderr",
          "text": [
            "[nltk_data] Downloading package punkt_tab to /root/nltk_data...\n",
            "[nltk_data]   Package punkt_tab is already up-to-date!\n"
          ]
        }
      ]
    },
    {
      "cell_type": "code",
      "source": [
        "print(sentences)"
      ],
      "metadata": {
        "colab": {
          "base_uri": "https://localhost:8080/"
        },
        "id": "JXdmwbY-tnMj",
        "outputId": "9d8d4095-83c5-422c-fcff-a97df8b5fe71"
      },
      "id": "JXdmwbY-tnMj",
      "execution_count": 125,
      "outputs": [
        {
          "output_type": "stream",
          "name": "stdout",
          "text": [
            "['\\nNarendra Damodardas Modi[a] (born 17 September 1950) is an Indian politician who has served as the prime minister of India since 2014.', 'Modi was the chief minister of Gujarat from 2001 to 2014 and is the member of parliament (MP) for Varanasi.', 'He is a member of the Bharatiya Janata Party (BJP) and of the Rashtriya Swayamsevak Sangh (RSS), a right-wing Hindu nationalist paramilitary volunteer organisation.', 'He is the longest-serving prime minister outside the Indian National Congress.', 'Modi was born and raised in Vadnagar, Gujarat, where he completed his secondary education.', 'He was introduced to the RSS at the age of eight.', 'Modi became a full-time worker for the RSS in Gujarat in 1971.', 'The RSS assigned him to the BJP in 1985 and he rose through the party hierarchy, becoming general secretary in 1998.', '[b] In 2001, Modi was appointed chief minister of Gujarat and elected to the legislative assembly soon after.', 'His administration is considered complicit in the 2002 Gujarat riots,[c] and has been criticised for its management of the crisis.', 'According to official records, a little over 1,000 people were killed, three-quarters of whom were Muslim; independent sources estimated 2,000 deaths, mostly Muslim.', '[12] A Special Investigation Team appointed by the Supreme Court of India in 2012 found no evidence to initiate prosecution proceedings against him.', '[d] While his policies as chief minister were credited for encouraging economic growth, his administration was criticised for failing to significantly improve health, poverty and education indices in the state.', '[e]\\n\\nIn the 2014 Indian general election, Modi led the BJP to a parliamentary majority, the first for a party since 1984.', 'His administration increased direct foreign investment, and reduced spending on healthcare, education, and social-welfare programmes.', 'Modi began a high-profile sanitation campaign, and weakened or abolished environmental and labour laws.', 'His demonetisation of banknotes in 2016 and introduction of the Goods and Services Tax in 2017 sparked controversy.', \"Modi's administration launched the 2019 Balakot airstrike against an alleged terrorist training camp in Pakistan.\", 'The airstrike failed,[15][16] but the action had nationalist appeal.', \"[17] Modi's party won the 2019 general election which followed.\", 'In its second term, his administration revoked the special status of Jammu and Kashmir, and introduced the Citizenship Amendment Act, prompting widespread protests, and spurring the 2020 Delhi riots in which Muslims were brutalised and killed by Hindu mobs.', '[18][19][20] Three controversial farm laws led to sit-ins by farmers across the country, eventually causing their formal repeal.', \"Modi oversaw India's response to the COVID-19 pandemic, during which, according to the World Health Organization's estimates, 4.7 million Indians died.\", \"[21][22] In the 2024 general election, Modi's party lost its majority in the lower house of Parliament and formed a government leading the National Democratic Alliance coalition.\", 'Modi presided over the 2025 India–Pakistan conflict, which resulted in a ceasefire.', \"Under Modi's tenure, India has experienced democratic backsliding and shifted towards an authoritarian style of government with a personality cult.\", '[f] As prime minister, he has received consistently high approval ratings within India.', 'Modi has been described as engineering a political realignment towards right-wing politics.', 'He remains a highly controversial figure domestically and internationally, over his Hindu nationalist beliefs and handling of the Gujarat riots, which have been cited as evidence of a majoritarian and exclusionary social agenda.', '[g]\\n\\nEarly life and education\\nNarendra Damodardas Modi was born on 17 September 1950 to a Gujarati Hindu family of Other Backward Class (OBC) background[34][35] in Vadnagar, Mehsana district, Bombay State (present-day Gujarat).', 'He was the third of six children born to Damodardas Mulchand Modi (c.\\u20091915–1989) and Hiraben Modi (1923–2022).', \"[36][h][37]\\n\\nModi had infrequently worked as a child in his father's tea business on the Vadnagar railway station platform, according to Modi and his neighbours.\", '[38][39][40]\\n\\nModi completed his higher secondary education in Vadnagar in 1967; his teachers described him as an average student and a keen, gifted debater with an interest in theatre.', '[41] He preferred playing larger-than-life characters in theatrical productions, which has influenced his political image.', '[42][43]\\n\\nWhen Modi was eight years old, he was introduced to the Rashtriya Swayamsevak Sangh (RSS) and began attending its local shakhas (training sessions).', 'There, he met Lakshmanrao Inamdar, who inducted Modi as a balswayamsevak (junior cadet) in the RSS and became his political mentor.', \"[44] While Modi was training with the RSS, he also met Vasant Gajendragadkar and Nathalal Jaghda, Bharatiya Jana Sangh leaders who in 1980 helped found the BJP's Gujarat unit.\", '[45] As a teenager, he was enrolled in the National Cadet Corps.', \"[46]\\n\\nIn a custom traditional to Narendra Modi's caste, his family arranged a betrothal to Jashodaben Chimanlal Modi, leading to their marriage when she was 17 and he was 18.\", '[47][48] Soon afterwards, he abandoned his wife,[49] and left home.', 'The couple never divorced but the marriage was not in his public pronouncements for many decades.', '[48] In April 2014, shortly before the national election in which he gained power, Modi publicly affirmed he was married and that his spouse was Jashodaben.', '[50] A Modi biographer wrote that Modi kept the marriage a secret because he would not have been able to become a pracharak in the RSS, for which celibacy had once been a requirement.', '[51][52]\\n\\nModi spent the following two years travelling across northern and north-eastern India.', '[53] In interviews, he has described visiting Hindu ashrams founded by Swami Vivekananda: the Belur Math near Kolkata, the Advaita Ashrama in Almora and the Ramakrishna Mission in Rajkot.', 'His stays at each ashram were brief because he lacked the required college education.', \"[54] Vivekananda has had a large influence in Modi's life.\", '[55]\\n\\nIn mid 1968, Modi reached Belur Math but was turned away, after which he visited Calcutta, West Bengal and Assam, stopping in Siliguri and Guwahati.', 'He then went to the Ramakrishna Ashram in Almora, where he was again rejected, before returning to Gujarat via Delhi and Rajasthan in 1968 to 1969.', \"In either late 1969 or early 1970, he returned to Vadnagar for a brief visit before leaving again for Ahmedabad,[56][57] where he lived with his uncle and worked in his uncle's canteen at Gujarat State Road Transport Corporation.\", '[58]\\n\\nIn Ahmedabad, Modi renewed his acquaintance with Inamdar, who was based at the Hedgewar Bhavan (RSS headquarters) in the city.', \"[59][60][61] Modi's first-known political activity as an adult was in 1971 when he joined a Jana Sangh Satyagraha in Delhi led by Atal Bihari Vajpayee to enlist to fight in the Bangladesh Liberation War.\", '[62][63] The Indira Gandhi-led central government prohibited open support for the Mukti Bahini; according to Modi, he was briefly held in Tihar Jail.', \"[64][65][66] After the Indo-Pakistani War of 1971, Modi left his uncle's employment and became a full-time pracharak (campaigner) for the RSS,[67] working under Inamdar.\", '[68] Shortly before the war, Modi took part in a non-violent protest in New Delhi against the Indian government, for which he was arrested; because of this arrest, Inamdar decided to mentor Modi.', '[68] According to Modi, he was part of a Satyagraha that led to a political war.', '[65][i]\\n\\nIn 1978, Modi received a Bachelor of Arts (BA) degree in political science from the School of Open Learning[71] at the Delhi University.', '[51][72] In 1983, he received a Master of Arts (MA) degree in political science from Gujarat University, graduating with a first class[73][74] as an external distance learning student.', '[75] There is a controversy surrounding the authenticity of his BA and MA degrees.', '[76][77][j]']\n"
          ]
        }
      ]
    },
    {
      "cell_type": "code",
      "source": [
        "stemmer = PorterStemmer()"
      ],
      "metadata": {
        "id": "xtBh0I0st7wA"
      },
      "id": "xtBh0I0st7wA",
      "execution_count": 126,
      "outputs": []
    },
    {
      "cell_type": "code",
      "source": [
        "stemmer.stem('failed')"
      ],
      "metadata": {
        "colab": {
          "base_uri": "https://localhost:8080/",
          "height": 36
        },
        "id": "hZsgJPQquJI9",
        "outputId": "ea708b65-383f-44ac-bc5b-9cfde13430e7"
      },
      "id": "hZsgJPQquJI9",
      "execution_count": 127,
      "outputs": [
        {
          "output_type": "execute_result",
          "data": {
            "text/plain": [
              "'fail'"
            ],
            "application/vnd.google.colaboratory.intrinsic+json": {
              "type": "string"
            }
          },
          "metadata": {},
          "execution_count": 127
        }
      ]
    },
    {
      "cell_type": "code",
      "source": [
        "from nltk.stem import WordNetLemmatizer\n",
        "nltk.download('wordnet')"
      ],
      "metadata": {
        "colab": {
          "base_uri": "https://localhost:8080/"
        },
        "id": "HIv682DguMGk",
        "outputId": "25f0c9f2-4ee1-4401-ba10-221b428df250"
      },
      "id": "HIv682DguMGk",
      "execution_count": 128,
      "outputs": [
        {
          "output_type": "stream",
          "name": "stderr",
          "text": [
            "[nltk_data] Downloading package wordnet to /root/nltk_data...\n",
            "[nltk_data]   Package wordnet is already up-to-date!\n"
          ]
        },
        {
          "output_type": "execute_result",
          "data": {
            "text/plain": [
              "True"
            ]
          },
          "metadata": {},
          "execution_count": 128
        }
      ]
    },
    {
      "cell_type": "code",
      "source": [
        "lemmatizer = WordNetLemmatizer()"
      ],
      "metadata": {
        "id": "Sn985Q5ouc19"
      },
      "id": "Sn985Q5ouc19",
      "execution_count": 129,
      "outputs": []
    },
    {
      "cell_type": "code",
      "source": [
        "lemmatizer.lemmatize('failed')"
      ],
      "metadata": {
        "colab": {
          "base_uri": "https://localhost:8080/",
          "height": 36
        },
        "id": "l7PVcdvqug0-",
        "outputId": "3a79dc12-bd67-4900-fc34-7b132a1cc0a4"
      },
      "id": "l7PVcdvqug0-",
      "execution_count": 130,
      "outputs": [
        {
          "output_type": "execute_result",
          "data": {
            "text/plain": [
              "'failed'"
            ],
            "application/vnd.google.colaboratory.intrinsic+json": {
              "type": "string"
            }
          },
          "metadata": {},
          "execution_count": 130
        }
      ]
    },
    {
      "cell_type": "code",
      "source": [
        "len(sentences)"
      ],
      "metadata": {
        "colab": {
          "base_uri": "https://localhost:8080/"
        },
        "id": "TXUyiszRumtB",
        "outputId": "8ffa59e2-aa98-47a7-d61b-4ae14351fc77"
      },
      "id": "TXUyiszRumtB",
      "execution_count": 131,
      "outputs": [
        {
          "output_type": "execute_result",
          "data": {
            "text/plain": [
              "60"
            ]
          },
          "metadata": {},
          "execution_count": 131
        }
      ]
    },
    {
      "cell_type": "code",
      "source": [
        "import re\n",
        "corpus = []\n",
        "for i in range(len(sentences)):\n",
        "  review = re.sub('[^a-zA-Z]','',sentences[i])\n",
        "  review = review.lower()\n",
        "  review = review.split()\n",
        "  review = ' '.join(review)\n",
        "  corpus.append(review)"
      ],
      "metadata": {
        "id": "4CG2U-znvKkw"
      },
      "id": "4CG2U-znvKkw",
      "execution_count": 132,
      "outputs": []
    },
    {
      "cell_type": "code",
      "source": [
        "corpus"
      ],
      "metadata": {
        "colab": {
          "base_uri": "https://localhost:8080/"
        },
        "id": "fzXbQ-98vzOc",
        "outputId": "b7d5c105-7cd4-48a2-f4ed-bd29979a495c"
      },
      "id": "fzXbQ-98vzOc",
      "execution_count": 133,
      "outputs": [
        {
          "output_type": "execute_result",
          "data": {
            "text/plain": [
              "['narendradamodardasmodiabornseptemberisanindianpoliticianwhohasservedastheprimeministerofindiasince',\n",
              " 'modiwasthechiefministerofgujaratfromtoandisthememberofparliamentmpforvaranasi',\n",
              " 'heisamemberofthebharatiyajanatapartybjpandoftherashtriyaswayamsevaksanghrssarightwinghindunationalistparamilitaryvolunteerorganisation',\n",
              " 'heisthelongestservingprimeministeroutsidetheindiannationalcongress',\n",
              " 'modiwasbornandraisedinvadnagargujaratwherehecompletedhissecondaryeducation',\n",
              " 'hewasintroducedtotherssattheageofeight',\n",
              " 'modibecameafulltimeworkerfortherssingujaratin',\n",
              " 'therssassignedhimtothebjpinandherosethroughthepartyhierarchybecominggeneralsecretaryin',\n",
              " 'binmodiwasappointedchiefministerofgujaratandelectedtothelegislativeassemblysoonafter',\n",
              " 'hisadministrationisconsideredcomplicitinthegujaratriotscandhasbeencriticisedforitsmanagementofthecrisis',\n",
              " 'accordingtoofficialrecordsalittleoverpeoplewerekilledthreequartersofwhomweremuslimindependentsourcesestimateddeathsmostlymuslim',\n",
              " 'aspecialinvestigationteamappointedbythesupremecourtofindiainfoundnoevidencetoinitiateprosecutionproceedingsagainsthim',\n",
              " 'dwhilehispoliciesaschiefministerwerecreditedforencouragingeconomicgrowthhisadministrationwascriticisedforfailingtosignificantlyimprovehealthpovertyandeducationindicesinthestate',\n",
              " 'eintheindiangeneralelectionmodiledthebjptoaparliamentarymajoritythefirstforapartysince',\n",
              " 'hisadministrationincreaseddirectforeigninvestmentandreducedspendingonhealthcareeducationandsocialwelfareprogrammes',\n",
              " 'modibeganahighprofilesanitationcampaignandweakenedorabolishedenvironmentalandlabourlaws',\n",
              " 'hisdemonetisationofbanknotesinandintroductionofthegoodsandservicestaxinsparkedcontroversy',\n",
              " 'modisadministrationlaunchedthebalakotairstrikeagainstanallegedterroristtrainingcampinpakistan',\n",
              " 'theairstrikefailedbuttheactionhadnationalistappeal',\n",
              " 'modispartywonthegeneralelectionwhichfollowed',\n",
              " 'initssecondtermhisadministrationrevokedthespecialstatusofjammuandkashmirandintroducedthecitizenshipamendmentactpromptingwidespreadprotestsandspurringthedelhiriotsinwhichmuslimswerebrutalisedandkilledbyhindumobs',\n",
              " 'threecontroversialfarmlawsledtositinsbyfarmersacrossthecountryeventuallycausingtheirformalrepeal',\n",
              " 'modioversawindiasresponsetothecovidpandemicduringwhichaccordingtotheworldhealthorganizationsestimatesmillionindiansdied',\n",
              " 'inthegeneralelectionmodispartylostitsmajorityinthelowerhouseofparliamentandformedagovernmentleadingthenationaldemocraticalliancecoalition',\n",
              " 'modipresidedovertheindiapakistanconflictwhichresultedinaceasefire',\n",
              " 'undermodistenureindiahasexperienceddemocraticbackslidingandshiftedtowardsanauthoritarianstyleofgovernmentwithapersonalitycult',\n",
              " 'fasprimeministerhehasreceivedconsistentlyhighapprovalratingswithinindia',\n",
              " 'modihasbeendescribedasengineeringapoliticalrealignmenttowardsrightwingpolitics',\n",
              " 'heremainsahighlycontroversialfiguredomesticallyandinternationallyoverhishindunationalistbeliefsandhandlingofthegujaratriotswhichhavebeencitedasevidenceofamajoritarianandexclusionarysocialagenda',\n",
              " 'gearlylifeandeducationnarendradamodardasmodiwasbornonseptembertoagujaratihindufamilyofotherbackwardclassobcbackgroundinvadnagarmehsanadistrictbombaystatepresentdaygujarat',\n",
              " 'hewasthethirdofsixchildrenborntodamodardasmulchandmodicandhirabenmodi',\n",
              " 'hmodihadinfrequentlyworkedasachildinhisfathersteabusinessonthevadnagarrailwaystationplatformaccordingtomodiandhisneighbours',\n",
              " 'modicompletedhishighersecondaryeducationinvadnagarinhisteachersdescribedhimasanaveragestudentandakeengifteddebaterwithaninterestintheatre',\n",
              " 'hepreferredplayinglargerthanlifecharactersintheatricalproductionswhichhasinfluencedhispoliticalimage',\n",
              " 'whenmodiwaseightyearsoldhewasintroducedtotherashtriyaswayamsevaksanghrssandbeganattendingitslocalshakhastrainingsessions',\n",
              " 'therehemetlakshmanraoinamdarwhoinductedmodiasabalswayamsevakjuniorcadetintherssandbecamehispoliticalmentor',\n",
              " 'whilemodiwastrainingwiththersshealsometvasantgajendragadkarandnathalaljaghdabharatiyajanasanghleaderswhoinhelpedfoundthebjpsgujaratunit',\n",
              " 'asateenagerhewasenrolledinthenationalcadetcorps',\n",
              " 'inacustomtraditionaltonarendramodiscastehisfamilyarrangedabetrothaltojashodabenchimanlalmodileadingtotheirmarriagewhenshewasandhewas',\n",
              " 'soonafterwardsheabandonedhiswifeandlefthome',\n",
              " 'thecoupleneverdivorcedbutthemarriagewasnotinhispublicpronouncementsformanydecades',\n",
              " 'inaprilshortlybeforethenationalelectioninwhichhegainedpowermodipubliclyaffirmedhewasmarriedandthathisspousewasjashodaben',\n",
              " 'amodibiographerwrotethatmodikeptthemarriageasecretbecausehewouldnothavebeenabletobecomeapracharakintherssforwhichcelibacyhadoncebeenarequirement',\n",
              " 'modispentthefollowingtwoyearstravellingacrossnorthernandnortheasternindia',\n",
              " 'ininterviewshehasdescribedvisitinghinduashramsfoundedbyswamivivekanandathebelurmathnearkolkatatheadvaitaashramainalmoraandtheramakrishnamissioninrajkot',\n",
              " 'hisstaysateachashramwerebriefbecausehelackedtherequiredcollegeeducation',\n",
              " 'vivekanandahashadalargeinfluenceinmodislife',\n",
              " 'inmidmodireachedbelurmathbutwasturnedawayafterwhichhevisitedcalcuttawestbengalandassamstoppinginsiliguriandguwahati',\n",
              " 'hethenwenttotheramakrishnaashraminalmorawherehewasagainrejectedbeforereturningtogujaratviadelhiandrajasthaninto',\n",
              " 'ineitherlateorearlyhereturnedtovadnagarforabriefvisitbeforeleavingagainforahmedabadwherehelivedwithhisuncleandworkedinhisunclescanteenatgujaratstateroadtransportcorporation',\n",
              " 'inahmedabadmodirenewedhisacquaintancewithinamdarwhowasbasedatthehedgewarbhavanrssheadquartersinthecity',\n",
              " 'modisfirstknownpoliticalactivityasanadultwasinwhenhejoinedajanasanghsatyagrahaindelhiledbyatalbiharivajpayeetoenlisttofightinthebangladeshliberationwar',\n",
              " 'theindiragandhiledcentralgovernmentprohibitedopensupportforthemuktibahiniaccordingtomodihewasbrieflyheldintiharjail',\n",
              " 'aftertheindopakistaniwarofmodilefthisunclesemploymentandbecameafulltimepracharakcampaignerfortherssworkingunderinamdar',\n",
              " 'shortlybeforethewarmoditookpartinanonviolentprotestinnewdelhiagainsttheindiangovernmentforwhichhewasarrestedbecauseofthisarrestinamdardecidedtomentormodi',\n",
              " 'accordingtomodihewaspartofasatyagrahathatledtoapoliticalwar',\n",
              " 'iinmodireceivedabachelorofartsbadegreeinpoliticalsciencefromtheschoolofopenlearningatthedelhiuniversity',\n",
              " 'inhereceivedamasterofartsmadegreeinpoliticalsciencefromgujaratuniversitygraduatingwithafirstclassasanexternaldistancelearningstudent',\n",
              " 'thereisacontroversysurroundingtheauthenticityofhisbaandmadegrees',\n",
              " 'j']"
            ]
          },
          "metadata": {},
          "execution_count": 133
        }
      ]
    },
    {
      "cell_type": "code",
      "source": [
        "nltk.download('stopwords')\n",
        "for i in corpus:\n",
        "  words = nltk.word_tokenize(i[0])\n",
        "  for word in words:\n",
        "    if word not in set(stopwords.words('english')):\n",
        "      print(stemmer.stem(word))"
      ],
      "metadata": {
        "colab": {
          "base_uri": "https://localhost:8080/"
        },
        "id": "BzbU2BPawHf5",
        "outputId": "110d978c-2879-4ad4-d21a-281e56779e60"
      },
      "id": "BzbU2BPawHf5",
      "execution_count": 134,
      "outputs": [
        {
          "output_type": "stream",
          "name": "stdout",
          "text": [
            "n\n",
            "h\n",
            "h\n",
            "h\n",
            "b\n",
            "h\n",
            "e\n",
            "h\n",
            "h\n",
            "u\n",
            "f\n",
            "h\n",
            "g\n",
            "h\n",
            "h\n",
            "h\n",
            "w\n",
            "w\n",
            "h\n",
            "v\n",
            "h\n",
            "j\n"
          ]
        },
        {
          "output_type": "stream",
          "name": "stderr",
          "text": [
            "[nltk_data] Downloading package stopwords to /root/nltk_data...\n",
            "[nltk_data]   Package stopwords is already up-to-date!\n"
          ]
        }
      ]
    },
    {
      "cell_type": "code",
      "source": [
        "stopwords.words('english')"
      ],
      "metadata": {
        "id": "lgcz7MDHw21X",
        "outputId": "4278edef-a50d-4508-a5c9-6b632e5cd797",
        "colab": {
          "base_uri": "https://localhost:8080/"
        }
      },
      "id": "lgcz7MDHw21X",
      "execution_count": 135,
      "outputs": [
        {
          "output_type": "execute_result",
          "data": {
            "text/plain": [
              "['a',\n",
              " 'about',\n",
              " 'above',\n",
              " 'after',\n",
              " 'again',\n",
              " 'against',\n",
              " 'ain',\n",
              " 'all',\n",
              " 'am',\n",
              " 'an',\n",
              " 'and',\n",
              " 'any',\n",
              " 'are',\n",
              " 'aren',\n",
              " \"aren't\",\n",
              " 'as',\n",
              " 'at',\n",
              " 'be',\n",
              " 'because',\n",
              " 'been',\n",
              " 'before',\n",
              " 'being',\n",
              " 'below',\n",
              " 'between',\n",
              " 'both',\n",
              " 'but',\n",
              " 'by',\n",
              " 'can',\n",
              " 'couldn',\n",
              " \"couldn't\",\n",
              " 'd',\n",
              " 'did',\n",
              " 'didn',\n",
              " \"didn't\",\n",
              " 'do',\n",
              " 'does',\n",
              " 'doesn',\n",
              " \"doesn't\",\n",
              " 'doing',\n",
              " 'don',\n",
              " \"don't\",\n",
              " 'down',\n",
              " 'during',\n",
              " 'each',\n",
              " 'few',\n",
              " 'for',\n",
              " 'from',\n",
              " 'further',\n",
              " 'had',\n",
              " 'hadn',\n",
              " \"hadn't\",\n",
              " 'has',\n",
              " 'hasn',\n",
              " \"hasn't\",\n",
              " 'have',\n",
              " 'haven',\n",
              " \"haven't\",\n",
              " 'having',\n",
              " 'he',\n",
              " \"he'd\",\n",
              " \"he'll\",\n",
              " 'her',\n",
              " 'here',\n",
              " 'hers',\n",
              " 'herself',\n",
              " \"he's\",\n",
              " 'him',\n",
              " 'himself',\n",
              " 'his',\n",
              " 'how',\n",
              " 'i',\n",
              " \"i'd\",\n",
              " 'if',\n",
              " \"i'll\",\n",
              " \"i'm\",\n",
              " 'in',\n",
              " 'into',\n",
              " 'is',\n",
              " 'isn',\n",
              " \"isn't\",\n",
              " 'it',\n",
              " \"it'd\",\n",
              " \"it'll\",\n",
              " \"it's\",\n",
              " 'its',\n",
              " 'itself',\n",
              " \"i've\",\n",
              " 'just',\n",
              " 'll',\n",
              " 'm',\n",
              " 'ma',\n",
              " 'me',\n",
              " 'mightn',\n",
              " \"mightn't\",\n",
              " 'more',\n",
              " 'most',\n",
              " 'mustn',\n",
              " \"mustn't\",\n",
              " 'my',\n",
              " 'myself',\n",
              " 'needn',\n",
              " \"needn't\",\n",
              " 'no',\n",
              " 'nor',\n",
              " 'not',\n",
              " 'now',\n",
              " 'o',\n",
              " 'of',\n",
              " 'off',\n",
              " 'on',\n",
              " 'once',\n",
              " 'only',\n",
              " 'or',\n",
              " 'other',\n",
              " 'our',\n",
              " 'ours',\n",
              " 'ourselves',\n",
              " 'out',\n",
              " 'over',\n",
              " 'own',\n",
              " 're',\n",
              " 's',\n",
              " 'same',\n",
              " 'shan',\n",
              " \"shan't\",\n",
              " 'she',\n",
              " \"she'd\",\n",
              " \"she'll\",\n",
              " \"she's\",\n",
              " 'should',\n",
              " 'shouldn',\n",
              " \"shouldn't\",\n",
              " \"should've\",\n",
              " 'so',\n",
              " 'some',\n",
              " 'such',\n",
              " 't',\n",
              " 'than',\n",
              " 'that',\n",
              " \"that'll\",\n",
              " 'the',\n",
              " 'their',\n",
              " 'theirs',\n",
              " 'them',\n",
              " 'themselves',\n",
              " 'then',\n",
              " 'there',\n",
              " 'these',\n",
              " 'they',\n",
              " \"they'd\",\n",
              " \"they'll\",\n",
              " \"they're\",\n",
              " \"they've\",\n",
              " 'this',\n",
              " 'those',\n",
              " 'through',\n",
              " 'to',\n",
              " 'too',\n",
              " 'under',\n",
              " 'until',\n",
              " 'up',\n",
              " 've',\n",
              " 'very',\n",
              " 'was',\n",
              " 'wasn',\n",
              " \"wasn't\",\n",
              " 'we',\n",
              " \"we'd\",\n",
              " \"we'll\",\n",
              " \"we're\",\n",
              " 'were',\n",
              " 'weren',\n",
              " \"weren't\",\n",
              " \"we've\",\n",
              " 'what',\n",
              " 'when',\n",
              " 'where',\n",
              " 'which',\n",
              " 'while',\n",
              " 'who',\n",
              " 'whom',\n",
              " 'why',\n",
              " 'will',\n",
              " 'with',\n",
              " 'won',\n",
              " \"won't\",\n",
              " 'wouldn',\n",
              " \"wouldn't\",\n",
              " 'y',\n",
              " 'you',\n",
              " \"you'd\",\n",
              " \"you'll\",\n",
              " 'your',\n",
              " \"you're\",\n",
              " 'yours',\n",
              " 'yourself',\n",
              " 'yourselves',\n",
              " \"you've\"]"
            ]
          },
          "metadata": {},
          "execution_count": 135
        }
      ]
    },
    {
      "cell_type": "code",
      "source": [
        "nltk.download('stopwords')\n",
        "for i in corpus:\n",
        "  words = nltk.word_tokenize(i[0])\n",
        "  for word in words:\n",
        "    if word not in set(stopwords.words('english')):\n",
        "      print(lemmatizer.lemmatize(word))"
      ],
      "metadata": {
        "id": "tEvICWYxx7YG",
        "outputId": "757a4e1d-9ef6-49ca-ec4d-d309874de6a9",
        "colab": {
          "base_uri": "https://localhost:8080/"
        }
      },
      "id": "tEvICWYxx7YG",
      "execution_count": 136,
      "outputs": [
        {
          "output_type": "stream",
          "name": "stdout",
          "text": [
            "n\n",
            "h\n",
            "h\n",
            "h\n",
            "b\n",
            "h\n",
            "e\n",
            "h\n",
            "h\n",
            "u\n",
            "f\n",
            "h\n",
            "g\n",
            "h\n",
            "h\n",
            "h\n",
            "w\n",
            "w\n",
            "h\n",
            "v\n",
            "h\n",
            "j\n"
          ]
        },
        {
          "output_type": "stream",
          "name": "stderr",
          "text": [
            "[nltk_data] Downloading package stopwords to /root/nltk_data...\n",
            "[nltk_data]   Package stopwords is already up-to-date!\n"
          ]
        }
      ]
    },
    {
      "cell_type": "code",
      "source": [
        "from sklearn.feature_extraction.text import CountVectorizer"
      ],
      "metadata": {
        "id": "SUpSLwabyIAb"
      },
      "id": "SUpSLwabyIAb",
      "execution_count": 137,
      "outputs": []
    },
    {
      "cell_type": "code",
      "source": [
        "cv = CountVectorizer()"
      ],
      "metadata": {
        "id": "wJWksPR9ym-U"
      },
      "id": "wJWksPR9ym-U",
      "execution_count": 138,
      "outputs": []
    },
    {
      "cell_type": "code",
      "source": [
        "X = cv.fit_transform(corpus)"
      ],
      "metadata": {
        "id": "z2EosQJTyt5f"
      },
      "id": "z2EosQJTyt5f",
      "execution_count": 139,
      "outputs": []
    },
    {
      "cell_type": "code",
      "source": [
        "cv.vocabulary_"
      ],
      "metadata": {
        "id": "jb5hsJrjy0IA",
        "outputId": "9761381d-41cf-4864-d751-5e204e2bc046",
        "colab": {
          "base_uri": "https://localhost:8080/"
        }
      },
      "id": "jb5hsJrjy0IA",
      "execution_count": 140,
      "outputs": [
        {
          "output_type": "execute_result",
          "data": {
            "text/plain": [
              "{'narendradamodardasmodiabornseptemberisanindianpoliticianwhohasservedastheprimeministerofindiasince': 45,\n",
              " 'modiwasthechiefministerofgujaratfromtoandisthememberofparliamentmpforvaranasi': 44,\n",
              " 'heisamemberofthebharatiyajanatapartybjpandoftherashtriyaswayamsevaksanghrssarightwinghindunationalistparamilitaryvolunteerorganisation': 11,\n",
              " 'heisthelongestservingprimeministeroutsidetheindiannationalcongress': 12,\n",
              " 'modiwasbornandraisedinvadnagargujaratwherehecompletedhissecondaryeducation': 43,\n",
              " 'hewasintroducedtotherssattheageofeight': 16,\n",
              " 'modibecameafulltimeworkerfortherssingujaratin': 33,\n",
              " 'therssassignedhimtothebjpinandherosethroughthepartyhierarchybecominggeneralsecretaryin': 53,\n",
              " 'binmodiwasappointedchiefministerofgujaratandelectedtothelegislativeassemblysoonafter': 6,\n",
              " 'hisadministrationisconsideredcomplicitinthegujaratriotscandhasbeencriticisedforitsmanagementofthecrisis': 19,\n",
              " 'accordingtoofficialrecordsalittleoverpeoplewerekilledthreequartersofwhomweremuslimindependentsourcesestimateddeathsmostlymuslim': 1,\n",
              " 'aspecialinvestigationteamappointedbythesupremecourtofindiainfoundnoevidencetoinitiateprosecutionproceedingsagainsthim': 5,\n",
              " 'dwhilehispoliciesaschiefministerwerecreditedforencouragingeconomicgrowthhisadministrationwascriticisedforfailingtosignificantlyimprovehealthpovertyandeducationindicesinthestate': 7,\n",
              " 'eintheindiangeneralelectionmodiledthebjptoaparliamentarymajoritythefirstforapartysince': 8,\n",
              " 'hisadministrationincreaseddirectforeigninvestmentandreducedspendingonhealthcareeducationandsocialwelfareprogrammes': 18,\n",
              " 'modibeganahighprofilesanitationcampaignandweakenedorabolishedenvironmentalandlabourlaws': 34,\n",
              " 'hisdemonetisationofbanknotesinandintroductionofthegoodsandservicestaxinsparkedcontroversy': 20,\n",
              " 'modisadministrationlaunchedthebalakotairstrikeagainstanallegedterroristtrainingcampinpakistan': 39,\n",
              " 'theairstrikefailedbuttheactionhadnationalistappeal': 48,\n",
              " 'modispartywonthegeneralelectionwhichfollowed': 41,\n",
              " 'initssecondtermhisadministrationrevokedthespecialstatusofjammuandkashmirandintroducedthecitizenshipamendmentactpromptingwidespreadprotestsandspurringthedelhiriotsinwhichmuslimswerebrutalisedandkilledbyhindumobs': 30,\n",
              " 'threecontroversialfarmlawsledtositinsbyfarmersacrossthecountryeventuallycausingtheirformalrepeal': 54,\n",
              " 'modioversawindiasresponsetothecovidpandemicduringwhichaccordingtotheworldhealthorganizationsestimatesmillionindiansdied': 37,\n",
              " 'inthegeneralelectionmodispartylostitsmajorityinthelowerhouseofparliamentandformedagovernmentleadingthenationaldemocraticalliancecoalition': 32,\n",
              " 'modipresidedovertheindiapakistanconflictwhichresultedinaceasefire': 38,\n",
              " 'undermodistenureindiahasexperienceddemocraticbackslidingandshiftedtowardsanauthoritarianstyleofgovernmentwithapersonalitycult': 55,\n",
              " 'fasprimeministerhehasreceivedconsistentlyhighapprovalratingswithinindia': 9,\n",
              " 'modihasbeendescribedasengineeringapoliticalrealignmenttowardsrightwingpolitics': 36,\n",
              " 'heremainsahighlycontroversialfiguredomesticallyandinternationallyoverhishindunationalistbeliefsandhandlingofthegujaratriotswhichhavebeencitedasevidenceofamajoritarianandexclusionarysocialagenda': 14,\n",
              " 'gearlylifeandeducationnarendradamodardasmodiwasbornonseptembertoagujaratihindufamilyofotherbackwardclassobcbackgroundinvadnagarmehsanadistrictbombaystatepresentdaygujarat': 10,\n",
              " 'hewasthethirdofsixchildrenborntodamodardasmulchandmodicandhirabenmodi': 17,\n",
              " 'hmodihadinfrequentlyworkedasachildinhisfathersteabusinessonthevadnagarrailwaystationplatformaccordingtomodiandhisneighbours': 22,\n",
              " 'modicompletedhishighersecondaryeducationinvadnagarinhisteachersdescribedhimasanaveragestudentandakeengifteddebaterwithaninterestintheatre': 35,\n",
              " 'hepreferredplayinglargerthanlifecharactersintheatricalproductionswhichhasinfluencedhispoliticalimage': 13,\n",
              " 'whenmodiwaseightyearsoldhewasintroducedtotherashtriyaswayamsevaksanghrssandbeganattendingitslocalshakhastrainingsessions': 57,\n",
              " 'therehemetlakshmanraoinamdarwhoinductedmodiasabalswayamsevakjuniorcadetintherssandbecamehispoliticalmentor': 51,\n",
              " 'whilemodiwastrainingwiththersshealsometvasantgajendragadkarandnathalaljaghdabharatiyajanasanghleaderswhoinhelpedfoundthebjpsgujaratunit': 58,\n",
              " 'asateenagerhewasenrolledinthenationalcadetcorps': 4,\n",
              " 'inacustomtraditionaltonarendramodiscastehisfamilyarrangedabetrothaltojashodabenchimanlalmodileadingtotheirmarriagewhenshewasandhewas': 24,\n",
              " 'soonafterwardsheabandonedhiswifeandlefthome': 47,\n",
              " 'thecoupleneverdivorcedbutthemarriagewasnotinhispublicpronouncementsformanydecades': 49,\n",
              " 'inaprilshortlybeforethenationalelectioninwhichhegainedpowermodipubliclyaffirmedhewasmarriedandthathisspousewasjashodaben': 26,\n",
              " 'amodibiographerwrotethatmodikeptthemarriageasecretbecausehewouldnothavebeenabletobecomeapracharakintherssforwhichcelibacyhadoncebeenarequirement': 3,\n",
              " 'modispentthefollowingtwoyearstravellingacrossnorthernandnortheasternindia': 42,\n",
              " 'ininterviewshehasdescribedvisitinghinduashramsfoundedbyswamivivekanandathebelurmathnearkolkatatheadvaitaashramainalmoraandtheramakrishnamissioninrajkot': 29,\n",
              " 'hisstaysateachashramwerebriefbecausehelackedtherequiredcollegeeducation': 21,\n",
              " 'vivekanandahashadalargeinfluenceinmodislife': 56,\n",
              " 'inmidmodireachedbelurmathbutwasturnedawayafterwhichhevisitedcalcuttawestbengalandassamstoppinginsiliguriandguwahati': 31,\n",
              " 'hethenwenttotheramakrishnaashraminalmorawherehewasagainrejectedbeforereturningtogujaratviadelhiandrajasthaninto': 15,\n",
              " 'ineitherlateorearlyhereturnedtovadnagarforabriefvisitbeforeleavingagainforahmedabadwherehelivedwithhisuncleandworkedinhisunclescanteenatgujaratstateroadtransportcorporation': 27,\n",
              " 'inahmedabadmodirenewedhisacquaintancewithinamdarwhowasbasedatthehedgewarbhavanrssheadquartersinthecity': 25,\n",
              " 'modisfirstknownpoliticalactivityasanadultwasinwhenhejoinedajanasanghsatyagrahaindelhiledbyatalbiharivajpayeetoenlisttofightinthebangladeshliberationwar': 40,\n",
              " 'theindiragandhiledcentralgovernmentprohibitedopensupportforthemuktibahiniaccordingtomodihewasbrieflyheldintiharjail': 50,\n",
              " 'aftertheindopakistaniwarofmodilefthisunclesemploymentandbecameafulltimepracharakcampaignerfortherssworkingunderinamdar': 2,\n",
              " 'shortlybeforethewarmoditookpartinanonviolentprotestinnewdelhiagainsttheindiangovernmentforwhichhewasarrestedbecauseofthisarrestinamdardecidedtomentormodi': 46,\n",
              " 'accordingtomodihewaspartofasatyagrahathatledtoapoliticalwar': 0,\n",
              " 'iinmodireceivedabachelorofartsbadegreeinpoliticalsciencefromtheschoolofopenlearningatthedelhiuniversity': 23,\n",
              " 'inhereceivedamasterofartsmadegreeinpoliticalsciencefromgujaratuniversitygraduatingwithafirstclassasanexternaldistancelearningstudent': 28,\n",
              " 'thereisacontroversysurroundingtheauthenticityofhisbaandmadegrees': 52}"
            ]
          },
          "metadata": {},
          "execution_count": 140
        }
      ]
    },
    {
      "cell_type": "code",
      "source": [
        "corpus[0]"
      ],
      "metadata": {
        "id": "XGdKURs7zQVv",
        "outputId": "05c9bb76-aa04-4aa6-fdcc-226444462e5e",
        "colab": {
          "base_uri": "https://localhost:8080/",
          "height": 53
        }
      },
      "id": "XGdKURs7zQVv",
      "execution_count": 141,
      "outputs": [
        {
          "output_type": "execute_result",
          "data": {
            "text/plain": [
              "'narendradamodardasmodiabornseptemberisanindianpoliticianwhohasservedastheprimeministerofindiasince'"
            ],
            "application/vnd.google.colaboratory.intrinsic+json": {
              "type": "string"
            }
          },
          "metadata": {},
          "execution_count": 141
        }
      ]
    },
    {
      "cell_type": "code",
      "source": [
        "X[0].toarray()"
      ],
      "metadata": {
        "id": "jH-V6Gg_zrho",
        "outputId": "4d640faa-f58a-45a2-df8d-cdbcaa4ed4f1",
        "colab": {
          "base_uri": "https://localhost:8080/"
        }
      },
      "id": "jH-V6Gg_zrho",
      "execution_count": 142,
      "outputs": [
        {
          "output_type": "execute_result",
          "data": {
            "text/plain": [
              "array([[0, 0, 0, 0, 0, 0, 0, 0, 0, 0, 0, 0, 0, 0, 0, 0, 0, 0, 0, 0, 0, 0,\n",
              "        0, 0, 0, 0, 0, 0, 0, 0, 0, 0, 0, 0, 0, 0, 0, 0, 0, 0, 0, 0, 0, 0,\n",
              "        0, 1, 0, 0, 0, 0, 0, 0, 0, 0, 0, 0, 0, 0, 0]])"
            ]
          },
          "metadata": {},
          "execution_count": 142
        }
      ]
    },
    {
      "cell_type": "code",
      "source": [],
      "metadata": {
        "id": "b66wEjJszzbe"
      },
      "id": "b66wEjJszzbe",
      "execution_count": 142,
      "outputs": []
    }
  ],
  "metadata": {
    "language_info": {
      "name": "python"
    },
    "colab": {
      "provenance": [],
      "gpuType": "T4"
    },
    "accelerator": "GPU",
    "kernelspec": {
      "name": "python3",
      "display_name": "Python 3"
    }
  },
  "nbformat": 4,
  "nbformat_minor": 5
}