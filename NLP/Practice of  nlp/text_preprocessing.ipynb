{
 "cells": [
  {
   "cell_type": "markdown",
   "id": "06ded25e",
   "metadata": {},
   "source": [
    "[![Open In Colab](https://colab.research.google.com/assets/colab-badge.svg)](https://colab.research.google.com/github/Anutri03/ML-AI-prep/blob/main/NLP/Practice%20of%20%20nlp/text_preprocessing.ipynb)\n"
   ]
  },
  {
   "cell_type": "markdown",
   "id": "bc24a479",
   "metadata": {},
   "source": []
  }
 ],
 "metadata": {
  "language_info": {
   "name": "python"
  }
 },
 "nbformat": 4,
 "nbformat_minor": 5
}
