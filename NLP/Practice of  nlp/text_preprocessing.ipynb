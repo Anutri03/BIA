{
 "cells": [
  {
   "cell_type": "markdown",
   "id": "06ded25e",
   "metadata": {},
   "source": [
    "[![Open In Colab](https://colab.research.google.com/assets/colab-badge.svg)](https://colab.research.google.com/github/your-repo/your-notebook.ipynb)"
   ]
  },
  {
   "cell_type": "markdown",
   "id": "756563a9",
   "metadata": {},
   "source": []
  }
 ],
 "metadata": {
  "language_info": {
   "name": "python"
  }
 },
 "nbformat": 4,
 "nbformat_minor": 5
}
