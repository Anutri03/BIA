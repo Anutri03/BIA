{
  "cells": [
    {
      "cell_type": "markdown",
      "id": "1c70f294",
      "metadata": {
        "id": "1c70f294"
      },
      "source": [
        "[![Open In Colab](https://colab.research.google.com/assets/colab-badge.svg)](https://colab.research.google.com/github/Anutri03/ML-AI-prep/blob/main/NLP/TrueFakenewsclassification.ipynb)\n"
      ]
    },
    {
      "cell_type": "code",
      "execution_count": 1,
      "id": "28f58c7e",
      "metadata": {
        "vscode": {
          "languageId": "plaintext"
        },
        "id": "28f58c7e"
      },
      "outputs": [],
      "source": [
        "!pip install -q scikit-learn"
      ]
    },
    {
      "cell_type": "code",
      "source": [
        "import numpy as np\n",
        "import pandas as pd\n",
        "import matplotlib.pyplot as plt\n",
        "import seaborn as sns\n",
        "import re # regular expression"
      ],
      "metadata": {
        "id": "YdINUk5Ss12L"
      },
      "id": "YdINUk5Ss12L",
      "execution_count": 2,
      "outputs": []
    },
    {
      "cell_type": "code",
      "source": [
        "import nltk\n",
        "import tensorflow as tf\n",
        "from tensorflow.keras.preprocessing.text import Tokenizer\n",
        "from tensorflow.keras.preprocessing.sequence import pad_sequences\n",
        "from nltk.corpus import stopwords\n",
        "from nltk.stem.porter import PorterStemmer\n",
        "\n",
        "from tensorflow.keras.layers import Embedding\n",
        "from tensorflow.keras.models import Sequential\n",
        "from tensorflow.keras.preprocessing.text import one_hot\n",
        "from tensorflow.keras.layers import LSTM ,Dense , Dropout\n",
        "from sklearn.metrics import confusion_matrix,accuracy_score,classification_report\n"
      ],
      "metadata": {
        "id": "iQRG7u4Ps-h8"
      },
      "id": "iQRG7u4Ps-h8",
      "execution_count": 3,
      "outputs": []
    },
    {
      "cell_type": "code",
      "source": [
        "nltk.download('stopwords')\n",
        "nltk.download('punkt_tab')\n",
        "\n",
        "from nltk.corpus import stopwords\n",
        "stopwords = stopwords.words('english')\n",
        "from nltk.tokenize import word_tokenize\n",
        "\n",
        "print(\"libraries loaded\")\n",
        "#print it"
      ],
      "metadata": {
        "colab": {
          "base_uri": "https://localhost:8080/"
        },
        "id": "pgSZHYXyt5_c",
        "outputId": "30800a30-20c0-4dcb-b994-523e63da2aee"
      },
      "id": "pgSZHYXyt5_c",
      "execution_count": 4,
      "outputs": [
        {
          "output_type": "stream",
          "name": "stderr",
          "text": [
            "[nltk_data] Downloading package stopwords to /root/nltk_data...\n",
            "[nltk_data]   Unzipping corpora/stopwords.zip.\n",
            "[nltk_data] Downloading package punkt_tab to /root/nltk_data...\n"
          ]
        },
        {
          "output_type": "stream",
          "name": "stdout",
          "text": [
            "libraries loaded\n"
          ]
        },
        {
          "output_type": "stream",
          "name": "stderr",
          "text": [
            "[nltk_data]   Unzipping tokenizers/punkt_tab.zip.\n"
          ]
        }
      ]
    },
    {
      "cell_type": "code",
      "source": [
        "!wget -q https://nlp.stanford.edu/data/glove.6B.zip\n",
        "!unzip -q glove.6B.zip\n"
      ],
      "metadata": {
        "id": "GXvl1T4AuUwX"
      },
      "id": "GXvl1T4AuUwX",
      "execution_count": 5,
      "outputs": []
    },
    {
      "cell_type": "code",
      "source": [
        "embedding_index = {}\n",
        "with open('glove.6B.100d.txt',encoding='utf-8') as f:\n",
        "  for line in f:\n",
        "    values = line.split()\n",
        "    word = values[0]\n",
        "    coefs = np.asarray(values[1:],dtype='float32')\n",
        "    embedding_index[word] = coefs\n",
        "\n",
        "print(f'loaded {len(embedding_index)} word vectors.')"
      ],
      "metadata": {
        "id": "rZBg85fmunnO",
        "colab": {
          "base_uri": "https://localhost:8080/"
        },
        "outputId": "eb76bb15-6094-4ecd-e0dd-74b4a9df6992"
      },
      "id": "rZBg85fmunnO",
      "execution_count": 9,
      "outputs": [
        {
          "output_type": "stream",
          "name": "stdout",
          "text": [
            "loaded 400000 word vectors.\n"
          ]
        }
      ]
    },
    {
      "cell_type": "code",
      "source": [
        "true_df = pd.read_csv('True.csv')\n",
        "fake_df = pd.read_csv('Fake.csv')"
      ],
      "metadata": {
        "id": "OA0buiaxvurD"
      },
      "id": "OA0buiaxvurD",
      "execution_count": 10,
      "outputs": []
    },
    {
      "cell_type": "code",
      "source": [
        "true_df.head()"
      ],
      "metadata": {
        "colab": {
          "base_uri": "https://localhost:8080/",
          "height": 431
        },
        "id": "aof7gqNGyGKz",
        "outputId": "69887d9f-a261-446f-e8e8-46f55d6d7af5"
      },
      "id": "aof7gqNGyGKz",
      "execution_count": 13,
      "outputs": [
        {
          "output_type": "execute_result",
          "data": {
            "text/plain": [
              "                                               title  \\\n",
              "0  As U.S. budget fight looms, Republicans flip t...   \n",
              "1  U.S. military to accept transgender recruits o...   \n",
              "2  Senior U.S. Republican senator: 'Let Mr. Muell...   \n",
              "3  FBI Russia probe helped by Australian diplomat...   \n",
              "4  Trump wants Postal Service to charge 'much mor...   \n",
              "\n",
              "                                                text       subject  \\\n",
              "0  WASHINGTON (Reuters) - The head of a conservat...  politicsNews   \n",
              "1  WASHINGTON (Reuters) - Transgender people will...  politicsNews   \n",
              "2  WASHINGTON (Reuters) - The special counsel inv...  politicsNews   \n",
              "3  WASHINGTON (Reuters) - Trump campaign adviser ...  politicsNews   \n",
              "4  SEATTLE/WASHINGTON (Reuters) - President Donal...  politicsNews   \n",
              "\n",
              "                 date  label  \n",
              "0  December 31, 2017       1  \n",
              "1  December 29, 2017       1  \n",
              "2  December 31, 2017       1  \n",
              "3  December 30, 2017       1  \n",
              "4  December 29, 2017       1  "
            ],
            "text/html": [
              "\n",
              "  <div id=\"df-e8b1adb7-72c9-4556-80c8-e44bd304f16c\" class=\"colab-df-container\">\n",
              "    <div>\n",
              "<style scoped>\n",
              "    .dataframe tbody tr th:only-of-type {\n",
              "        vertical-align: middle;\n",
              "    }\n",
              "\n",
              "    .dataframe tbody tr th {\n",
              "        vertical-align: top;\n",
              "    }\n",
              "\n",
              "    .dataframe thead th {\n",
              "        text-align: right;\n",
              "    }\n",
              "</style>\n",
              "<table border=\"1\" class=\"dataframe\">\n",
              "  <thead>\n",
              "    <tr style=\"text-align: right;\">\n",
              "      <th></th>\n",
              "      <th>title</th>\n",
              "      <th>text</th>\n",
              "      <th>subject</th>\n",
              "      <th>date</th>\n",
              "      <th>label</th>\n",
              "    </tr>\n",
              "  </thead>\n",
              "  <tbody>\n",
              "    <tr>\n",
              "      <th>0</th>\n",
              "      <td>As U.S. budget fight looms, Republicans flip t...</td>\n",
              "      <td>WASHINGTON (Reuters) - The head of a conservat...</td>\n",
              "      <td>politicsNews</td>\n",
              "      <td>December 31, 2017</td>\n",
              "      <td>1</td>\n",
              "    </tr>\n",
              "    <tr>\n",
              "      <th>1</th>\n",
              "      <td>U.S. military to accept transgender recruits o...</td>\n",
              "      <td>WASHINGTON (Reuters) - Transgender people will...</td>\n",
              "      <td>politicsNews</td>\n",
              "      <td>December 29, 2017</td>\n",
              "      <td>1</td>\n",
              "    </tr>\n",
              "    <tr>\n",
              "      <th>2</th>\n",
              "      <td>Senior U.S. Republican senator: 'Let Mr. Muell...</td>\n",
              "      <td>WASHINGTON (Reuters) - The special counsel inv...</td>\n",
              "      <td>politicsNews</td>\n",
              "      <td>December 31, 2017</td>\n",
              "      <td>1</td>\n",
              "    </tr>\n",
              "    <tr>\n",
              "      <th>3</th>\n",
              "      <td>FBI Russia probe helped by Australian diplomat...</td>\n",
              "      <td>WASHINGTON (Reuters) - Trump campaign adviser ...</td>\n",
              "      <td>politicsNews</td>\n",
              "      <td>December 30, 2017</td>\n",
              "      <td>1</td>\n",
              "    </tr>\n",
              "    <tr>\n",
              "      <th>4</th>\n",
              "      <td>Trump wants Postal Service to charge 'much mor...</td>\n",
              "      <td>SEATTLE/WASHINGTON (Reuters) - President Donal...</td>\n",
              "      <td>politicsNews</td>\n",
              "      <td>December 29, 2017</td>\n",
              "      <td>1</td>\n",
              "    </tr>\n",
              "  </tbody>\n",
              "</table>\n",
              "</div>\n",
              "    <div class=\"colab-df-buttons\">\n",
              "\n",
              "  <div class=\"colab-df-container\">\n",
              "    <button class=\"colab-df-convert\" onclick=\"convertToInteractive('df-e8b1adb7-72c9-4556-80c8-e44bd304f16c')\"\n",
              "            title=\"Convert this dataframe to an interactive table.\"\n",
              "            style=\"display:none;\">\n",
              "\n",
              "  <svg xmlns=\"http://www.w3.org/2000/svg\" height=\"24px\" viewBox=\"0 -960 960 960\">\n",
              "    <path d=\"M120-120v-720h720v720H120Zm60-500h600v-160H180v160Zm220 220h160v-160H400v160Zm0 220h160v-160H400v160ZM180-400h160v-160H180v160Zm440 0h160v-160H620v160ZM180-180h160v-160H180v160Zm440 0h160v-160H620v160Z\"/>\n",
              "  </svg>\n",
              "    </button>\n",
              "\n",
              "  <style>\n",
              "    .colab-df-container {\n",
              "      display:flex;\n",
              "      gap: 12px;\n",
              "    }\n",
              "\n",
              "    .colab-df-convert {\n",
              "      background-color: #E8F0FE;\n",
              "      border: none;\n",
              "      border-radius: 50%;\n",
              "      cursor: pointer;\n",
              "      display: none;\n",
              "      fill: #1967D2;\n",
              "      height: 32px;\n",
              "      padding: 0 0 0 0;\n",
              "      width: 32px;\n",
              "    }\n",
              "\n",
              "    .colab-df-convert:hover {\n",
              "      background-color: #E2EBFA;\n",
              "      box-shadow: 0px 1px 2px rgba(60, 64, 67, 0.3), 0px 1px 3px 1px rgba(60, 64, 67, 0.15);\n",
              "      fill: #174EA6;\n",
              "    }\n",
              "\n",
              "    .colab-df-buttons div {\n",
              "      margin-bottom: 4px;\n",
              "    }\n",
              "\n",
              "    [theme=dark] .colab-df-convert {\n",
              "      background-color: #3B4455;\n",
              "      fill: #D2E3FC;\n",
              "    }\n",
              "\n",
              "    [theme=dark] .colab-df-convert:hover {\n",
              "      background-color: #434B5C;\n",
              "      box-shadow: 0px 1px 3px 1px rgba(0, 0, 0, 0.15);\n",
              "      filter: drop-shadow(0px 1px 2px rgba(0, 0, 0, 0.3));\n",
              "      fill: #FFFFFF;\n",
              "    }\n",
              "  </style>\n",
              "\n",
              "    <script>\n",
              "      const buttonEl =\n",
              "        document.querySelector('#df-e8b1adb7-72c9-4556-80c8-e44bd304f16c button.colab-df-convert');\n",
              "      buttonEl.style.display =\n",
              "        google.colab.kernel.accessAllowed ? 'block' : 'none';\n",
              "\n",
              "      async function convertToInteractive(key) {\n",
              "        const element = document.querySelector('#df-e8b1adb7-72c9-4556-80c8-e44bd304f16c');\n",
              "        const dataTable =\n",
              "          await google.colab.kernel.invokeFunction('convertToInteractive',\n",
              "                                                    [key], {});\n",
              "        if (!dataTable) return;\n",
              "\n",
              "        const docLinkHtml = 'Like what you see? Visit the ' +\n",
              "          '<a target=\"_blank\" href=https://colab.research.google.com/notebooks/data_table.ipynb>data table notebook</a>'\n",
              "          + ' to learn more about interactive tables.';\n",
              "        element.innerHTML = '';\n",
              "        dataTable['output_type'] = 'display_data';\n",
              "        await google.colab.output.renderOutput(dataTable, element);\n",
              "        const docLink = document.createElement('div');\n",
              "        docLink.innerHTML = docLinkHtml;\n",
              "        element.appendChild(docLink);\n",
              "      }\n",
              "    </script>\n",
              "  </div>\n",
              "\n",
              "\n",
              "    <div id=\"df-7261fe32-2fb1-4605-9bcc-a7d4174ea3a8\">\n",
              "      <button class=\"colab-df-quickchart\" onclick=\"quickchart('df-7261fe32-2fb1-4605-9bcc-a7d4174ea3a8')\"\n",
              "                title=\"Suggest charts\"\n",
              "                style=\"display:none;\">\n",
              "\n",
              "<svg xmlns=\"http://www.w3.org/2000/svg\" height=\"24px\"viewBox=\"0 0 24 24\"\n",
              "     width=\"24px\">\n",
              "    <g>\n",
              "        <path d=\"M19 3H5c-1.1 0-2 .9-2 2v14c0 1.1.9 2 2 2h14c1.1 0 2-.9 2-2V5c0-1.1-.9-2-2-2zM9 17H7v-7h2v7zm4 0h-2V7h2v10zm4 0h-2v-4h2v4z\"/>\n",
              "    </g>\n",
              "</svg>\n",
              "      </button>\n",
              "\n",
              "<style>\n",
              "  .colab-df-quickchart {\n",
              "      --bg-color: #E8F0FE;\n",
              "      --fill-color: #1967D2;\n",
              "      --hover-bg-color: #E2EBFA;\n",
              "      --hover-fill-color: #174EA6;\n",
              "      --disabled-fill-color: #AAA;\n",
              "      --disabled-bg-color: #DDD;\n",
              "  }\n",
              "\n",
              "  [theme=dark] .colab-df-quickchart {\n",
              "      --bg-color: #3B4455;\n",
              "      --fill-color: #D2E3FC;\n",
              "      --hover-bg-color: #434B5C;\n",
              "      --hover-fill-color: #FFFFFF;\n",
              "      --disabled-bg-color: #3B4455;\n",
              "      --disabled-fill-color: #666;\n",
              "  }\n",
              "\n",
              "  .colab-df-quickchart {\n",
              "    background-color: var(--bg-color);\n",
              "    border: none;\n",
              "    border-radius: 50%;\n",
              "    cursor: pointer;\n",
              "    display: none;\n",
              "    fill: var(--fill-color);\n",
              "    height: 32px;\n",
              "    padding: 0;\n",
              "    width: 32px;\n",
              "  }\n",
              "\n",
              "  .colab-df-quickchart:hover {\n",
              "    background-color: var(--hover-bg-color);\n",
              "    box-shadow: 0 1px 2px rgba(60, 64, 67, 0.3), 0 1px 3px 1px rgba(60, 64, 67, 0.15);\n",
              "    fill: var(--button-hover-fill-color);\n",
              "  }\n",
              "\n",
              "  .colab-df-quickchart-complete:disabled,\n",
              "  .colab-df-quickchart-complete:disabled:hover {\n",
              "    background-color: var(--disabled-bg-color);\n",
              "    fill: var(--disabled-fill-color);\n",
              "    box-shadow: none;\n",
              "  }\n",
              "\n",
              "  .colab-df-spinner {\n",
              "    border: 2px solid var(--fill-color);\n",
              "    border-color: transparent;\n",
              "    border-bottom-color: var(--fill-color);\n",
              "    animation:\n",
              "      spin 1s steps(1) infinite;\n",
              "  }\n",
              "\n",
              "  @keyframes spin {\n",
              "    0% {\n",
              "      border-color: transparent;\n",
              "      border-bottom-color: var(--fill-color);\n",
              "      border-left-color: var(--fill-color);\n",
              "    }\n",
              "    20% {\n",
              "      border-color: transparent;\n",
              "      border-left-color: var(--fill-color);\n",
              "      border-top-color: var(--fill-color);\n",
              "    }\n",
              "    30% {\n",
              "      border-color: transparent;\n",
              "      border-left-color: var(--fill-color);\n",
              "      border-top-color: var(--fill-color);\n",
              "      border-right-color: var(--fill-color);\n",
              "    }\n",
              "    40% {\n",
              "      border-color: transparent;\n",
              "      border-right-color: var(--fill-color);\n",
              "      border-top-color: var(--fill-color);\n",
              "    }\n",
              "    60% {\n",
              "      border-color: transparent;\n",
              "      border-right-color: var(--fill-color);\n",
              "    }\n",
              "    80% {\n",
              "      border-color: transparent;\n",
              "      border-right-color: var(--fill-color);\n",
              "      border-bottom-color: var(--fill-color);\n",
              "    }\n",
              "    90% {\n",
              "      border-color: transparent;\n",
              "      border-bottom-color: var(--fill-color);\n",
              "    }\n",
              "  }\n",
              "</style>\n",
              "\n",
              "      <script>\n",
              "        async function quickchart(key) {\n",
              "          const quickchartButtonEl =\n",
              "            document.querySelector('#' + key + ' button');\n",
              "          quickchartButtonEl.disabled = true;  // To prevent multiple clicks.\n",
              "          quickchartButtonEl.classList.add('colab-df-spinner');\n",
              "          try {\n",
              "            const charts = await google.colab.kernel.invokeFunction(\n",
              "                'suggestCharts', [key], {});\n",
              "          } catch (error) {\n",
              "            console.error('Error during call to suggestCharts:', error);\n",
              "          }\n",
              "          quickchartButtonEl.classList.remove('colab-df-spinner');\n",
              "          quickchartButtonEl.classList.add('colab-df-quickchart-complete');\n",
              "        }\n",
              "        (() => {\n",
              "          let quickchartButtonEl =\n",
              "            document.querySelector('#df-7261fe32-2fb1-4605-9bcc-a7d4174ea3a8 button');\n",
              "          quickchartButtonEl.style.display =\n",
              "            google.colab.kernel.accessAllowed ? 'block' : 'none';\n",
              "        })();\n",
              "      </script>\n",
              "    </div>\n",
              "\n",
              "    </div>\n",
              "  </div>\n"
            ],
            "application/vnd.google.colaboratory.intrinsic+json": {
              "type": "dataframe",
              "variable_name": "true_df",
              "summary": "{\n  \"name\": \"true_df\",\n  \"rows\": 21417,\n  \"fields\": [\n    {\n      \"column\": \"title\",\n      \"properties\": {\n        \"dtype\": \"string\",\n        \"num_unique_values\": 20826,\n        \"samples\": [\n          \"German, Turkish foreign ministers meet after detainee released\",\n          \"Kremlin calls North Korea's latest missile launch another 'provocation'\",\n          \"Transgender soldiers, veterans shaken by Trump's ban on their service\"\n        ],\n        \"semantic_type\": \"\",\n        \"description\": \"\"\n      }\n    },\n    {\n      \"column\": \"text\",\n      \"properties\": {\n        \"dtype\": \"string\",\n        \"num_unique_values\": 21192,\n        \"samples\": [\n          \"WASHINGTON (Reuters) - A majority of the U.S. Senate on Tuesday backed a new round of disaster aid to help Puerto Rico and several states recover from damage from hurricanes and wildfires. The legislation would provide $36.5 billion in emergency relief as Puerto Rico in particular struggles to regain electricity and other basic services following destructive hurricanes. The House of Representatives approved the bill earlier this month. The Trump administration already has indicated it will seek another round of emergency relief from Congress. \",\n          \"BUDAPEST (Reuters) - About a thousand Hungarians protested on Friday against a crackdown on the main opposition party Jobbik which has been  threatened by a record political campaign fine that the party leader describes as a  death sentence  for democracy. Despite the gloomy rhetoric and Jobbik saying it was fighting for survival, support for the demonstration was well down on other similar rallies over the past year. Hungarians will vote for a new parliament in April and Prime Minister Viktor Orban s conservative, anti-migrant Fidesz party is far ahead in the polls, with Jobbik its nearest rival. Jobbik, once on the far right, has turned toward the center in a bid to attract more support and is now campaigning nationwide against Orban, depicting him as the leader of a criminal gang. Orban, rejecting the charges, says his financial standing is  an open book . Last week the state audit office (ASZ) ruled Jobbik had bought political posters far below market prices, breaching rules on political funding, then it slapped a 663 million forint ($2.5 million) penalty on the party. The protesters, waving Jobbik flags and posters deriding the ruling elite, gathered outside the headquarters of Orban s Fidesz party.  What we see unfolding is not an audit office investigation. It is not an official penalty. This is a death sentence with Jobbik s name on it. But in reality, it is a death sentence for Hungarian democracy,  Jobbiik leader Gabor Vona told the crowd. A government spokesman could not comment immediately on his remarks. ASZ chairman Laszlo Domokos is a former Fidesz lawmaker, whom Jobbik and other critics accuse of making decisions in favor of Orban. The audit office denies that. On Friday, ASZ again called on Jobbik to submit information that would challenge its findings, saying it acted fully within its rights throughout the probe. The ruling Fidesz party and the government have denied any involvement in the ASZ probe.  This case has nothing to do with the election campaign,  Orban aide Janos Lazar said on Thursday. For over a year Fidesz has targeted Jobbik, whose move to the center could upend the longstanding status quo of a dominant Fidesz with weaker opponents to its left and its right, said analyst Zoltan Novak at the Centre for Fair Political Analysis. Gyorgy Illes, a 67-year-old pensioner attending the rally, said he used to be a Socialist supporter but got disillusioned as the party struggled to overcome its internal divisions.  This ASZ probe is a clear sign that Orban is way past any remedy. It is a ruthless attack on everything we hold dear. Democracy, the rule of law, equality, you name it,  he said. \",\n          \"BEIJING/TAIPEI (Reuters) - China accused the United States on Thursday of interfering in its internal affairs and said it had lodged a complaint after U.S. President Donald Trump signed into law an act laying the groundwork for possible U.S. navy visits to self-ruled Taiwan. Tensions have risen in recent days after a senior Chinese diplomat threatened China would invade Taiwan if any U.S. warships made port visits to the island which China claims as its own territory. On Monday, Chinese jets carried out  island encirclement patrols  around Taiwan, with state media showing pictures of bombers with cruise missiles slung under their wings as they carried out the exercise. On Tuesday, Trump signed into law the National Defense Authorization Act for the 2018 fiscal year, which authorizes the possibility of mutual visits by navy vessels between Taiwan and the United States. Such visits would be the first since the United States ended formal diplomatic relations with Taiwan in 1979 and established ties with Beijing. Chinese Foreign Ministry spokesman Lu Kang said while the Taiwan sections of the law were not legally binding, they seriously violate the  One China  policy and  constitute an interference in China s internal affairs .   China is resolutely opposed to this, and we have already lodged stern representations with the U.S. government,  Lu told a daily news briefing. China is firmly opposed to any official exchanges, military contact, or arms sales between Taiwan and the United States, he added.  Proudly democratic Taiwan has become increasingly concerned with the ramped up Chinese military presence, that has included several rounds of Chinese air force drills around the island in recent months.  Taiwan is confident of its defenses and responded quickly to the Chinese air force drills this week, its government said, denouncing the rise in China s military deployments as irresponsible. Taiwan presidential spokesman Alex Huang, speaking to Taiwan media in comments reported late on Wednesday, said the defense ministry had kept a close watch on the patrols and responded immediately and properly. Taiwan  can ensure there are no concerns at all about national security, and people can rest assured , Huang said. Both sides of the narrow Taiwan Strait, which separates Taiwan from its giant neighbor, have a responsibility to protect peace and stability, he added.  Such a raised military posture that may impact upon and harm regional peace and stability and cross-strait ties does not give a feeling of responsibility, and the international community does not look favorably upon this,  Huang was quoted as saying. Relations have soured considerably since Tsai Ing-wen, who leads Taiwan s independence-leaning Democratic Progressive Party, won presidential elections last year. China suspects Tsai wants to declare the island s formal independence, a red line for Beijing. Tsai says she wants to maintain peace with China but will defend Taiwan s security. Taiwan is well equipped with mostly U.S. weapons but has been pressing for more advanced equipment to deal with what it sees as a rising threat from China. The United States is bound by law to provide the island with the means to defend itself. China has never renounced the use of force to bring Taiwan under its control. \"\n        ],\n        \"semantic_type\": \"\",\n        \"description\": \"\"\n      }\n    },\n    {\n      \"column\": \"subject\",\n      \"properties\": {\n        \"dtype\": \"category\",\n        \"num_unique_values\": 2,\n        \"samples\": [\n          \"worldnews\",\n          \"politicsNews\"\n        ],\n        \"semantic_type\": \"\",\n        \"description\": \"\"\n      }\n    },\n    {\n      \"column\": \"date\",\n      \"properties\": {\n        \"dtype\": \"object\",\n        \"num_unique_values\": 716,\n        \"samples\": [\n          \"September 2, 2017 \",\n          \"February 2, 2017 \"\n        ],\n        \"semantic_type\": \"\",\n        \"description\": \"\"\n      }\n    },\n    {\n      \"column\": \"label\",\n      \"properties\": {\n        \"dtype\": \"number\",\n        \"std\": 0,\n        \"min\": 1,\n        \"max\": 1,\n        \"num_unique_values\": 1,\n        \"samples\": [\n          1\n        ],\n        \"semantic_type\": \"\",\n        \"description\": \"\"\n      }\n    }\n  ]\n}"
            }
          },
          "metadata": {},
          "execution_count": 13
        }
      ]
    },
    {
      "cell_type": "code",
      "source": [
        "true_df['label'] = 1\n",
        "fake_df['label'] = 0"
      ],
      "metadata": {
        "id": "mfZNPSM9yALK"
      },
      "id": "mfZNPSM9yALK",
      "execution_count": 11,
      "outputs": []
    },
    {
      "cell_type": "code",
      "source": [
        "data = pd.concat([true_df,fake_df],axis=0).reset_index(drop=True)\n",
        "data.head()"
      ],
      "metadata": {
        "colab": {
          "base_uri": "https://localhost:8080/",
          "height": 431
        },
        "id": "d6BgARP2yFSU",
        "outputId": "e1b622e5-6e87-409d-8cc7-388e0a22cf46"
      },
      "id": "d6BgARP2yFSU",
      "execution_count": 15,
      "outputs": [
        {
          "output_type": "execute_result",
          "data": {
            "text/plain": [
              "                                               title  \\\n",
              "0  As U.S. budget fight looms, Republicans flip t...   \n",
              "1  U.S. military to accept transgender recruits o...   \n",
              "2  Senior U.S. Republican senator: 'Let Mr. Muell...   \n",
              "3  FBI Russia probe helped by Australian diplomat...   \n",
              "4  Trump wants Postal Service to charge 'much mor...   \n",
              "\n",
              "                                                text       subject  \\\n",
              "0  WASHINGTON (Reuters) - The head of a conservat...  politicsNews   \n",
              "1  WASHINGTON (Reuters) - Transgender people will...  politicsNews   \n",
              "2  WASHINGTON (Reuters) - The special counsel inv...  politicsNews   \n",
              "3  WASHINGTON (Reuters) - Trump campaign adviser ...  politicsNews   \n",
              "4  SEATTLE/WASHINGTON (Reuters) - President Donal...  politicsNews   \n",
              "\n",
              "                 date  label  \n",
              "0  December 31, 2017       1  \n",
              "1  December 29, 2017       1  \n",
              "2  December 31, 2017       1  \n",
              "3  December 30, 2017       1  \n",
              "4  December 29, 2017       1  "
            ],
            "text/html": [
              "\n",
              "  <div id=\"df-02e5d5b1-ac70-438b-ba25-54058715ea11\" class=\"colab-df-container\">\n",
              "    <div>\n",
              "<style scoped>\n",
              "    .dataframe tbody tr th:only-of-type {\n",
              "        vertical-align: middle;\n",
              "    }\n",
              "\n",
              "    .dataframe tbody tr th {\n",
              "        vertical-align: top;\n",
              "    }\n",
              "\n",
              "    .dataframe thead th {\n",
              "        text-align: right;\n",
              "    }\n",
              "</style>\n",
              "<table border=\"1\" class=\"dataframe\">\n",
              "  <thead>\n",
              "    <tr style=\"text-align: right;\">\n",
              "      <th></th>\n",
              "      <th>title</th>\n",
              "      <th>text</th>\n",
              "      <th>subject</th>\n",
              "      <th>date</th>\n",
              "      <th>label</th>\n",
              "    </tr>\n",
              "  </thead>\n",
              "  <tbody>\n",
              "    <tr>\n",
              "      <th>0</th>\n",
              "      <td>As U.S. budget fight looms, Republicans flip t...</td>\n",
              "      <td>WASHINGTON (Reuters) - The head of a conservat...</td>\n",
              "      <td>politicsNews</td>\n",
              "      <td>December 31, 2017</td>\n",
              "      <td>1</td>\n",
              "    </tr>\n",
              "    <tr>\n",
              "      <th>1</th>\n",
              "      <td>U.S. military to accept transgender recruits o...</td>\n",
              "      <td>WASHINGTON (Reuters) - Transgender people will...</td>\n",
              "      <td>politicsNews</td>\n",
              "      <td>December 29, 2017</td>\n",
              "      <td>1</td>\n",
              "    </tr>\n",
              "    <tr>\n",
              "      <th>2</th>\n",
              "      <td>Senior U.S. Republican senator: 'Let Mr. Muell...</td>\n",
              "      <td>WASHINGTON (Reuters) - The special counsel inv...</td>\n",
              "      <td>politicsNews</td>\n",
              "      <td>December 31, 2017</td>\n",
              "      <td>1</td>\n",
              "    </tr>\n",
              "    <tr>\n",
              "      <th>3</th>\n",
              "      <td>FBI Russia probe helped by Australian diplomat...</td>\n",
              "      <td>WASHINGTON (Reuters) - Trump campaign adviser ...</td>\n",
              "      <td>politicsNews</td>\n",
              "      <td>December 30, 2017</td>\n",
              "      <td>1</td>\n",
              "    </tr>\n",
              "    <tr>\n",
              "      <th>4</th>\n",
              "      <td>Trump wants Postal Service to charge 'much mor...</td>\n",
              "      <td>SEATTLE/WASHINGTON (Reuters) - President Donal...</td>\n",
              "      <td>politicsNews</td>\n",
              "      <td>December 29, 2017</td>\n",
              "      <td>1</td>\n",
              "    </tr>\n",
              "  </tbody>\n",
              "</table>\n",
              "</div>\n",
              "    <div class=\"colab-df-buttons\">\n",
              "\n",
              "  <div class=\"colab-df-container\">\n",
              "    <button class=\"colab-df-convert\" onclick=\"convertToInteractive('df-02e5d5b1-ac70-438b-ba25-54058715ea11')\"\n",
              "            title=\"Convert this dataframe to an interactive table.\"\n",
              "            style=\"display:none;\">\n",
              "\n",
              "  <svg xmlns=\"http://www.w3.org/2000/svg\" height=\"24px\" viewBox=\"0 -960 960 960\">\n",
              "    <path d=\"M120-120v-720h720v720H120Zm60-500h600v-160H180v160Zm220 220h160v-160H400v160Zm0 220h160v-160H400v160ZM180-400h160v-160H180v160Zm440 0h160v-160H620v160ZM180-180h160v-160H180v160Zm440 0h160v-160H620v160Z\"/>\n",
              "  </svg>\n",
              "    </button>\n",
              "\n",
              "  <style>\n",
              "    .colab-df-container {\n",
              "      display:flex;\n",
              "      gap: 12px;\n",
              "    }\n",
              "\n",
              "    .colab-df-convert {\n",
              "      background-color: #E8F0FE;\n",
              "      border: none;\n",
              "      border-radius: 50%;\n",
              "      cursor: pointer;\n",
              "      display: none;\n",
              "      fill: #1967D2;\n",
              "      height: 32px;\n",
              "      padding: 0 0 0 0;\n",
              "      width: 32px;\n",
              "    }\n",
              "\n",
              "    .colab-df-convert:hover {\n",
              "      background-color: #E2EBFA;\n",
              "      box-shadow: 0px 1px 2px rgba(60, 64, 67, 0.3), 0px 1px 3px 1px rgba(60, 64, 67, 0.15);\n",
              "      fill: #174EA6;\n",
              "    }\n",
              "\n",
              "    .colab-df-buttons div {\n",
              "      margin-bottom: 4px;\n",
              "    }\n",
              "\n",
              "    [theme=dark] .colab-df-convert {\n",
              "      background-color: #3B4455;\n",
              "      fill: #D2E3FC;\n",
              "    }\n",
              "\n",
              "    [theme=dark] .colab-df-convert:hover {\n",
              "      background-color: #434B5C;\n",
              "      box-shadow: 0px 1px 3px 1px rgba(0, 0, 0, 0.15);\n",
              "      filter: drop-shadow(0px 1px 2px rgba(0, 0, 0, 0.3));\n",
              "      fill: #FFFFFF;\n",
              "    }\n",
              "  </style>\n",
              "\n",
              "    <script>\n",
              "      const buttonEl =\n",
              "        document.querySelector('#df-02e5d5b1-ac70-438b-ba25-54058715ea11 button.colab-df-convert');\n",
              "      buttonEl.style.display =\n",
              "        google.colab.kernel.accessAllowed ? 'block' : 'none';\n",
              "\n",
              "      async function convertToInteractive(key) {\n",
              "        const element = document.querySelector('#df-02e5d5b1-ac70-438b-ba25-54058715ea11');\n",
              "        const dataTable =\n",
              "          await google.colab.kernel.invokeFunction('convertToInteractive',\n",
              "                                                    [key], {});\n",
              "        if (!dataTable) return;\n",
              "\n",
              "        const docLinkHtml = 'Like what you see? Visit the ' +\n",
              "          '<a target=\"_blank\" href=https://colab.research.google.com/notebooks/data_table.ipynb>data table notebook</a>'\n",
              "          + ' to learn more about interactive tables.';\n",
              "        element.innerHTML = '';\n",
              "        dataTable['output_type'] = 'display_data';\n",
              "        await google.colab.output.renderOutput(dataTable, element);\n",
              "        const docLink = document.createElement('div');\n",
              "        docLink.innerHTML = docLinkHtml;\n",
              "        element.appendChild(docLink);\n",
              "      }\n",
              "    </script>\n",
              "  </div>\n",
              "\n",
              "\n",
              "    <div id=\"df-ea66dffa-c910-4d8e-9e3f-6ca30b1a53d6\">\n",
              "      <button class=\"colab-df-quickchart\" onclick=\"quickchart('df-ea66dffa-c910-4d8e-9e3f-6ca30b1a53d6')\"\n",
              "                title=\"Suggest charts\"\n",
              "                style=\"display:none;\">\n",
              "\n",
              "<svg xmlns=\"http://www.w3.org/2000/svg\" height=\"24px\"viewBox=\"0 0 24 24\"\n",
              "     width=\"24px\">\n",
              "    <g>\n",
              "        <path d=\"M19 3H5c-1.1 0-2 .9-2 2v14c0 1.1.9 2 2 2h14c1.1 0 2-.9 2-2V5c0-1.1-.9-2-2-2zM9 17H7v-7h2v7zm4 0h-2V7h2v10zm4 0h-2v-4h2v4z\"/>\n",
              "    </g>\n",
              "</svg>\n",
              "      </button>\n",
              "\n",
              "<style>\n",
              "  .colab-df-quickchart {\n",
              "      --bg-color: #E8F0FE;\n",
              "      --fill-color: #1967D2;\n",
              "      --hover-bg-color: #E2EBFA;\n",
              "      --hover-fill-color: #174EA6;\n",
              "      --disabled-fill-color: #AAA;\n",
              "      --disabled-bg-color: #DDD;\n",
              "  }\n",
              "\n",
              "  [theme=dark] .colab-df-quickchart {\n",
              "      --bg-color: #3B4455;\n",
              "      --fill-color: #D2E3FC;\n",
              "      --hover-bg-color: #434B5C;\n",
              "      --hover-fill-color: #FFFFFF;\n",
              "      --disabled-bg-color: #3B4455;\n",
              "      --disabled-fill-color: #666;\n",
              "  }\n",
              "\n",
              "  .colab-df-quickchart {\n",
              "    background-color: var(--bg-color);\n",
              "    border: none;\n",
              "    border-radius: 50%;\n",
              "    cursor: pointer;\n",
              "    display: none;\n",
              "    fill: var(--fill-color);\n",
              "    height: 32px;\n",
              "    padding: 0;\n",
              "    width: 32px;\n",
              "  }\n",
              "\n",
              "  .colab-df-quickchart:hover {\n",
              "    background-color: var(--hover-bg-color);\n",
              "    box-shadow: 0 1px 2px rgba(60, 64, 67, 0.3), 0 1px 3px 1px rgba(60, 64, 67, 0.15);\n",
              "    fill: var(--button-hover-fill-color);\n",
              "  }\n",
              "\n",
              "  .colab-df-quickchart-complete:disabled,\n",
              "  .colab-df-quickchart-complete:disabled:hover {\n",
              "    background-color: var(--disabled-bg-color);\n",
              "    fill: var(--disabled-fill-color);\n",
              "    box-shadow: none;\n",
              "  }\n",
              "\n",
              "  .colab-df-spinner {\n",
              "    border: 2px solid var(--fill-color);\n",
              "    border-color: transparent;\n",
              "    border-bottom-color: var(--fill-color);\n",
              "    animation:\n",
              "      spin 1s steps(1) infinite;\n",
              "  }\n",
              "\n",
              "  @keyframes spin {\n",
              "    0% {\n",
              "      border-color: transparent;\n",
              "      border-bottom-color: var(--fill-color);\n",
              "      border-left-color: var(--fill-color);\n",
              "    }\n",
              "    20% {\n",
              "      border-color: transparent;\n",
              "      border-left-color: var(--fill-color);\n",
              "      border-top-color: var(--fill-color);\n",
              "    }\n",
              "    30% {\n",
              "      border-color: transparent;\n",
              "      border-left-color: var(--fill-color);\n",
              "      border-top-color: var(--fill-color);\n",
              "      border-right-color: var(--fill-color);\n",
              "    }\n",
              "    40% {\n",
              "      border-color: transparent;\n",
              "      border-right-color: var(--fill-color);\n",
              "      border-top-color: var(--fill-color);\n",
              "    }\n",
              "    60% {\n",
              "      border-color: transparent;\n",
              "      border-right-color: var(--fill-color);\n",
              "    }\n",
              "    80% {\n",
              "      border-color: transparent;\n",
              "      border-right-color: var(--fill-color);\n",
              "      border-bottom-color: var(--fill-color);\n",
              "    }\n",
              "    90% {\n",
              "      border-color: transparent;\n",
              "      border-bottom-color: var(--fill-color);\n",
              "    }\n",
              "  }\n",
              "</style>\n",
              "\n",
              "      <script>\n",
              "        async function quickchart(key) {\n",
              "          const quickchartButtonEl =\n",
              "            document.querySelector('#' + key + ' button');\n",
              "          quickchartButtonEl.disabled = true;  // To prevent multiple clicks.\n",
              "          quickchartButtonEl.classList.add('colab-df-spinner');\n",
              "          try {\n",
              "            const charts = await google.colab.kernel.invokeFunction(\n",
              "                'suggestCharts', [key], {});\n",
              "          } catch (error) {\n",
              "            console.error('Error during call to suggestCharts:', error);\n",
              "          }\n",
              "          quickchartButtonEl.classList.remove('colab-df-spinner');\n",
              "          quickchartButtonEl.classList.add('colab-df-quickchart-complete');\n",
              "        }\n",
              "        (() => {\n",
              "          let quickchartButtonEl =\n",
              "            document.querySelector('#df-ea66dffa-c910-4d8e-9e3f-6ca30b1a53d6 button');\n",
              "          quickchartButtonEl.style.display =\n",
              "            google.colab.kernel.accessAllowed ? 'block' : 'none';\n",
              "        })();\n",
              "      </script>\n",
              "    </div>\n",
              "\n",
              "    </div>\n",
              "  </div>\n"
            ],
            "application/vnd.google.colaboratory.intrinsic+json": {
              "type": "dataframe",
              "variable_name": "data",
              "summary": "{\n  \"name\": \"data\",\n  \"rows\": 44898,\n  \"fields\": [\n    {\n      \"column\": \"title\",\n      \"properties\": {\n        \"dtype\": \"string\",\n        \"num_unique_values\": 38729,\n        \"samples\": [\n          \" TransCanada Officially Files $15 Billion Lawsuit Against U.S. For Rejecting KXL Pipline\",\n          \"Trump accuses Mexico's Carlos Slim of trying to help Clinton\",\n          \"White House defends portrayal of 'armada' push toward Korean peninsula\"\n        ],\n        \"semantic_type\": \"\",\n        \"description\": \"\"\n      }\n    },\n    {\n      \"column\": \"text\",\n      \"properties\": {\n        \"dtype\": \"string\",\n        \"num_unique_values\": 38646,\n        \"samples\": [\n          \"Here s the fake black guy, Shaun King weighing in on how awesome it is that Bernie Sanders can now come out of the socialist closet. Because America is soooo ready (or so Shaun thinks anyhow) to embrace a socialist. Here is his tweet:#1.https://twitter.com/ShaunKing/status/654100720929632256Here is a great question from the Janie Johnson:#2.The bottom 49% of earners pay zero taxes   how much more  fair  do you want the tax system? #DemDebate  Janie Johnson (@jjauthor) October 14, 2015Truth!#3.https://twitter.com/weknowwhatsbest/status/654128633385107456And this tweet is priceless:#4.https://twitter.com/weknowwhatsbest/status/654128132295802880Some race baiters were not satisfied that enough divisive questions were posed to the candidates. How much time exactly should we giving to the issue of race during our presidential debates? Would 50% of the debate time be acceptable to the #BlackLivesMatter terrorists?The first is from #BLM activist and George Soros favorite, Deray McKesson:#5..@AndersonCooper, you were strong tonight, though I hope there are more questions about race at the next debate. #DemDebate  deray mckesson (@deray) October 14, 2015Next is from the fake black guy, Shaun King who bemoans the lack of diversity on the debate stage:#6 and #7https://twitter.com/ShaunKing/status/654095075069296640https://twitter.com/ShaunKing/status/654113225005510656And then we have the self proclaimed  Trump girls,  Diamond and Silk weighing in on the debate hilarious!#8.We out. This is not a debate. This is a disgrace. Hope .@realDonaldTrump come to save the day. #stump4trumpbaby pic.twitter.com/I1CcLL31lX  Diamond and Silk  (@DiamondandSilk) October 14, 2015Best tweet of the night goes to the Donald:#9\\\"@releafpen: Dem debate message summary = More free handouts. They will be voting in droves. We need to get out and vote Trump BIG TIME!\\\"  Donald J. Trump (@realDonaldTrump) October 14, 2015And the runners-up are Two from conservative actor James Woods:#10.Thank God money grows on trees. This bunch has no allergy to spending it. Free college not only for Americans, but anybody from anywhere  James Woods (@RealJamesWoods) October 14, 2015We actually fibbed, there are 12 favorite tweets. We save 2 of our favorites from @iowahawk for last:I got 10 bucks that more people are following the debate on Trump's Twitter feed than on CNN  David Burge (@iowahawkblog) October 14, 2015How to make college affordable: don't go  David Burge (@iowahawkblog) October 14, 2015 \",\n          \"While Trump s Secretary of State was visiting a UN base on the border of North and South Korea on Friday, the former CEO of Exxon Mobil Corp. was photographed by a Reuters photographer, while at the same time, a North Korean soldier is seen photographing the top Diplomat covertly from the outside of a window. You can t make this stuff up. And now the picture is circulating on social media.In the image, a North Korean soldier can be seen on the right-hand corner of the picture peering in through a window and photographing Tillerson and a US Army general, Business Insider reports.The photo was taken inside the Demilitarized Zone (DMZ), which was created after the Korean War on what is now the most heavily armed border in the world, and obviously the most spied upon.NBC reporter Brad Jaffy tweeted out a version of the photo, which he zoomed in on, calling it  Rear Window. Rear Window: North Korean soldier takes a photo of Rex Tillerson at the DMZ pic.twitter.com/EHCIR3Fjo6  Bradd Jaffy (@BraddJaffy) March 17, 2017The original photo can be seen here.Tillerson announced on Friday at a news conference in Seoul that military action against North Korea is  an option  if the threat from its nuclear weapons program rises to a level  that we believe requires action. Tillerson told reporters that  all of the options are on the table. According to the Korea Herald, Tillerson cut his recent visit short with South Korean officials due to  fatigue. The newspaper reported that Tillerson did not have lunch or dinner with South Korean Foreign Minister Yun Byung-se and acting President and Prime Minister Hwang Kyo-ahn during his visit there.Tillerson spent several hours meeting with Japanese officials, which included dinner meetings, the paper noted, according to The Hill.The secretary of State reportedly did hold talks with both South Korean officials regarding the threat posed by North Korea s nuclear program.And that must have been before  fatigue  set in. On Twitter, Trump said that North Korea was  behaving very badly. South Korea s Constitutional Court upheld the impeachment of former President Park Geun-hye in March over a corruption scandal. In contrast, the U.S. has failed to address its newly minted president s growing list of scandals. Tillerson, too, has his own scandal to deal with.As for the North Korean soldier spying on Tillerson, perhaps if he wore spy glasses and a fake mustache no one would have noticed. The soldier has better access to the Secretary of State than U.S. reporters do.Photo by Alex Wong/Getty Images.\",\n          \"Join Patrick every week here at 21WIRE.TV for news, views and analysis on all top stories domestically and abroad THIS WEEK: Episode 4 The New World Order  Did Great Britain regain control of its former American colonies by stealth? From Cecil Rhodes and his Round Table, to H.G. Wells, to Henry Kissinger and Zbigniew Brzezinski   many have worked to steer the world beyond the modern nation state and into Technetronic Era of global government. But to what end?Host Patrick Henningsen talks to Sean Stone, author of the new book, New World Order: A Strategy for Imperialism. Listen:   END 927 Download Link  START 999 Download Link Download this podcast  END 999 Download Link This program broadcasts LIVE every Wednesday night from 8pm to 9pm MST, right after the Savage Nation, on Independent Talk 1100 KFNX over the terrestrial AM band across the greater Phoenix and central Arizona region, and live over global satellite and online via www.1100kfnx.com.READ MORE NWO NEWS AT: 21st Century Wire NWO Files\"\n        ],\n        \"semantic_type\": \"\",\n        \"description\": \"\"\n      }\n    },\n    {\n      \"column\": \"subject\",\n      \"properties\": {\n        \"dtype\": \"category\",\n        \"num_unique_values\": 8,\n        \"samples\": [\n          \"worldnews\",\n          \"left-news\",\n          \"politicsNews\"\n        ],\n        \"semantic_type\": \"\",\n        \"description\": \"\"\n      }\n    },\n    {\n      \"column\": \"date\",\n      \"properties\": {\n        \"dtype\": \"category\",\n        \"num_unique_values\": 2397,\n        \"samples\": [\n          \"October 12, 2016 \",\n          \"June 16, 2017 \",\n          \"Oct 30, 2017\"\n        ],\n        \"semantic_type\": \"\",\n        \"description\": \"\"\n      }\n    },\n    {\n      \"column\": \"label\",\n      \"properties\": {\n        \"dtype\": \"number\",\n        \"std\": 0,\n        \"min\": 0,\n        \"max\": 1,\n        \"num_unique_values\": 2,\n        \"samples\": [\n          0,\n          1\n        ],\n        \"semantic_type\": \"\",\n        \"description\": \"\"\n      }\n    }\n  ]\n}"
            }
          },
          "metadata": {},
          "execution_count": 15
        }
      ]
    },
    {
      "cell_type": "code",
      "source": [
        "data.shape"
      ],
      "metadata": {
        "colab": {
          "base_uri": "https://localhost:8080/"
        },
        "id": "KVk0gcqTyQcF",
        "outputId": "19454f35-d476-4fb9-c16b-8cf63a8c5314"
      },
      "id": "KVk0gcqTyQcF",
      "execution_count": 16,
      "outputs": [
        {
          "output_type": "execute_result",
          "data": {
            "text/plain": [
              "(44898, 5)"
            ]
          },
          "metadata": {},
          "execution_count": 16
        }
      ]
    },
    {
      "cell_type": "code",
      "source": [
        "def clean_text(text):\n",
        "  text = text.lower()\n",
        "  text = re.sub(r'[^a-zA-Z0-9\\s]','',text)\n",
        "  text = re.sub(r'\\W',' ',text)\n",
        "  text = re.sub(r'\\s+',' ',text) # remove extra spaces\n",
        "  text = re.sub(r'\\d',' ',text)\n",
        "  word = text.split()\n",
        "  word = [w for w in word if w not in stopwords]\n",
        "  text = ' '.join(word)\n",
        "  return text\n",
        "\n",
        "data['text'] = data['text'].apply(clean_text)\n",
        "data.head()"
      ],
      "metadata": {
        "colab": {
          "base_uri": "https://localhost:8080/",
          "height": 379
        },
        "id": "iAHASFvUyjZe",
        "outputId": "e78fc04a-ac81-447d-90f3-587a655e8634"
      },
      "id": "iAHASFvUyjZe",
      "execution_count": 21,
      "outputs": [
        {
          "output_type": "execute_result",
          "data": {
            "text/plain": [
              "                                               title  \\\n",
              "0  As U.S. budget fight looms, Republicans flip t...   \n",
              "1  U.S. military to accept transgender recruits o...   \n",
              "2  Senior U.S. Republican senator: 'Let Mr. Muell...   \n",
              "3  FBI Russia probe helped by Australian diplomat...   \n",
              "4  Trump wants Postal Service to charge 'much mor...   \n",
              "\n",
              "                                                text       subject  \\\n",
              "0  washington reuters head conservative republica...  politicsNews   \n",
              "1  washington reuters transgender people allowed ...  politicsNews   \n",
              "2  washington reuters special counsel investigati...  politicsNews   \n",
              "3  washington reuters trump campaign adviser geor...  politicsNews   \n",
              "4  seattlewashington reuters president donald tru...  politicsNews   \n",
              "\n",
              "                 date  label  \n",
              "0  December 31, 2017       1  \n",
              "1  December 29, 2017       1  \n",
              "2  December 31, 2017       1  \n",
              "3  December 30, 2017       1  \n",
              "4  December 29, 2017       1  "
            ],
            "text/html": [
              "\n",
              "  <div id=\"df-26dea99e-85e9-41a5-ac62-6a53fe8fa8d2\" class=\"colab-df-container\">\n",
              "    <div>\n",
              "<style scoped>\n",
              "    .dataframe tbody tr th:only-of-type {\n",
              "        vertical-align: middle;\n",
              "    }\n",
              "\n",
              "    .dataframe tbody tr th {\n",
              "        vertical-align: top;\n",
              "    }\n",
              "\n",
              "    .dataframe thead th {\n",
              "        text-align: right;\n",
              "    }\n",
              "</style>\n",
              "<table border=\"1\" class=\"dataframe\">\n",
              "  <thead>\n",
              "    <tr style=\"text-align: right;\">\n",
              "      <th></th>\n",
              "      <th>title</th>\n",
              "      <th>text</th>\n",
              "      <th>subject</th>\n",
              "      <th>date</th>\n",
              "      <th>label</th>\n",
              "    </tr>\n",
              "  </thead>\n",
              "  <tbody>\n",
              "    <tr>\n",
              "      <th>0</th>\n",
              "      <td>As U.S. budget fight looms, Republicans flip t...</td>\n",
              "      <td>washington reuters head conservative republica...</td>\n",
              "      <td>politicsNews</td>\n",
              "      <td>December 31, 2017</td>\n",
              "      <td>1</td>\n",
              "    </tr>\n",
              "    <tr>\n",
              "      <th>1</th>\n",
              "      <td>U.S. military to accept transgender recruits o...</td>\n",
              "      <td>washington reuters transgender people allowed ...</td>\n",
              "      <td>politicsNews</td>\n",
              "      <td>December 29, 2017</td>\n",
              "      <td>1</td>\n",
              "    </tr>\n",
              "    <tr>\n",
              "      <th>2</th>\n",
              "      <td>Senior U.S. Republican senator: 'Let Mr. Muell...</td>\n",
              "      <td>washington reuters special counsel investigati...</td>\n",
              "      <td>politicsNews</td>\n",
              "      <td>December 31, 2017</td>\n",
              "      <td>1</td>\n",
              "    </tr>\n",
              "    <tr>\n",
              "      <th>3</th>\n",
              "      <td>FBI Russia probe helped by Australian diplomat...</td>\n",
              "      <td>washington reuters trump campaign adviser geor...</td>\n",
              "      <td>politicsNews</td>\n",
              "      <td>December 30, 2017</td>\n",
              "      <td>1</td>\n",
              "    </tr>\n",
              "    <tr>\n",
              "      <th>4</th>\n",
              "      <td>Trump wants Postal Service to charge 'much mor...</td>\n",
              "      <td>seattlewashington reuters president donald tru...</td>\n",
              "      <td>politicsNews</td>\n",
              "      <td>December 29, 2017</td>\n",
              "      <td>1</td>\n",
              "    </tr>\n",
              "  </tbody>\n",
              "</table>\n",
              "</div>\n",
              "    <div class=\"colab-df-buttons\">\n",
              "\n",
              "  <div class=\"colab-df-container\">\n",
              "    <button class=\"colab-df-convert\" onclick=\"convertToInteractive('df-26dea99e-85e9-41a5-ac62-6a53fe8fa8d2')\"\n",
              "            title=\"Convert this dataframe to an interactive table.\"\n",
              "            style=\"display:none;\">\n",
              "\n",
              "  <svg xmlns=\"http://www.w3.org/2000/svg\" height=\"24px\" viewBox=\"0 -960 960 960\">\n",
              "    <path d=\"M120-120v-720h720v720H120Zm60-500h600v-160H180v160Zm220 220h160v-160H400v160Zm0 220h160v-160H400v160ZM180-400h160v-160H180v160Zm440 0h160v-160H620v160ZM180-180h160v-160H180v160Zm440 0h160v-160H620v160Z\"/>\n",
              "  </svg>\n",
              "    </button>\n",
              "\n",
              "  <style>\n",
              "    .colab-df-container {\n",
              "      display:flex;\n",
              "      gap: 12px;\n",
              "    }\n",
              "\n",
              "    .colab-df-convert {\n",
              "      background-color: #E8F0FE;\n",
              "      border: none;\n",
              "      border-radius: 50%;\n",
              "      cursor: pointer;\n",
              "      display: none;\n",
              "      fill: #1967D2;\n",
              "      height: 32px;\n",
              "      padding: 0 0 0 0;\n",
              "      width: 32px;\n",
              "    }\n",
              "\n",
              "    .colab-df-convert:hover {\n",
              "      background-color: #E2EBFA;\n",
              "      box-shadow: 0px 1px 2px rgba(60, 64, 67, 0.3), 0px 1px 3px 1px rgba(60, 64, 67, 0.15);\n",
              "      fill: #174EA6;\n",
              "    }\n",
              "\n",
              "    .colab-df-buttons div {\n",
              "      margin-bottom: 4px;\n",
              "    }\n",
              "\n",
              "    [theme=dark] .colab-df-convert {\n",
              "      background-color: #3B4455;\n",
              "      fill: #D2E3FC;\n",
              "    }\n",
              "\n",
              "    [theme=dark] .colab-df-convert:hover {\n",
              "      background-color: #434B5C;\n",
              "      box-shadow: 0px 1px 3px 1px rgba(0, 0, 0, 0.15);\n",
              "      filter: drop-shadow(0px 1px 2px rgba(0, 0, 0, 0.3));\n",
              "      fill: #FFFFFF;\n",
              "    }\n",
              "  </style>\n",
              "\n",
              "    <script>\n",
              "      const buttonEl =\n",
              "        document.querySelector('#df-26dea99e-85e9-41a5-ac62-6a53fe8fa8d2 button.colab-df-convert');\n",
              "      buttonEl.style.display =\n",
              "        google.colab.kernel.accessAllowed ? 'block' : 'none';\n",
              "\n",
              "      async function convertToInteractive(key) {\n",
              "        const element = document.querySelector('#df-26dea99e-85e9-41a5-ac62-6a53fe8fa8d2');\n",
              "        const dataTable =\n",
              "          await google.colab.kernel.invokeFunction('convertToInteractive',\n",
              "                                                    [key], {});\n",
              "        if (!dataTable) return;\n",
              "\n",
              "        const docLinkHtml = 'Like what you see? Visit the ' +\n",
              "          '<a target=\"_blank\" href=https://colab.research.google.com/notebooks/data_table.ipynb>data table notebook</a>'\n",
              "          + ' to learn more about interactive tables.';\n",
              "        element.innerHTML = '';\n",
              "        dataTable['output_type'] = 'display_data';\n",
              "        await google.colab.output.renderOutput(dataTable, element);\n",
              "        const docLink = document.createElement('div');\n",
              "        docLink.innerHTML = docLinkHtml;\n",
              "        element.appendChild(docLink);\n",
              "      }\n",
              "    </script>\n",
              "  </div>\n",
              "\n",
              "\n",
              "    <div id=\"df-0dede312-8fc5-4c26-9cf9-22b076bd12b1\">\n",
              "      <button class=\"colab-df-quickchart\" onclick=\"quickchart('df-0dede312-8fc5-4c26-9cf9-22b076bd12b1')\"\n",
              "                title=\"Suggest charts\"\n",
              "                style=\"display:none;\">\n",
              "\n",
              "<svg xmlns=\"http://www.w3.org/2000/svg\" height=\"24px\"viewBox=\"0 0 24 24\"\n",
              "     width=\"24px\">\n",
              "    <g>\n",
              "        <path d=\"M19 3H5c-1.1 0-2 .9-2 2v14c0 1.1.9 2 2 2h14c1.1 0 2-.9 2-2V5c0-1.1-.9-2-2-2zM9 17H7v-7h2v7zm4 0h-2V7h2v10zm4 0h-2v-4h2v4z\"/>\n",
              "    </g>\n",
              "</svg>\n",
              "      </button>\n",
              "\n",
              "<style>\n",
              "  .colab-df-quickchart {\n",
              "      --bg-color: #E8F0FE;\n",
              "      --fill-color: #1967D2;\n",
              "      --hover-bg-color: #E2EBFA;\n",
              "      --hover-fill-color: #174EA6;\n",
              "      --disabled-fill-color: #AAA;\n",
              "      --disabled-bg-color: #DDD;\n",
              "  }\n",
              "\n",
              "  [theme=dark] .colab-df-quickchart {\n",
              "      --bg-color: #3B4455;\n",
              "      --fill-color: #D2E3FC;\n",
              "      --hover-bg-color: #434B5C;\n",
              "      --hover-fill-color: #FFFFFF;\n",
              "      --disabled-bg-color: #3B4455;\n",
              "      --disabled-fill-color: #666;\n",
              "  }\n",
              "\n",
              "  .colab-df-quickchart {\n",
              "    background-color: var(--bg-color);\n",
              "    border: none;\n",
              "    border-radius: 50%;\n",
              "    cursor: pointer;\n",
              "    display: none;\n",
              "    fill: var(--fill-color);\n",
              "    height: 32px;\n",
              "    padding: 0;\n",
              "    width: 32px;\n",
              "  }\n",
              "\n",
              "  .colab-df-quickchart:hover {\n",
              "    background-color: var(--hover-bg-color);\n",
              "    box-shadow: 0 1px 2px rgba(60, 64, 67, 0.3), 0 1px 3px 1px rgba(60, 64, 67, 0.15);\n",
              "    fill: var(--button-hover-fill-color);\n",
              "  }\n",
              "\n",
              "  .colab-df-quickchart-complete:disabled,\n",
              "  .colab-df-quickchart-complete:disabled:hover {\n",
              "    background-color: var(--disabled-bg-color);\n",
              "    fill: var(--disabled-fill-color);\n",
              "    box-shadow: none;\n",
              "  }\n",
              "\n",
              "  .colab-df-spinner {\n",
              "    border: 2px solid var(--fill-color);\n",
              "    border-color: transparent;\n",
              "    border-bottom-color: var(--fill-color);\n",
              "    animation:\n",
              "      spin 1s steps(1) infinite;\n",
              "  }\n",
              "\n",
              "  @keyframes spin {\n",
              "    0% {\n",
              "      border-color: transparent;\n",
              "      border-bottom-color: var(--fill-color);\n",
              "      border-left-color: var(--fill-color);\n",
              "    }\n",
              "    20% {\n",
              "      border-color: transparent;\n",
              "      border-left-color: var(--fill-color);\n",
              "      border-top-color: var(--fill-color);\n",
              "    }\n",
              "    30% {\n",
              "      border-color: transparent;\n",
              "      border-left-color: var(--fill-color);\n",
              "      border-top-color: var(--fill-color);\n",
              "      border-right-color: var(--fill-color);\n",
              "    }\n",
              "    40% {\n",
              "      border-color: transparent;\n",
              "      border-right-color: var(--fill-color);\n",
              "      border-top-color: var(--fill-color);\n",
              "    }\n",
              "    60% {\n",
              "      border-color: transparent;\n",
              "      border-right-color: var(--fill-color);\n",
              "    }\n",
              "    80% {\n",
              "      border-color: transparent;\n",
              "      border-right-color: var(--fill-color);\n",
              "      border-bottom-color: var(--fill-color);\n",
              "    }\n",
              "    90% {\n",
              "      border-color: transparent;\n",
              "      border-bottom-color: var(--fill-color);\n",
              "    }\n",
              "  }\n",
              "</style>\n",
              "\n",
              "      <script>\n",
              "        async function quickchart(key) {\n",
              "          const quickchartButtonEl =\n",
              "            document.querySelector('#' + key + ' button');\n",
              "          quickchartButtonEl.disabled = true;  // To prevent multiple clicks.\n",
              "          quickchartButtonEl.classList.add('colab-df-spinner');\n",
              "          try {\n",
              "            const charts = await google.colab.kernel.invokeFunction(\n",
              "                'suggestCharts', [key], {});\n",
              "          } catch (error) {\n",
              "            console.error('Error during call to suggestCharts:', error);\n",
              "          }\n",
              "          quickchartButtonEl.classList.remove('colab-df-spinner');\n",
              "          quickchartButtonEl.classList.add('colab-df-quickchart-complete');\n",
              "        }\n",
              "        (() => {\n",
              "          let quickchartButtonEl =\n",
              "            document.querySelector('#df-0dede312-8fc5-4c26-9cf9-22b076bd12b1 button');\n",
              "          quickchartButtonEl.style.display =\n",
              "            google.colab.kernel.accessAllowed ? 'block' : 'none';\n",
              "        })();\n",
              "      </script>\n",
              "    </div>\n",
              "\n",
              "    </div>\n",
              "  </div>\n"
            ],
            "application/vnd.google.colaboratory.intrinsic+json": {
              "type": "dataframe",
              "variable_name": "data",
              "summary": "{\n  \"name\": \"data\",\n  \"rows\": 44898,\n  \"fields\": [\n    {\n      \"column\": \"title\",\n      \"properties\": {\n        \"dtype\": \"string\",\n        \"num_unique_values\": 38729,\n        \"samples\": [\n          \" TransCanada Officially Files $15 Billion Lawsuit Against U.S. For Rejecting KXL Pipline\",\n          \"Trump accuses Mexico's Carlos Slim of trying to help Clinton\",\n          \"White House defends portrayal of 'armada' push toward Korean peninsula\"\n        ],\n        \"semantic_type\": \"\",\n        \"description\": \"\"\n      }\n    },\n    {\n      \"column\": \"text\",\n      \"properties\": {\n        \"dtype\": \"string\",\n        \"num_unique_values\": 38614,\n        \"samples\": [\n          \"changing name something change truth female genital mutilation name used secretive practice muslim world making sure young girls never chance feel sexual pleasure horrific practice destroying genitals girl make sure promiscuous doctor michigan radar many girls cannot accept religious cultural right lawyers doctor trying freedom religion include criminal act mutilating woman genitals lawyer said defend horrible practice defense argued attars engage criminal act procedure issue protected religious riteofpassage involves cutting rather scraping genital membrane also argued attars danger society reason desire flee convincing us district judge bernard friedman release bondthe scraping comment lie girls looked doctor said injuries far worse first thoughthere latesta federal prosecutor dropped bombshell court wednesday telling federal judge government estimates many girls may genitals cut hands local doctor cohortsassistant us attorney sara woodward disclosed information trying convince judge keep doctor wife locked historic case involves allegations two minnesota girls genitals cut livonia clinic february part religious rite passage told keep happened secret due secretive nature procedure unlikely ever know many children cut dr jumana nagarwala woodward said referring lead defendant case later adding minnesota victims first victims read dfp\",\n          \"taya kyle speaks obama regarding illogical strategy new gun control measures\",\n          \"dumbest biggest crime history american politics theres even close second jared yates sexton jysexton july turns little jared wrong donald trump jrrussian collusion story another nothing burger lends credibility theory media allout witch hunt president donald trump apparently hunt extended include members trump familyyates sexton started rant twitter whining followers chasing story year got trumped jr much like father jr went around media took twitter post emails journalists desperate get hands oni chased story year tweeted jared yates sexton jysexton july whining journalist part like spent hours days weeks months son hit tweet jared yates sexton jysexton july whiningi tracked sources followed many dead leads labored know tweeted proof jared yates sexton jysexton july still whininglike many people trying track got delivered tweet hell jared yates sexton jysexton july guessed whiningits bizarre independent journalist work crazy hard hoping something fall lap tweeted jared yates sexton jysexton july fake relief release nothing burger emails none donald trump jr himselffor record im beside relief stuff god cannot believe jared yates sexton jysexton july yates sexton turned ire trump supporters apparently gasp laughing rabid leftist media let fake trumprussian collusion narrative gothe son president released smoking gun people laughing news jared yates sexton jysexton july poor jared well appears baffled trump follow rules put forth mediathis baffling day long long stretch baffling days jared yates sexton jysexton july finally appeal leftist fans surely heartbroken yates sexton suggests followers like style deadend reporting perhaps would enjoy paying book final test love trump hate liberals feel help poor little jared feel better wasting year life chased tail pinning hopes one finally found trumprussia connectionif want read reporting however heres book thats septemberhttpstco qe k pfv jared yates sexton jysexton july\"\n        ],\n        \"semantic_type\": \"\",\n        \"description\": \"\"\n      }\n    },\n    {\n      \"column\": \"subject\",\n      \"properties\": {\n        \"dtype\": \"category\",\n        \"num_unique_values\": 8,\n        \"samples\": [\n          \"worldnews\",\n          \"left-news\",\n          \"politicsNews\"\n        ],\n        \"semantic_type\": \"\",\n        \"description\": \"\"\n      }\n    },\n    {\n      \"column\": \"date\",\n      \"properties\": {\n        \"dtype\": \"category\",\n        \"num_unique_values\": 2397,\n        \"samples\": [\n          \"October 12, 2016 \",\n          \"June 16, 2017 \",\n          \"Oct 30, 2017\"\n        ],\n        \"semantic_type\": \"\",\n        \"description\": \"\"\n      }\n    },\n    {\n      \"column\": \"label\",\n      \"properties\": {\n        \"dtype\": \"number\",\n        \"std\": 0,\n        \"min\": 0,\n        \"max\": 1,\n        \"num_unique_values\": 2,\n        \"samples\": [\n          0,\n          1\n        ],\n        \"semantic_type\": \"\",\n        \"description\": \"\"\n      }\n    }\n  ]\n}"
            }
          },
          "metadata": {},
          "execution_count": 21
        }
      ]
    },
    {
      "cell_type": "code",
      "source": [
        "# tokeniztion and padding\n",
        "max_words = 5000\n",
        "maX_len = 200\n",
        "\n",
        "tokenizer = Tokenizer(num_words=max_words) #tokenizer model\n",
        "tokenizer.fit_on_texts(data['text']) # fit train on the text data\n",
        "sequences = tokenizer.texts_to_sequences(data['text']) # into seq\n",
        "padded_sequences = pad_sequences(sequences,maxlen=maX_len) # seq len\n",
        "\n",
        "X = padded_sequences\n",
        "y = data['label'].values\n"
      ],
      "metadata": {
        "id": "kazqNZWtzFXw"
      },
      "id": "kazqNZWtzFXw",
      "execution_count": 23,
      "outputs": []
    },
    {
      "cell_type": "code",
      "source": [
        "len(X)"
      ],
      "metadata": {
        "colab": {
          "base_uri": "https://localhost:8080/"
        },
        "id": "G01b35s5ztNV",
        "outputId": "02732a9d-8431-41a0-cd83-9bbdf41a8dbd"
      },
      "id": "G01b35s5ztNV",
      "execution_count": 26,
      "outputs": [
        {
          "output_type": "execute_result",
          "data": {
            "text/plain": [
              "44898"
            ]
          },
          "metadata": {},
          "execution_count": 26
        }
      ]
    },
    {
      "cell_type": "code",
      "source": [
        "len(y)"
      ],
      "metadata": {
        "colab": {
          "base_uri": "https://localhost:8080/"
        },
        "id": "9LlKghQR1CEa",
        "outputId": "d11426e3-1658-42c3-c408-7f1f825dab56"
      },
      "id": "9LlKghQR1CEa",
      "execution_count": 27,
      "outputs": [
        {
          "output_type": "execute_result",
          "data": {
            "text/plain": [
              "44898"
            ]
          },
          "metadata": {},
          "execution_count": 27
        }
      ]
    },
    {
      "cell_type": "code",
      "source": [
        "embedding_dim = 100 # using glove 100d\n",
        "embedding_matrix = np.zeros((max_words,embedding_dim))\n",
        "\n",
        "for word, i in tokenizer.word_index.items():\n",
        "  if i < max_words:\n",
        "    embedding_vector = embedding_index.get(word)\n",
        "    if embedding_vector is not None:\n",
        "      embedding_matrix[i] = embedding_vector"
      ],
      "metadata": {
        "id": "L4-UruW71H28"
      },
      "id": "L4-UruW71H28",
      "execution_count": 30,
      "outputs": []
    },
    {
      "cell_type": "code",
      "source": [
        "embedding_matrix"
      ],
      "metadata": {
<<<<<<< HEAD
        "id": "Rkl7K4DV6Jzi",
        "outputId": "26f92b1d-8d06-4fd0-c90a-a47d1371072c",
        "colab": {
          "base_uri": "https://localhost:8080/"
        }
=======
        "colab": {
          "base_uri": "https://localhost:8080/"
        },
        "id": "Rkl7K4DV6Jzi",
        "outputId": "26f92b1d-8d06-4fd0-c90a-a47d1371072c"
>>>>>>> 34d0ebc7af430fdef8b1c6012269787f95af9505
      },
      "id": "Rkl7K4DV6Jzi",
      "execution_count": 31,
      "outputs": [
        {
          "output_type": "execute_result",
          "data": {
            "text/plain": [
              "array([[ 0.        ,  0.        ,  0.        , ...,  0.        ,\n",
              "         0.        ,  0.        ],\n",
              "       [-0.13128   , -0.45199999,  0.043399  , ..., -0.30526   ,\n",
              "        -0.045495  ,  0.56509   ],\n",
              "       [-0.15730999, -0.75502998,  0.36844999, ..., -0.54136997,\n",
              "         0.67817003, -0.17251   ],\n",
              "       ...,\n",
              "       [ 0.85189003,  0.35648999,  0.14484   , ...,  0.57959002,\n",
              "         0.82071   , -0.23049   ],\n",
              "       [-0.072362  , -0.18979   ,  0.92119002, ..., -0.47580001,\n",
              "        -0.36036   ,  0.26363   ],\n",
              "       [ 0.01919   ,  0.11263   ,  0.089312  , ...,  0.31529999,\n",
              "         0.37362   , -0.83552998]])"
            ]
          },
          "metadata": {},
          "execution_count": 31
        }
      ]
    },
    {
      "cell_type": "code",
      "source": [
        "from sklearn.model_selection import train_test_split\n",
        "X_train , X_test ,y_train , y_test = train_test_split(X,y,test_size=0.2,random_state=42)"
      ],
      "metadata": {
        "id": "pC1bIF706ZFZ"
      },
      "id": "pC1bIF706ZFZ",
      "execution_count": 33,
      "outputs": []
    },
    {
      "cell_type": "code",
      "source": [
        "X_train.shape, X_test.shape, y_train.shape, y_test.shape"
      ],
      "metadata": {
<<<<<<< HEAD
        "id": "U0DOfOKn6iqU",
        "outputId": "45cfaa3e-590c-4b1e-ebdf-af97aa629881",
        "colab": {
          "base_uri": "https://localhost:8080/"
        }
=======
        "colab": {
          "base_uri": "https://localhost:8080/"
        },
        "id": "U0DOfOKn6iqU",
        "outputId": "45cfaa3e-590c-4b1e-ebdf-af97aa629881"
>>>>>>> 34d0ebc7af430fdef8b1c6012269787f95af9505
      },
      "id": "U0DOfOKn6iqU",
      "execution_count": 34,
      "outputs": [
        {
          "output_type": "execute_result",
          "data": {
            "text/plain": [
              "((35918, 200), (8980, 200), (35918,), (8980,))"
            ]
          },
          "metadata": {},
          "execution_count": 34
        }
      ]
    },
    {
      "cell_type": "code",
      "source": [
        "model = Sequential([\n",
        "          Embedding(max_words,embedding_dim,input_length=maX_len ,weights=[embedding_matrix],trainable=False),\n",
        "          LSTM(128,return_sequences=True),\n",
        "          Dropout(0.2),\n",
        "          LSTM(64),\n",
        "          Dropout(0.2),\n",
        "          Dense(1,activation='sigmoid')])\n",
        "\n",
        "\n",
        "model.compile(loss='binary_crossentropy',optimizer='adam',metrics=['accuracy'])\n",
        "model.summary()\n",
        "\n",
        "\n",
        "\n",
        "\n",
        "\n",
        ""
      ],
      "metadata": {
<<<<<<< HEAD
        "id": "9B_PjQxZ6qaJ",
        "outputId": "019803cc-af7d-4396-f87c-d062eef446a7",
        "colab": {
          "base_uri": "https://localhost:8080/",
          "height": 377
        }
=======
        "colab": {
          "base_uri": "https://localhost:8080/",
          "height": 377
        },
        "id": "9B_PjQxZ6qaJ",
        "outputId": "019803cc-af7d-4396-f87c-d062eef446a7"
>>>>>>> 34d0ebc7af430fdef8b1c6012269787f95af9505
      },
      "id": "9B_PjQxZ6qaJ",
      "execution_count": 35,
      "outputs": [
        {
          "output_type": "stream",
          "name": "stderr",
          "text": [
            "/usr/local/lib/python3.11/dist-packages/keras/src/layers/core/embedding.py:90: UserWarning: Argument `input_length` is deprecated. Just remove it.\n",
            "  warnings.warn(\n"
          ]
        },
        {
          "output_type": "display_data",
          "data": {
            "text/plain": [
              "\u001b[1mModel: \"sequential\"\u001b[0m\n"
            ],
            "text/html": [
              "<pre style=\"white-space:pre;overflow-x:auto;line-height:normal;font-family:Menlo,'DejaVu Sans Mono',consolas,'Courier New',monospace\"><span style=\"font-weight: bold\">Model: \"sequential\"</span>\n",
              "</pre>\n"
            ]
          },
          "metadata": {}
        },
        {
          "output_type": "display_data",
          "data": {
            "text/plain": [
              "┏━━━━━━━━━━━━━━━━━━━━━━━━━━━━━━━━━┳━━━━━━━━━━━━━━━━━━━━━━━━┳━━━━━━━━━━━━━━━┓\n",
              "┃\u001b[1m \u001b[0m\u001b[1mLayer (type)                   \u001b[0m\u001b[1m \u001b[0m┃\u001b[1m \u001b[0m\u001b[1mOutput Shape          \u001b[0m\u001b[1m \u001b[0m┃\u001b[1m \u001b[0m\u001b[1m      Param #\u001b[0m\u001b[1m \u001b[0m┃\n",
              "┡━━━━━━━━━━━━━━━━━━━━━━━━━━━━━━━━━╇━━━━━━━━━━━━━━━━━━━━━━━━╇━━━━━━━━━━━━━━━┩\n",
              "│ embedding (\u001b[38;5;33mEmbedding\u001b[0m)           │ ?                      │       \u001b[38;5;34m500,000\u001b[0m │\n",
              "├─────────────────────────────────┼────────────────────────┼───────────────┤\n",
              "│ lstm (\u001b[38;5;33mLSTM\u001b[0m)                     │ ?                      │   \u001b[38;5;34m0\u001b[0m (unbuilt) │\n",
              "├─────────────────────────────────┼────────────────────────┼───────────────┤\n",
              "│ dropout (\u001b[38;5;33mDropout\u001b[0m)               │ ?                      │             \u001b[38;5;34m0\u001b[0m │\n",
              "├─────────────────────────────────┼────────────────────────┼───────────────┤\n",
              "│ lstm_1 (\u001b[38;5;33mLSTM\u001b[0m)                   │ ?                      │   \u001b[38;5;34m0\u001b[0m (unbuilt) │\n",
              "├─────────────────────────────────┼────────────────────────┼───────────────┤\n",
              "│ dropout_1 (\u001b[38;5;33mDropout\u001b[0m)             │ ?                      │             \u001b[38;5;34m0\u001b[0m │\n",
              "├─────────────────────────────────┼────────────────────────┼───────────────┤\n",
              "│ dense (\u001b[38;5;33mDense\u001b[0m)                   │ ?                      │   \u001b[38;5;34m0\u001b[0m (unbuilt) │\n",
              "└─────────────────────────────────┴────────────────────────┴───────────────┘\n"
            ],
            "text/html": [
              "<pre style=\"white-space:pre;overflow-x:auto;line-height:normal;font-family:Menlo,'DejaVu Sans Mono',consolas,'Courier New',monospace\">┏━━━━━━━━━━━━━━━━━━━━━━━━━━━━━━━━━┳━━━━━━━━━━━━━━━━━━━━━━━━┳━━━━━━━━━━━━━━━┓\n",
              "┃<span style=\"font-weight: bold\"> Layer (type)                    </span>┃<span style=\"font-weight: bold\"> Output Shape           </span>┃<span style=\"font-weight: bold\">       Param # </span>┃\n",
              "┡━━━━━━━━━━━━━━━━━━━━━━━━━━━━━━━━━╇━━━━━━━━━━━━━━━━━━━━━━━━╇━━━━━━━━━━━━━━━┩\n",
              "│ embedding (<span style=\"color: #0087ff; text-decoration-color: #0087ff\">Embedding</span>)           │ ?                      │       <span style=\"color: #00af00; text-decoration-color: #00af00\">500,000</span> │\n",
              "├─────────────────────────────────┼────────────────────────┼───────────────┤\n",
              "│ lstm (<span style=\"color: #0087ff; text-decoration-color: #0087ff\">LSTM</span>)                     │ ?                      │   <span style=\"color: #00af00; text-decoration-color: #00af00\">0</span> (unbuilt) │\n",
              "├─────────────────────────────────┼────────────────────────┼───────────────┤\n",
              "│ dropout (<span style=\"color: #0087ff; text-decoration-color: #0087ff\">Dropout</span>)               │ ?                      │             <span style=\"color: #00af00; text-decoration-color: #00af00\">0</span> │\n",
              "├─────────────────────────────────┼────────────────────────┼───────────────┤\n",
              "│ lstm_1 (<span style=\"color: #0087ff; text-decoration-color: #0087ff\">LSTM</span>)                   │ ?                      │   <span style=\"color: #00af00; text-decoration-color: #00af00\">0</span> (unbuilt) │\n",
              "├─────────────────────────────────┼────────────────────────┼───────────────┤\n",
              "│ dropout_1 (<span style=\"color: #0087ff; text-decoration-color: #0087ff\">Dropout</span>)             │ ?                      │             <span style=\"color: #00af00; text-decoration-color: #00af00\">0</span> │\n",
              "├─────────────────────────────────┼────────────────────────┼───────────────┤\n",
              "│ dense (<span style=\"color: #0087ff; text-decoration-color: #0087ff\">Dense</span>)                   │ ?                      │   <span style=\"color: #00af00; text-decoration-color: #00af00\">0</span> (unbuilt) │\n",
              "└─────────────────────────────────┴────────────────────────┴───────────────┘\n",
              "</pre>\n"
            ]
          },
          "metadata": {}
        },
        {
          "output_type": "display_data",
          "data": {
            "text/plain": [
              "\u001b[1m Total params: \u001b[0m\u001b[38;5;34m500,000\u001b[0m (1.91 MB)\n"
            ],
            "text/html": [
              "<pre style=\"white-space:pre;overflow-x:auto;line-height:normal;font-family:Menlo,'DejaVu Sans Mono',consolas,'Courier New',monospace\"><span style=\"font-weight: bold\"> Total params: </span><span style=\"color: #00af00; text-decoration-color: #00af00\">500,000</span> (1.91 MB)\n",
              "</pre>\n"
            ]
          },
          "metadata": {}
        },
        {
          "output_type": "display_data",
          "data": {
            "text/plain": [
              "\u001b[1m Trainable params: \u001b[0m\u001b[38;5;34m0\u001b[0m (0.00 B)\n"
            ],
            "text/html": [
              "<pre style=\"white-space:pre;overflow-x:auto;line-height:normal;font-family:Menlo,'DejaVu Sans Mono',consolas,'Courier New',monospace\"><span style=\"font-weight: bold\"> Trainable params: </span><span style=\"color: #00af00; text-decoration-color: #00af00\">0</span> (0.00 B)\n",
              "</pre>\n"
            ]
          },
          "metadata": {}
        },
        {
          "output_type": "display_data",
          "data": {
            "text/plain": [
              "\u001b[1m Non-trainable params: \u001b[0m\u001b[38;5;34m500,000\u001b[0m (1.91 MB)\n"
            ],
            "text/html": [
              "<pre style=\"white-space:pre;overflow-x:auto;line-height:normal;font-family:Menlo,'DejaVu Sans Mono',consolas,'Courier New',monospace\"><span style=\"font-weight: bold\"> Non-trainable params: </span><span style=\"color: #00af00; text-decoration-color: #00af00\">500,000</span> (1.91 MB)\n",
              "</pre>\n"
            ]
          },
          "metadata": {}
        }
      ]
    },
    {
      "cell_type": "code",
      "source": [
        "history = model.fit(X_train,y_train,epochs=5,batch_size=32,validation_data=(X_test,y_test))"
      ],
      "metadata": {
<<<<<<< HEAD
        "id": "iGQALwMY7fI0",
        "outputId": "e0b7c22a-1f70-42fb-bc44-49faf1168d6f",
        "colab": {
          "base_uri": "https://localhost:8080/"
        }
=======
        "colab": {
          "base_uri": "https://localhost:8080/"
        },
        "id": "iGQALwMY7fI0",
        "outputId": "e0b7c22a-1f70-42fb-bc44-49faf1168d6f"
>>>>>>> 34d0ebc7af430fdef8b1c6012269787f95af9505
      },
      "id": "iGQALwMY7fI0",
      "execution_count": 36,
      "outputs": [
        {
          "output_type": "stream",
          "name": "stdout",
          "text": [
            "Epoch 1/5\n",
            "\u001b[1m1123/1123\u001b[0m \u001b[32m━━━━━━━━━━━━━━━━━━━━\u001b[0m\u001b[37m\u001b[0m \u001b[1m27s\u001b[0m 19ms/step - accuracy: 0.8987 - loss: 0.2530 - val_accuracy: 0.9778 - val_loss: 0.0663\n",
            "Epoch 2/5\n",
            "\u001b[1m1123/1123\u001b[0m \u001b[32m━━━━━━━━━━━━━━━━━━━━\u001b[0m\u001b[37m\u001b[0m \u001b[1m20s\u001b[0m 17ms/step - accuracy: 0.9804 - loss: 0.0611 - val_accuracy: 0.9915 - val_loss: 0.0299\n",
            "Epoch 3/5\n",
            "\u001b[1m1123/1123\u001b[0m \u001b[32m━━━━━━━━━━━━━━━━━━━━\u001b[0m\u001b[37m\u001b[0m \u001b[1m21s\u001b[0m 18ms/step - accuracy: 0.9863 - loss: 0.0406 - val_accuracy: 0.9901 - val_loss: 0.0313\n",
            "Epoch 4/5\n",
            "\u001b[1m1123/1123\u001b[0m \u001b[32m━━━━━━━━━━━━━━━━━━━━\u001b[0m\u001b[37m\u001b[0m \u001b[1m21s\u001b[0m 19ms/step - accuracy: 0.9915 - loss: 0.0238 - val_accuracy: 0.9945 - val_loss: 0.0208\n",
            "Epoch 5/5\n",
            "\u001b[1m1123/1123\u001b[0m \u001b[32m━━━━━━━━━━━━━━━━━━━━\u001b[0m\u001b[37m\u001b[0m \u001b[1m22s\u001b[0m 19ms/step - accuracy: 0.9937 - loss: 0.0180 - val_accuracy: 0.9916 - val_loss: 0.0256\n"
          ]
        }
      ]
    },
    {
      "cell_type": "code",
      "source": [
        "loss , accuracy = model.evaluate(X_test,y_test)\n",
        "print(f'loss : {loss} , accuracy : {accuracy}')"
      ],
      "metadata": {
<<<<<<< HEAD
        "id": "4xE3jPCm7uH3",
        "outputId": "16e28b73-4e96-4e4a-c618-cb6150a73c9a",
        "colab": {
          "base_uri": "https://localhost:8080/"
        }
=======
        "colab": {
          "base_uri": "https://localhost:8080/"
        },
        "id": "4xE3jPCm7uH3",
        "outputId": "16e28b73-4e96-4e4a-c618-cb6150a73c9a"
>>>>>>> 34d0ebc7af430fdef8b1c6012269787f95af9505
      },
      "id": "4xE3jPCm7uH3",
      "execution_count": 37,
      "outputs": [
        {
          "output_type": "stream",
          "name": "stdout",
          "text": [
            "\u001b[1m281/281\u001b[0m \u001b[32m━━━━━━━━━━━━━━━━━━━━\u001b[0m\u001b[37m\u001b[0m \u001b[1m2s\u001b[0m 9ms/step - accuracy: 0.9914 - loss: 0.0234\n",
            "loss : 0.02558513544499874 , accuracy : 0.9916480779647827\n"
          ]
        }
      ]
    },
    {
      "cell_type": "code",
      "source": [
        "y_pred = (model.predict(X_test) > 0.5).astype(\"int32\")"
      ],
      "metadata": {
<<<<<<< HEAD
        "id": "7HHQKqo68RlE",
        "outputId": "64863638-4875-4a77-ffc2-ede39647acc1",
        "colab": {
          "base_uri": "https://localhost:8080/"
        }
=======
        "colab": {
          "base_uri": "https://localhost:8080/"
        },
        "id": "7HHQKqo68RlE",
        "outputId": "64863638-4875-4a77-ffc2-ede39647acc1"
>>>>>>> 34d0ebc7af430fdef8b1c6012269787f95af9505
      },
      "id": "7HHQKqo68RlE",
      "execution_count": 40,
      "outputs": [
        {
          "output_type": "stream",
          "name": "stdout",
          "text": [
            "\u001b[1m281/281\u001b[0m \u001b[32m━━━━━━━━━━━━━━━━━━━━\u001b[0m\u001b[37m\u001b[0m \u001b[1m2s\u001b[0m 9ms/step\n"
          ]
        }
      ]
    },
    {
      "cell_type": "code",
      "source": [
        "y_pred"
      ],
      "metadata": {
<<<<<<< HEAD
        "id": "13uroOV28eMR",
        "outputId": "e4b5cae6-3a2b-4fee-915e-2db9332aa59d",
        "colab": {
          "base_uri": "https://localhost:8080/"
        }
=======
        "colab": {
          "base_uri": "https://localhost:8080/"
        },
        "id": "13uroOV28eMR",
        "outputId": "e4b5cae6-3a2b-4fee-915e-2db9332aa59d"
>>>>>>> 34d0ebc7af430fdef8b1c6012269787f95af9505
      },
      "id": "13uroOV28eMR",
      "execution_count": 41,
      "outputs": [
        {
          "output_type": "execute_result",
          "data": {
            "text/plain": [
              "array([[0],\n",
              "       [0],\n",
              "       [0],\n",
              "       ...,\n",
              "       [0],\n",
              "       [1],\n",
              "       [1]], dtype=int32)"
            ]
          },
          "metadata": {},
          "execution_count": 41
        }
      ]
    },
    {
      "cell_type": "code",
      "source": [
        "print(classification_report(y_test,y_pred))"
      ],
      "metadata": {
<<<<<<< HEAD
        "id": "PE1LtIhK8ofn",
        "outputId": "c5a4c24d-ff43-4500-d5a1-3ce2bc38f4e0",
        "colab": {
          "base_uri": "https://localhost:8080/"
        }
=======
        "colab": {
          "base_uri": "https://localhost:8080/"
        },
        "id": "PE1LtIhK8ofn",
        "outputId": "c5a4c24d-ff43-4500-d5a1-3ce2bc38f4e0"
>>>>>>> 34d0ebc7af430fdef8b1c6012269787f95af9505
      },
      "id": "PE1LtIhK8ofn",
      "execution_count": 42,
      "outputs": [
        {
          "output_type": "stream",
          "name": "stdout",
          "text": [
            "              precision    recall  f1-score   support\n",
            "\n",
            "           0       0.99      1.00      0.99      4650\n",
            "           1       1.00      0.99      0.99      4330\n",
            "\n",
            "    accuracy                           0.99      8980\n",
            "   macro avg       0.99      0.99      0.99      8980\n",
            "weighted avg       0.99      0.99      0.99      8980\n",
            "\n"
          ]
        }
      ]
    },
    {
      "cell_type": "code",
      "source": [
<<<<<<< HEAD
        "sns.heatmap(confusion_matrix(y_test,y_pred),annot=True)\n",
        "plt.title('confusion matrix')"
      ],
      "metadata": {
        "id": "xJlhSsHK8xE9",
        "outputId": "3658fba6-6ec3-4171-8cbd-273056533196",
        "colab": {
          "base_uri": "https://localhost:8080/",
          "height": 470
        }
      },
      "id": "xJlhSsHK8xE9",
      "execution_count": 47,
      "outputs": [
        {
          "output_type": "execute_result",
          "data": {
            "text/plain": [
              "Text(0.5, 1.0, 'confusion matrix')"
            ]
          },
          "metadata": {},
          "execution_count": 47
        },
        {
=======
        "sns.heatmap(confusion_matrix(y_test,y_pred),annot=True,fmt='d')\n",
        "plt.title('confusion matrix')\n",
        "plt.show()"
      ],
      "metadata": {
        "colab": {
          "base_uri": "https://localhost:8080/",
          "height": 452
        },
        "id": "xJlhSsHK8xE9",
        "outputId": "daa7714e-a1df-41dd-96cf-7c08be750f81"
      },
      "id": "xJlhSsHK8xE9",
      "execution_count": 50,
      "outputs": [
        {
>>>>>>> 34d0ebc7af430fdef8b1c6012269787f95af9505
          "output_type": "display_data",
          "data": {
            "text/plain": [
              "<Figure size 640x480 with 2 Axes>"
            ],
<<<<<<< HEAD
            "image/png": "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\n"
=======
            "image/png": "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\n"
>>>>>>> 34d0ebc7af430fdef8b1c6012269787f95af9505
          },
          "metadata": {}
        }
      ]
    },
    {
      "cell_type": "code",
<<<<<<< HEAD
      "source": [],
      "metadata": {
        "id": "dpfH_V3D8znL"
      },
      "id": "dpfH_V3D8znL",
=======
      "source": [
        "def predict_news(news):\n",
        "  news = clean_text(news)\n",
        "  seq = tokenizer.texts_to_sequences([news])\n",
        "  padded = pad_sequences(seq,maxlen=maX_len)\n",
        "  pred = model.predict(padded)[0][0]\n",
        "\n",
        "  if pred>=0.5:\n",
        "    print(\"Real News\")\n",
        "  else:\n",
        "    print(\"Fake News\")\n",
        "while True:\n",
        "  user_input = input(\"Enter a news headline (or 'exit' to quit): \")\n",
        "  if user_input.lower() == 'exit':\n",
        "    break\n",
        "  predict_news(user_input)\n"
      ],
      "metadata": {
        "colab": {
          "base_uri": "https://localhost:8080/"
        },
        "id": "dpfH_V3D8znL",
        "outputId": "80a593aa-33af-4236-84ab-04537dc5bfc2"
      },
      "id": "dpfH_V3D8znL",
      "execution_count": 51,
      "outputs": [
        {
          "name": "stdout",
          "output_type": "stream",
          "text": [
            "Enter a news headline (or 'exit' to quit): Alien have landed on earth\n",
            "\u001b[1m1/1\u001b[0m \u001b[32m━━━━━━━━━━━━━━━━━━━━\u001b[0m\u001b[37m\u001b[0m \u001b[1m0s\u001b[0m 114ms/step\n",
            "Fake News\n",
            "Enter a news headline (or 'exit' to quit): he is a boy\n",
            "\u001b[1m1/1\u001b[0m \u001b[32m━━━━━━━━━━━━━━━━━━━━\u001b[0m\u001b[37m\u001b[0m \u001b[1m0s\u001b[0m 35ms/step\n",
            "Fake News\n",
            "Enter a news headline (or 'exit' to quit): washington is in usa\n",
            "\u001b[1m1/1\u001b[0m \u001b[32m━━━━━━━━━━━━━━━━━━━━\u001b[0m\u001b[37m\u001b[0m \u001b[1m0s\u001b[0m 35ms/step\n",
            "Fake News\n",
            "Enter a news headline (or 'exit' to quit): exit\n"
          ]
        }
      ]
    },
    {
      "cell_type": "markdown",
      "source": [],
      "metadata": {
        "id": "0EkrDJ1c_ux2"
      },
      "id": "0EkrDJ1c_ux2"
    },
    {
      "cell_type": "code",
      "source": [],
      "metadata": {
        "id": "6919CbKe_rmQ"
      },
      "id": "6919CbKe_rmQ",
>>>>>>> 34d0ebc7af430fdef8b1c6012269787f95af9505
      "execution_count": null,
      "outputs": []
    }
  ],
  "metadata": {
    "language_info": {
      "name": "python"
    },
    "colab": {
      "provenance": [],
      "gpuType": "T4"
    },
    "kernelspec": {
      "name": "python3",
      "display_name": "Python 3"
    },
    "accelerator": "GPU"
  },
  "nbformat": 4,
  "nbformat_minor": 5
}