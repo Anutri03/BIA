{
 "cells": [
  {
   "cell_type": "code",
   "execution_count": 1,
   "id": "c53a6f4a",
   "metadata": {},
   "outputs": [
    {
     "name": "stderr",
     "output_type": "stream",
     "text": [
      "[nltk_data] Downloading package punkt_tab to C:\\Users\\Anurag\n",
      "[nltk_data]     Tripathi\\AppData\\Roaming\\nltk_data...\n",
      "[nltk_data]   Package punkt_tab is already up-to-date!\n",
      "[nltk_data] Downloading package stopwords to C:\\Users\\Anurag\n",
      "[nltk_data]     Tripathi\\AppData\\Roaming\\nltk_data...\n",
      "[nltk_data]   Package stopwords is already up-to-date!\n"
     ]
    },
    {
     "data": {
      "text/plain": [
       "True"
      ]
     },
     "execution_count": 1,
     "metadata": {},
     "output_type": "execute_result"
    }
   ],
   "source": [
    "import nltk\n",
    "from nltk.corpus import stopwords\n",
    "from nltk.tokenize import word_tokenize\n",
    "import string\n",
    "import pandas as pd\n",
    "import warnings\n",
    "warnings.filterwarnings(\"ignore\")\n",
    "\n",
    "nltk.download('punkt_tab')\n",
    "nltk.download('stopwords')"
   ]
  },
  {
   "cell_type": "code",
   "execution_count": 2,
   "id": "da846089",
   "metadata": {},
   "outputs": [],
   "source": [
    "text = \"This is a sample text, with some punctuation! Let's see how it works.\""
   ]
  },
  {
   "cell_type": "code",
   "execution_count": 3,
   "id": "fb3c5945",
   "metadata": {},
   "outputs": [],
   "source": [
    "words = word_tokenize(text)\n"
   ]
  },
  {
   "cell_type": "code",
   "execution_count": 4,
   "id": "bf180089",
   "metadata": {},
   "outputs": [
    {
     "data": {
      "text/plain": [
       "['This',\n",
       " 'is',\n",
       " 'a',\n",
       " 'sample',\n",
       " 'text',\n",
       " ',',\n",
       " 'with',\n",
       " 'some',\n",
       " 'punctuation',\n",
       " '!',\n",
       " 'Let',\n",
       " \"'s\",\n",
       " 'see',\n",
       " 'how',\n",
       " 'it',\n",
       " 'works',\n",
       " '.']"
      ]
     },
     "execution_count": 4,
     "metadata": {},
     "output_type": "execute_result"
    }
   ],
   "source": [
    "words "
   ]
  },
  {
   "cell_type": "code",
   "execution_count": 5,
   "id": "2526f90e",
   "metadata": {},
   "outputs": [],
   "source": [
    "cleaned_words = [word.lower() for word in words if word.isalpha()]  # Convert to lowercase"
   ]
  },
  {
   "cell_type": "code",
   "execution_count": 7,
   "id": "5f4342cc",
   "metadata": {},
   "outputs": [],
   "source": [
    "stop_words = set(stopwords.words('english'))"
   ]
  },
  {
   "cell_type": "code",
   "execution_count": 10,
   "id": "7b16f71f",
   "metadata": {},
   "outputs": [],
   "source": [
    "filtered_words = [word for word in cleaned_words if word not in stop_words]"
   ]
  },
  {
   "cell_type": "code",
   "execution_count": 11,
   "id": "7dc62dd3",
   "metadata": {},
   "outputs": [
    {
     "data": {
      "text/plain": [
       "['sample', 'text', 'punctuation', 'let', 'see', 'works']"
      ]
     },
     "execution_count": 11,
     "metadata": {},
     "output_type": "execute_result"
    }
   ],
   "source": [
    "filtered_words "
   ]
  },
  {
   "cell_type": "code",
   "execution_count": 12,
   "id": "176d37d4",
   "metadata": {},
   "outputs": [
    {
     "name": "stdout",
     "output_type": "stream",
     "text": [
      "Original Text: This is a sample text, with some punctuation! Let's see how it works.\n"
     ]
    }
   ],
   "source": [
    "print(\"Original Text:\", text)"
   ]
  },
  {
   "cell_type": "code",
   "execution_count": 13,
   "id": "55b6e475",
   "metadata": {},
   "outputs": [
    {
     "name": "stdout",
     "output_type": "stream",
     "text": [
      "cleaned_words: ['this', 'is', 'a', 'sample', 'text', 'with', 'some', 'punctuation', 'let', 'see', 'how', 'it', 'works']\n"
     ]
    }
   ],
   "source": [
    "print(\"cleaned_words:\", cleaned_words)"
   ]
  },
  {
   "cell_type": "code",
   "execution_count": 14,
   "id": "15db2b06",
   "metadata": {},
   "outputs": [
    {
     "name": "stdout",
     "output_type": "stream",
     "text": [
      "filtered_words: ['sample', 'text', 'punctuation', 'let', 'see', 'works']\n"
     ]
    }
   ],
   "source": [
    "print(\"filtered_words:\", filtered_words)"
   ]
  },
  {
   "cell_type": "code",
   "execution_count": null,
   "id": "24ce1a7e",
   "metadata": {},
   "outputs": [],
   "source": []
  }
 ],
 "metadata": {
  "kernelspec": {
   "display_name": "gpu",
   "language": "python",
   "name": "python3"
  },
  "language_info": {
   "codemirror_mode": {
    "name": "ipython",
    "version": 3
   },
   "file_extension": ".py",
   "mimetype": "text/x-python",
   "name": "python",
   "nbconvert_exporter": "python",
   "pygments_lexer": "ipython3",
   "version": "3.10.16"
  }
 },
 "nbformat": 4,
 "nbformat_minor": 5
}
